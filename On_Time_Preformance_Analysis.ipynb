{
 "cells": [
  {
   "attachments": {},
   "cell_type": "markdown",
   "metadata": {},
   "source": [
    "# Analyzing On Time Preformance Statistics \n",
    "\n",
    "1. Conduct Exploratory Data Analysis on On time preformance metrics accross all Airlines between any two routes \n",
    "2. Develop a robost pipeline to extract useful metrics and novel network attributes \n",
    "3. Filter On Time data to current network level nodes\n",
    "4. Clean the data and conduct data imputation \n",
    "5. Develop a pipeline to fit a density estimate and extract key metrics\n",
    "6. Define statistical processes to model the probability of delay over time for a single route"
   ]
  },
  {
   "attachments": {},
   "cell_type": "markdown",
   "metadata": {},
   "source": [
    "Data Extraction and Preprocessing \n",
    "\n",
    "Pull Data --> CLean Data --> Filter Data to match edge table --> Develop r.v.s --> Determine optimal bw --> Apply KDE fit for all r.v.s --> \n",
    "\n"
   ]
  },
  {
   "cell_type": "code",
   "execution_count": 1,
   "metadata": {},
   "outputs": [],
   "source": [
    "# import relevant libraries \n",
    "\n",
    "import pandas as pd\n",
    "import numpy as np\n",
    "import matplotlib.pyplot as plt"
   ]
  },
  {
   "cell_type": "code",
   "execution_count": 2,
   "metadata": {},
   "outputs": [
    {
     "name": "stdout",
     "output_type": "stream",
     "text": [
      "362    19393\n",
      "Name: Code, dtype: int64\n"
     ]
    }
   ],
   "source": [
    "# read in airline on time preformance data\n",
    "on_time_data = pd.read_csv('Database/August 2018 Nationwide.csv')\n",
    "# generate new column for the foreign key (route- origin-destination key)\n",
    "on_time_data['citypair'] = on_time_data['ORIGIN'].astype(str) + '-' + on_time_data['DEST']   # dataset 4\n",
    "# read in the dataset - DOT airline on time performance statistics\n",
    "on_time_data_carriers = pd.read_csv('Database/Air Carriers.csv')\n",
    "# extract corresponding code for southwest airlines\n",
    "sw_carrier_code = on_time_data_carriers.loc[on_time_data_carriers['Description'] == \"Southwest Airlines Co.: WN\", 'Code']\n",
    "print(sw_carrier_code) "
   ]
  },
  {
   "cell_type": "code",
   "execution_count": 3,
   "metadata": {},
   "outputs": [
    {
     "data": {
      "text/html": [
       "<div>\n",
       "<style scoped>\n",
       "    .dataframe tbody tr th:only-of-type {\n",
       "        vertical-align: middle;\n",
       "    }\n",
       "\n",
       "    .dataframe tbody tr th {\n",
       "        vertical-align: top;\n",
       "    }\n",
       "\n",
       "    .dataframe thead th {\n",
       "        text-align: right;\n",
       "    }\n",
       "</style>\n",
       "<table border=\"1\" class=\"dataframe\">\n",
       "  <thead>\n",
       "    <tr style=\"text-align: right;\">\n",
       "      <th></th>\n",
       "      <th>FL_DATE</th>\n",
       "      <th>DEP_DELAY_NEW</th>\n",
       "      <th>ARR_DELAY_NEW</th>\n",
       "      <th>CANCELLED</th>\n",
       "      <th>ACTUAL_ELAPSED_TIME</th>\n",
       "      <th>citypair</th>\n",
       "    </tr>\n",
       "  </thead>\n",
       "  <tbody>\n",
       "    <tr>\n",
       "      <th>0</th>\n",
       "      <td>8/1/2018</td>\n",
       "      <td>9.0</td>\n",
       "      <td>44.0</td>\n",
       "      <td>0</td>\n",
       "      <td>377.0</td>\n",
       "      <td>JFK-PHX</td>\n",
       "    </tr>\n",
       "    <tr>\n",
       "      <th>1</th>\n",
       "      <td>8/1/2018</td>\n",
       "      <td>29.0</td>\n",
       "      <td>53.0</td>\n",
       "      <td>0</td>\n",
       "      <td>309.0</td>\n",
       "      <td>PHX-EWR</td>\n",
       "    </tr>\n",
       "    <tr>\n",
       "      <th>2</th>\n",
       "      <td>8/1/2018</td>\n",
       "      <td>0.0</td>\n",
       "      <td>0.0</td>\n",
       "      <td>0</td>\n",
       "      <td>177.0</td>\n",
       "      <td>CLE-DFW</td>\n",
       "    </tr>\n",
       "    <tr>\n",
       "      <th>3</th>\n",
       "      <td>8/1/2018</td>\n",
       "      <td>44.0</td>\n",
       "      <td>43.0</td>\n",
       "      <td>0</td>\n",
       "      <td>303.0</td>\n",
       "      <td>SJU-DFW</td>\n",
       "    </tr>\n",
       "    <tr>\n",
       "      <th>4</th>\n",
       "      <td>8/1/2018</td>\n",
       "      <td>0.0</td>\n",
       "      <td>0.0</td>\n",
       "      <td>0</td>\n",
       "      <td>175.0</td>\n",
       "      <td>AUS-MIA</td>\n",
       "    </tr>\n",
       "    <tr>\n",
       "      <th>...</th>\n",
       "      <td>...</td>\n",
       "      <td>...</td>\n",
       "      <td>...</td>\n",
       "      <td>...</td>\n",
       "      <td>...</td>\n",
       "      <td>...</td>\n",
       "    </tr>\n",
       "    <tr>\n",
       "      <th>701347</th>\n",
       "      <td>8/31/2018</td>\n",
       "      <td>0.0</td>\n",
       "      <td>0.0</td>\n",
       "      <td>0</td>\n",
       "      <td>150.0</td>\n",
       "      <td>SLC-DFW</td>\n",
       "    </tr>\n",
       "    <tr>\n",
       "      <th>701348</th>\n",
       "      <td>8/31/2018</td>\n",
       "      <td>0.0</td>\n",
       "      <td>12.0</td>\n",
       "      <td>0</td>\n",
       "      <td>226.0</td>\n",
       "      <td>TUS-ORD</td>\n",
       "    </tr>\n",
       "    <tr>\n",
       "      <th>701349</th>\n",
       "      <td>8/31/2018</td>\n",
       "      <td>2.0</td>\n",
       "      <td>0.0</td>\n",
       "      <td>0</td>\n",
       "      <td>182.0</td>\n",
       "      <td>DFW-LAX</td>\n",
       "    </tr>\n",
       "    <tr>\n",
       "      <th>701350</th>\n",
       "      <td>8/31/2018</td>\n",
       "      <td>0.0</td>\n",
       "      <td>0.0</td>\n",
       "      <td>0</td>\n",
       "      <td>304.0</td>\n",
       "      <td>LAX-MCO</td>\n",
       "    </tr>\n",
       "    <tr>\n",
       "      <th>701351</th>\n",
       "      <td>8/31/2018</td>\n",
       "      <td>76.0</td>\n",
       "      <td>59.0</td>\n",
       "      <td>0</td>\n",
       "      <td>141.0</td>\n",
       "      <td>MIA-DCA</td>\n",
       "    </tr>\n",
       "  </tbody>\n",
       "</table>\n",
       "<p>701352 rows × 6 columns</p>\n",
       "</div>"
      ],
      "text/plain": [
       "          FL_DATE  DEP_DELAY_NEW  ARR_DELAY_NEW  CANCELLED  \\\n",
       "0        8/1/2018            9.0           44.0          0   \n",
       "1        8/1/2018           29.0           53.0          0   \n",
       "2        8/1/2018            0.0            0.0          0   \n",
       "3        8/1/2018           44.0           43.0          0   \n",
       "4        8/1/2018            0.0            0.0          0   \n",
       "...           ...            ...            ...        ...   \n",
       "701347  8/31/2018            0.0            0.0          0   \n",
       "701348  8/31/2018            0.0           12.0          0   \n",
       "701349  8/31/2018            2.0            0.0          0   \n",
       "701350  8/31/2018            0.0            0.0          0   \n",
       "701351  8/31/2018           76.0           59.0          0   \n",
       "\n",
       "        ACTUAL_ELAPSED_TIME citypair  \n",
       "0                     377.0  JFK-PHX  \n",
       "1                     309.0  PHX-EWR  \n",
       "2                     177.0  CLE-DFW  \n",
       "3                     303.0  SJU-DFW  \n",
       "4                     175.0  AUS-MIA  \n",
       "...                     ...      ...  \n",
       "701347                150.0  SLC-DFW  \n",
       "701348                226.0  TUS-ORD  \n",
       "701349                182.0  DFW-LAX  \n",
       "701350                304.0  LAX-MCO  \n",
       "701351                141.0  MIA-DCA  \n",
       "\n",
       "[701352 rows x 6 columns]"
      ]
     },
     "execution_count": 3,
     "metadata": {},
     "output_type": "execute_result"
    }
   ],
   "source": [
    "# clean the data\n",
    "on_time_data = on_time_data.drop(['OP_CARRIER_FL_NUM', 'DEP_DELAY', 'ARR_DELAY', 'ORIGIN', 'DEST', 'CRS_ELAPSED_TIME', 'ORIGIN_AIRPORT_ID','DEST_AIRPORT_ID','CARRIER_DELAY','WEATHER_DELAY','NAS_DELAY','LATE_AIRCRAFT_DELAY'], axis=1)\n",
    "\n",
    "on_time_data"
   ]
  },
  {
   "attachments": {},
   "cell_type": "markdown",
   "metadata": {},
   "source": [
    "## Part I: Exploratory Data Analysis and Data Cleaning"
   ]
  },
  {
   "cell_type": "code",
   "execution_count": 4,
   "metadata": {},
   "outputs": [
    {
     "name": "stdout",
     "output_type": "stream",
     "text": [
      "amount of data in on time stats 1211\n",
      "Missing Data for 29 routes; proportion of missing data: 0.02338709677419355\n"
     ]
    }
   ],
   "source": [
    "# import edge table data and filter on time statistics data records accordingly\n",
    "\n",
    "edge_data = pd.read_csv('Database\\FINAL_EDGE_TABLE.csv')\n",
    "list_of_routes = edge_data['citypair'].to_list()\n",
    "\n",
    "fltrd_on_time = on_time_data[on_time_data['citypair'].isin(list_of_routes)]\n",
    "unique_city_pairs = len(set(fltrd_on_time['citypair'].to_list()))\n",
    "\n",
    "# check the amount of data accounted for   There are 1240 original edges \n",
    "print('amount of data in on time stats', unique_city_pairs)   # missing data for 1240 - 1211 routes \n",
    "print('Missing Data for', 1240 - 1211, 'routes;', 'proportion of missing data:', (1240 - 1211)/1240 )"
   ]
  },
  {
   "cell_type": "code",
   "execution_count": 5,
   "metadata": {},
   "outputs": [
    {
     "data": {
      "text/plain": [
       "Unnamed: 0.2                            0\n",
       "Unnamed: 0                              0\n",
       "Unnamed: 0.1                            0\n",
       "citypair                                0\n",
       "sum_departures_performed                0\n",
       "sum_departures_scheduled                0\n",
       "passengers                              0\n",
       "seats                                   0\n",
       "avg_fuel_price                          0\n",
       "avg_stock_price                         0\n",
       "total_operating_expense                 0\n",
       "revenue                                 0\n",
       "Aircraft_Unit_Cost ($ millions USD)     0\n",
       "Aircraft_Inverse_Age 1/age (1/yrs)      0\n",
       "Number_of_Cancellations                 0\n",
       "Proportion of Seats filled              0\n",
       "Aircraft Age (yrs)                      0\n",
       "Origin_Airport_Code                     0\n",
       "Destination_Airport_Code                0\n",
       "origin_airport_type                     0\n",
       "origin_lat                              0\n",
       "origin_long                             0\n",
       "origin_city                             0\n",
       "dest_airport_type                       0\n",
       "dest_lat                                0\n",
       "dest_long                               0\n",
       "dest_city                               0\n",
       "Route_Distance                          0\n",
       "origin_population                      67\n",
       "origin_density                         67\n",
       "dest_population                        67\n",
       "dest_density                           67\n",
       "DEP_DELAY_NEW                           0\n",
       "ARR_DELAY_NEW                           0\n",
       "CANCELLED                               0\n",
       "dtype: int64"
      ]
     },
     "execution_count": 5,
     "metadata": {},
     "output_type": "execute_result"
    }
   ],
   "source": [
    "edge_data.isna().sum()"
   ]
  },
  {
   "cell_type": "code",
   "execution_count": 6,
   "metadata": {},
   "outputs": [
    {
     "name": "stderr",
     "output_type": "stream",
     "text": [
      "100%|██████████| 1240/1240 [00:18<00:00, 65.50it/s]\n"
     ]
    }
   ],
   "source": [
    "# function to filter main dataframe by citypair id\n",
    "\n",
    "from tqdm import tqdm\n",
    "from joblib import Parallel, delayed\n",
    "\n",
    "def filter_ontime_data(citypair_id): \n",
    "    # NOTE: citypair_id --> string-64-bit for the citypair key \n",
    "    df = fltrd_on_time.loc[fltrd_on_time['citypair'] == citypair_id]\n",
    "    return df\n",
    "# test the number of entries in each dataframe filter\n",
    "df_lengths = np.zeros(len(list_of_routes))\n",
    "for i in tqdm(range(len(list_of_routes))):\n",
    "    df_lengths[i] = len(filter_ontime_data(list_of_routes[i]))"
   ]
  },
  {
   "cell_type": "code",
   "execution_count": 7,
   "metadata": {},
   "outputs": [
    {
     "name": "stdout",
     "output_type": "stream",
     "text": [
      "Unnamed: 0.2                            0\n",
      "Unnamed: 0                              0\n",
      "Unnamed: 0.1                            0\n",
      "citypair                                0\n",
      "sum_departures_performed                0\n",
      "sum_departures_scheduled                0\n",
      "passengers                              0\n",
      "seats                                   0\n",
      "avg_fuel_price                          0\n",
      "avg_stock_price                         0\n",
      "total_operating_expense                 0\n",
      "revenue                                 0\n",
      "Aircraft_Unit_Cost ($ millions USD)     0\n",
      "Aircraft_Inverse_Age 1/age (1/yrs)      0\n",
      "Number_of_Cancellations                 0\n",
      "Proportion of Seats filled              0\n",
      "Aircraft Age (yrs)                      0\n",
      "Origin_Airport_Code                     0\n",
      "Destination_Airport_Code                0\n",
      "origin_airport_type                     0\n",
      "origin_lat                              0\n",
      "origin_long                             0\n",
      "origin_city                             0\n",
      "dest_airport_type                       0\n",
      "dest_lat                                0\n",
      "dest_long                               0\n",
      "dest_city                               0\n",
      "Route_Distance                          0\n",
      "origin_population                      67\n",
      "origin_density                         67\n",
      "dest_population                        67\n",
      "dest_density                           67\n",
      "DEP_DELAY_NEW                           0\n",
      "ARR_DELAY_NEW                           0\n",
      "CANCELLED                               0\n",
      "dtype: int64\n"
     ]
    }
   ],
   "source": [
    "# compile data together to get aggregate table\n",
    "\n",
    "on_time_fin = fltrd_on_time.groupby('citypair').agg({'DEP_DELAY_NEW':'mean','ARR_DELAY_NEW':'mean', 'CANCELLED':'mean'})\n",
    "on_time_fin = on_time_fin.reset_index()\n",
    "# merge together the data\n",
    "edge_data = edge_data.merge(on_time_fin, how='left')\n",
    "# check null values \n",
    "nan_count = edge_data.isna().sum()\n",
    "print(nan_count)\n",
    "# there are once again 29 missing data points # we will replace these values by further data imputation later"
   ]
  },
  {
   "cell_type": "code",
   "execution_count": 8,
   "metadata": {},
   "outputs": [],
   "source": [
    "# fill in null values with the mean\n",
    "edge_data['DEP_DELAY_NEW'].fillna(value=0, inplace=True)\n",
    "edge_data['ARR_DELAY_NEW'].fillna(value=0, inplace=True)\n",
    "edge_data['CANCELLED'].fillna(value=0, inplace=True)"
   ]
  },
  {
   "cell_type": "code",
   "execution_count": 9,
   "metadata": {},
   "outputs": [
    {
     "data": {
      "text/plain": [
       "Unnamed: 0.2                            0\n",
       "Unnamed: 0                              0\n",
       "Unnamed: 0.1                            0\n",
       "citypair                                0\n",
       "sum_departures_performed                0\n",
       "sum_departures_scheduled                0\n",
       "passengers                              0\n",
       "seats                                   0\n",
       "avg_fuel_price                          0\n",
       "avg_stock_price                         0\n",
       "total_operating_expense                 0\n",
       "revenue                                 0\n",
       "Aircraft_Unit_Cost ($ millions USD)     0\n",
       "Aircraft_Inverse_Age 1/age (1/yrs)      0\n",
       "Number_of_Cancellations                 0\n",
       "Proportion of Seats filled              0\n",
       "Aircraft Age (yrs)                      0\n",
       "Origin_Airport_Code                     0\n",
       "Destination_Airport_Code                0\n",
       "origin_airport_type                     0\n",
       "origin_lat                              0\n",
       "origin_long                             0\n",
       "origin_city                             0\n",
       "dest_airport_type                       0\n",
       "dest_lat                                0\n",
       "dest_long                               0\n",
       "dest_city                               0\n",
       "Route_Distance                          0\n",
       "origin_population                      67\n",
       "origin_density                         67\n",
       "dest_population                        67\n",
       "dest_density                           67\n",
       "DEP_DELAY_NEW                           0\n",
       "ARR_DELAY_NEW                           0\n",
       "CANCELLED                               0\n",
       "dtype: int64"
      ]
     },
     "execution_count": 9,
     "metadata": {},
     "output_type": "execute_result"
    }
   ],
   "source": [
    "edge_data.isna().sum()"
   ]
  },
  {
   "cell_type": "code",
   "execution_count": 10,
   "metadata": {},
   "outputs": [],
   "source": [
    "# save the file again as updated csv\n",
    "edge_data.to_csv('Database/FINAL_EDGE_TABLE.csv')"
   ]
  },
  {
   "attachments": {},
   "cell_type": "markdown",
   "metadata": {},
   "source": [
    "### Distribution of Cancellation Probabilities, Avg Departure Delay Time, Avg Arrival Delay Time"
   ]
  },
  {
   "cell_type": "code",
   "execution_count": 11,
   "metadata": {},
   "outputs": [
    {
     "data": {
      "image/png": "[encoded data removed]",
      "text/plain": [
       "<Figure size 432x288 with 1 Axes>"
      ]
     },
     "metadata": {
      "needs_background": "light"
     },
     "output_type": "display_data"
    },
    {
     "data": {
      "image/png": "[encoded data removed]",
      "text/plain": [
       "<Figure size 432x288 with 1 Axes>"
      ]
     },
     "metadata": {
      "needs_background": "light"
     },
     "output_type": "display_data"
    },
    {
     "data": {
      "image/png": "[encoded data removed]",
      "text/plain": [
       "<Figure size 432x288 with 1 Axes>"
      ]
     },
     "metadata": {
      "needs_background": "light"
     },
     "output_type": "display_data"
    }
   ],
   "source": [
    "delay_vals = on_time_data['DEP_DELAY_NEW'].to_list()\n",
    "arrival_vals = on_time_data['ARR_DELAY_NEW'].to_list()\n",
    "cancel_vals = on_time_fin['CANCELLED'].to_list()\n",
    "\n",
    "\n",
    "plt.hist(delay_vals,bins=500)\n",
    "plt.title('Distribution of Departure Delay Times for over 700,000 flights')\n",
    "plt.xlabel('Delay Time (min)')\n",
    "plt.ylabel('count')\n",
    "plt.xlim([0,100])\n",
    "plt.show()\n",
    "\n",
    "plt.hist(arrival_vals,bins=500)\n",
    "plt.title('Distribution of Arrival Delay Times for over 700,000 flights')\n",
    "plt.xlabel('Delay Time (min)')\n",
    "plt.ylabel('count')\n",
    "plt.xlim([0,100])\n",
    "plt.show()\n",
    "\n",
    "plt.hist(cancel_vals,bins=50)\n",
    "plt.title('Distribution of Cancelation Probabilities')\n",
    "plt.xlabel('Probability of Cancelation')\n",
    "plt.ylabel('count')\n",
    "plt.xlim([0,0.10])\n",
    "plt.show()"
   ]
  },
  {
   "attachments": {},
   "cell_type": "markdown",
   "metadata": {},
   "source": [
    "## Part II: Kernel Density Estimation\n",
    "\n",
    "Define the following random variables for each airline route i $\\in$ {list_of_routes}\n",
    "\n",
    "1. $D_{i}$ ~ departure delay time  (continuous r.v.) ~ KDE distribution\n",
    "2. $A_{i}$ ~ arrival delay time  (continuous r.v.) ~ KDE distribution\n",
    "3. $T_{i}$ ~ duration time (continuous r.v.) ~ KDE distribution\n",
    "4. $C_{i}$ ~ cancellation (discrete binomial r.v.) ~ $ \\binom{n}{x}  p^{x} *  (1 - p)^{n-x}$, where p ~ probability of a flight on route i being canceled\n",
    "\n"
   ]
  },
  {
   "attachments": {},
   "cell_type": "markdown",
   "metadata": {},
   "source": [
    "### Methods for Optimal Bandwidth Determination for KDEs\n",
    "\n",
    "Bandwidth is an important parameter to calculate for Kernel Density Estimation. A large Bandwidth value can produce a non-parametric based distribution with high bias or oversmoothing, whereas a small Bandwidth has a larger variance or undersmoothing.\n",
    "\n",
    "Methodology : \n",
    "\n",
    "We consider the following method for Optimal Bandwidth Extraction:\n",
    "\n",
    "### Maximum Likelihood Cross Validation \n",
    "\n",
    "Consider the following Objective function given a Kernel Function\n",
    "\n",
    "### $ MLCV_{max} = \\frac{1}{n} \\sum_{i=1}^{n} log[\\sum_{x_j} K(\\frac{x_j - x_i}{h})] - log[(n-1)h]$\n",
    "\n",
    "\n",
    "We wish to select a bandwidth value which maximizes this objective function"
   ]
  },
  {
   "cell_type": "code",
   "execution_count": 12,
   "metadata": {},
   "outputs": [],
   "source": [
    "def optimal_bw(data_vec):\n",
    "\n",
    "    def obj_func_2(data_vec, h, x):\n",
    "        '''\n",
    "        Goal: return objective function value of the log likelihood probabilities\n",
    "        Parameters:\n",
    "            data_vec (python list-like object): contains the sample x_i data \n",
    "            h (float-64 bit): bandwidth value to test\n",
    "            x (python list-like object): support of r.v. to evaluate KDE over\n",
    "        '''\n",
    "\n",
    "        # extract total no. of data points\n",
    "        N = len(data_vec)\n",
    "        M = len(x)\n",
    "\n",
    "        vec2 = data_vec.copy()\n",
    "        vec2.sort()\n",
    "\n",
    "        kde_estimates = np.zeros([M, N])\n",
    "\n",
    "        for i in range(N):\n",
    "            for j in range(M):\n",
    "                if vec2[i] == x[j]:\n",
    "                    kde_estimates[j][i] = 0\n",
    "                else:\n",
    "                    iterate = (x[j] - vec2[i]) / h\n",
    "                    kernel_estimate = 1/(np.sqrt(2*np.pi)) * \\\n",
    "                        (np.e**(-0.5 * (iterate)**2))\n",
    "                    kde_estimates[j][i] = kernel_estimate\n",
    "\n",
    "        log_sum = np.log(np.sum(kde_estimates, axis=0))\n",
    "\n",
    "        filter_term = np.log((N-1)*h)\n",
    "\n",
    "        rslt_mean = np.average(log_sum - filter_term)\n",
    "\n",
    "        return rslt_mean\n",
    "\n",
    "    bandwidths = list(np.arange(0.01, 0.4, 0.001))\n",
    "    obj_function_vals = []\n",
    "    x = np.arange(min(data_vec)-0.7, max(data_vec)+0.7)\n",
    "\n",
    "    for bw in bandwidths:\n",
    "        obj_function_vals.append(obj_func_2(data_vec, bw, x))\n",
    "\n",
    "    max_val = max(obj_function_vals)\n",
    "    filtered = [x for x in obj_function_vals if np.abs(max_val - x) < 0.035]\n",
    "    ind = obj_function_vals.index(max_val)\n",
    "    h = bandwidths[ind]\n",
    "\n",
    "    return h"
   ]
  },
  {
   "cell_type": "code",
   "execution_count": 13,
   "metadata": {},
   "outputs": [
    {
     "data": {
      "text/plain": [
       "FL_DATE                    0\n",
       "DEP_DELAY_NEW              0\n",
       "ARR_DELAY_NEW              0\n",
       "CANCELLED                  0\n",
       "ACTUAL_ELAPSED_TIME    16514\n",
       "citypair                   0\n",
       "dtype: int64"
      ]
     },
     "execution_count": 13,
     "metadata": {},
     "output_type": "execute_result"
    }
   ],
   "source": [
    "on_time_data['DEP_DELAY_NEW'].fillna(value=on_time_data['DEP_DELAY_NEW'].mean(), inplace=True)\n",
    "on_time_data['ARR_DELAY_NEW'].fillna(value=on_time_data['ARR_DELAY_NEW'].mean(), inplace=True)\n",
    "on_time_data['CANCELLED'].fillna(value=0, inplace=True)\n",
    "# check the null values \n",
    "on_time_data.isna().sum()"
   ]
  },
  {
   "attachments": {},
   "cell_type": "markdown",
   "metadata": {},
   "source": [
    "Strategy for extracting KDE distribution estimates\n",
    "\n",
    "Extract data vector --> optimal bw determination --> KDE fit --> extract distribution estimate --> sample r.v.s"
   ]
  },
  {
   "cell_type": "code",
   "execution_count": 14,
   "metadata": {},
   "outputs": [],
   "source": [
    "# create a general function to find optimal parameter and apply KDE fit\n",
    "\n",
    "from scipy.stats import gaussian_kde, norm\n",
    "\n",
    "def kde_dist_fit(citypair, metric):\n",
    "    # parameter: citypair key word \n",
    "    # parameter: metric to extract estimate for : {DEP_DELAY_NEW, ARR_DELAY_NEW}\n",
    "    # x ~ vector of data based on the following\n",
    "    # filter data given citypair key and metric argument \n",
    "    fltrd = on_time_data.loc[on_time_data['citypair'] == citypair]\n",
    "    x = (fltrd[metric].to_list())\n",
    "    # fix h based on MLCV\n",
    "    h = 0.4\n",
    "    # fix the kde model fit\n",
    "    model = gaussian_kde(x, h)\n",
    "    std = np.std(x)\n",
    "    # get x value of estimates \n",
    "    x_vals = np.arange(0 , max(x) + 3*std, 0.001)\n",
    "    rslts = model.evaluate(x_vals)\n",
    "\n",
    "    return model, rslts, x_vals\n",
    "\n",
    "# random sampling from KDE distributions\n",
    "\n",
    "def random_samples(citypair, metric, n):\n",
    "    # parameter: citypair key word \n",
    "    # parameter: metric to extract estimate for : {DEP_DELAY_NEW, ARR_DELAY_NEW}\n",
    "    # x ~ vector of data based on the following\n",
    "    # filter data given citypair key and metric argument \n",
    "    fltrd = on_time_data.loc[on_time_data['citypair'] == citypair]\n",
    "    x = (fltrd[metric].to_list())\n",
    "    # fix h based on MLCV\n",
    "    h = 0.4\n",
    "    # fix the kde model fit\n",
    "    model = gaussian_kde(x, h)\n",
    "    sample = model.resample(n, seed=None)  \n",
    "    \n",
    "    return sample\n"
   ]
  },
  {
   "attachments": {},
   "cell_type": "markdown",
   "metadata": {},
   "source": [
    "### KDE and Monte Carlo Sampling Example\n"
   ]
  },
  {
   "cell_type": "code",
   "execution_count": 22,
   "metadata": {},
   "outputs": [
    {
     "data": {
      "image/png": "[encoded data removed]",
      "text/plain": [
       "<Figure size 432x288 with 1 Axes>"
      ]
     },
     "metadata": {
      "needs_background": "light"
     },
     "output_type": "display_data"
    }
   ],
   "source": [
    "# plot KDE estimate\n",
    "model_phx_ewr_dep_delay, y_1, x_1 = kde_dist_fit('PHX-EWR','DEP_DELAY_NEW')\n",
    "plt.plot(x_1, y_1, linewidth=3)\n",
    "plt.title('KDE Fit to the Proofreader Accuracy Data w/ Optimal Bandwidth h')\n",
    "\n",
    "kde_samples_phx_ewr = random_samples('PHX-EWR', 'DEP_DELAY_NEW', 10000)\n",
    "kde_samples_phx_ewr = kde_samples_phx_ewr[kde_samples_phx_ewr >= 0]\n",
    "\n",
    "plt.hist(kde_samples_phx_ewr, density=True,bins=100)\n",
    "plt.show()"
   ]
  },
  {
   "attachments": {},
   "cell_type": "markdown",
   "metadata": {},
   "source": [
    "problems: need a way to fix kde so that the output distribution has support of only x >= 0.\n",
    "i.e. negative values should not be samples at all"
   ]
  }
 ],
 "metadata": {
  "kernelspec": {
   "display_name": "base",
   "language": "python",
   "name": "python3"
  },
  "language_info": {
   "codemirror_mode": {
    "name": "ipython",
    "version": 3
   },
   "file_extension": ".py",
   "mimetype": "text/x-python",
   "name": "python",
   "nbconvert_exporter": "python",
   "pygments_lexer": "ipython3",
   "version": "3.9.12"
  },
  "orig_nbformat": 4,
  "vscode": {
   "interpreter": {
    "hash": "f853e0c0ed50f1a324fddaf84a6b8443960df1f6f9807c0c247c107811479600"
   }
  }
 },
 "nbformat": 4,
 "nbformat_minor": 2
}
