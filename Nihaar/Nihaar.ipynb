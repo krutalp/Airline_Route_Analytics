{
 "cells": [
  {
   "cell_type": "code",
   "execution_count": 1,
   "id": "23232ea0",
   "metadata": {},
   "outputs": [],
   "source": [
    "import numpy as np\n",
    "import pandas as pd\n",
    "import matplotlib.pyplot as plt\n",
    "from IPython.display import clear_output\n",
    "plt.rcParams.update({'font.size': 7})"
   ]
  },
  {
   "cell_type": "code",
   "execution_count": 2,
   "id": "b73bbf88",
   "metadata": {},
   "outputs": [
    {
     "data": {
      "text/html": [
       "<div>\n",
       "<style scoped>\n",
       "    .dataframe tbody tr th:only-of-type {\n",
       "        vertical-align: middle;\n",
       "    }\n",
       "\n",
       "    .dataframe tbody tr th {\n",
       "        vertical-align: top;\n",
       "    }\n",
       "\n",
       "    .dataframe thead th {\n",
       "        text-align: right;\n",
       "    }\n",
       "</style>\n",
       "<table border=\"1\" class=\"dataframe\">\n",
       "  <thead>\n",
       "    <tr style=\"text-align: right;\">\n",
       "      <th></th>\n",
       "      <th>IATA</th>\n",
       "      <th>LATITUDE</th>\n",
       "      <th>LONGITUDE</th>\n",
       "    </tr>\n",
       "  </thead>\n",
       "  <tbody>\n",
       "    <tr>\n",
       "      <th>0</th>\n",
       "      <td>ABQ</td>\n",
       "      <td>35.040199</td>\n",
       "      <td>-106.609001</td>\n",
       "    </tr>\n",
       "    <tr>\n",
       "      <th>1</th>\n",
       "      <td>ALB</td>\n",
       "      <td>42.748299</td>\n",
       "      <td>-73.801697</td>\n",
       "    </tr>\n",
       "    <tr>\n",
       "      <th>2</th>\n",
       "      <td>AMA</td>\n",
       "      <td>35.219398</td>\n",
       "      <td>-101.706001</td>\n",
       "    </tr>\n",
       "    <tr>\n",
       "      <th>3</th>\n",
       "      <td>ATL</td>\n",
       "      <td>33.636700</td>\n",
       "      <td>-84.428101</td>\n",
       "    </tr>\n",
       "    <tr>\n",
       "      <th>4</th>\n",
       "      <td>AUS</td>\n",
       "      <td>30.197535</td>\n",
       "      <td>-97.662015</td>\n",
       "    </tr>\n",
       "    <tr>\n",
       "      <th>...</th>\n",
       "      <td>...</td>\n",
       "      <td>...</td>\n",
       "      <td>...</td>\n",
       "    </tr>\n",
       "    <tr>\n",
       "      <th>80</th>\n",
       "      <td>SNA</td>\n",
       "      <td>33.675701</td>\n",
       "      <td>-117.867996</td>\n",
       "    </tr>\n",
       "    <tr>\n",
       "      <th>81</th>\n",
       "      <td>STL</td>\n",
       "      <td>38.748697</td>\n",
       "      <td>-90.370003</td>\n",
       "    </tr>\n",
       "    <tr>\n",
       "      <th>82</th>\n",
       "      <td>TPA</td>\n",
       "      <td>27.975500</td>\n",
       "      <td>-82.533203</td>\n",
       "    </tr>\n",
       "    <tr>\n",
       "      <th>83</th>\n",
       "      <td>TUL</td>\n",
       "      <td>36.198399</td>\n",
       "      <td>-95.888100</td>\n",
       "    </tr>\n",
       "    <tr>\n",
       "      <th>84</th>\n",
       "      <td>TUS</td>\n",
       "      <td>32.115004</td>\n",
       "      <td>-110.938053</td>\n",
       "    </tr>\n",
       "  </tbody>\n",
       "</table>\n",
       "<p>85 rows × 3 columns</p>\n",
       "</div>"
      ],
      "text/plain": [
       "   IATA   LATITUDE   LONGITUDE\n",
       "0   ABQ  35.040199 -106.609001\n",
       "1   ALB  42.748299  -73.801697\n",
       "2   AMA  35.219398 -101.706001\n",
       "3   ATL  33.636700  -84.428101\n",
       "4   AUS  30.197535  -97.662015\n",
       "..  ...        ...         ...\n",
       "80  SNA  33.675701 -117.867996\n",
       "81  STL  38.748697  -90.370003\n",
       "82  TPA  27.975500  -82.533203\n",
       "83  TUL  36.198399  -95.888100\n",
       "84  TUS  32.115004 -110.938053\n",
       "\n",
       "[85 rows x 3 columns]"
      ]
     },
     "execution_count": 2,
     "metadata": {},
     "output_type": "execute_result"
    }
   ],
   "source": [
    "sw_data=pd.read_csv(\"FINAL_EDGE_TABLE.csv\",usecols=['Origin_Airport_Code','origin_lat','origin_long','passengers','sum_departures_performed'])\n",
    "sw_airports_location=sw_data[['Origin_Airport_Code','origin_lat','origin_long']].drop_duplicates(keep='first').reset_index(drop=True)\n",
    "renaming={'Origin_Airport_Code':'IATA','origin_lat':'LATITUDE','origin_long':'LONGITUDE'}\n",
    "sw_airports_location.rename(columns=renaming,inplace=True)\n",
    "sw_airports_location"
   ]
  },
  {
   "cell_type": "code",
   "execution_count": 3,
   "id": "c863e307",
   "metadata": {},
   "outputs": [
    {
     "data": {
      "text/html": [
       "<div>\n",
       "<style scoped>\n",
       "    .dataframe tbody tr th:only-of-type {\n",
       "        vertical-align: middle;\n",
       "    }\n",
       "\n",
       "    .dataframe tbody tr th {\n",
       "        vertical-align: top;\n",
       "    }\n",
       "\n",
       "    .dataframe thead th {\n",
       "        text-align: right;\n",
       "    }\n",
       "</style>\n",
       "<table border=\"1\" class=\"dataframe\">\n",
       "  <thead>\n",
       "    <tr style=\"text-align: right;\">\n",
       "      <th></th>\n",
       "      <th>Origin_Airport_Code</th>\n",
       "      <th>sum_departures_performed</th>\n",
       "      <th>passengers</th>\n",
       "      <th>average</th>\n",
       "    </tr>\n",
       "  </thead>\n",
       "  <tbody>\n",
       "    <tr>\n",
       "      <th>0</th>\n",
       "      <td>ABQ</td>\n",
       "      <td>254.888889</td>\n",
       "      <td>29756.222222</td>\n",
       "      <td>116.741935</td>\n",
       "    </tr>\n",
       "    <tr>\n",
       "      <th>1</th>\n",
       "      <td>ALB</td>\n",
       "      <td>176.166667</td>\n",
       "      <td>22521.000000</td>\n",
       "      <td>127.839167</td>\n",
       "    </tr>\n",
       "    <tr>\n",
       "      <th>2</th>\n",
       "      <td>AMA</td>\n",
       "      <td>254.500000</td>\n",
       "      <td>23229.500000</td>\n",
       "      <td>91.275049</td>\n",
       "    </tr>\n",
       "    <tr>\n",
       "      <th>3</th>\n",
       "      <td>ATL</td>\n",
       "      <td>320.166667</td>\n",
       "      <td>36946.388889</td>\n",
       "      <td>115.397362</td>\n",
       "    </tr>\n",
       "    <tr>\n",
       "      <th>4</th>\n",
       "      <td>AUS</td>\n",
       "      <td>214.000000</td>\n",
       "      <td>25781.076923</td>\n",
       "      <td>120.472322</td>\n",
       "    </tr>\n",
       "    <tr>\n",
       "      <th>...</th>\n",
       "      <td>...</td>\n",
       "      <td>...</td>\n",
       "      <td>...</td>\n",
       "      <td>...</td>\n",
       "    </tr>\n",
       "    <tr>\n",
       "      <th>80</th>\n",
       "      <td>SNA</td>\n",
       "      <td>675.428571</td>\n",
       "      <td>79748.142857</td>\n",
       "      <td>118.070431</td>\n",
       "    </tr>\n",
       "    <tr>\n",
       "      <th>81</th>\n",
       "      <td>STL</td>\n",
       "      <td>247.976190</td>\n",
       "      <td>29830.880952</td>\n",
       "      <td>120.297360</td>\n",
       "    </tr>\n",
       "    <tr>\n",
       "      <th>82</th>\n",
       "      <td>TPA</td>\n",
       "      <td>222.823529</td>\n",
       "      <td>27228.205882</td>\n",
       "      <td>122.196278</td>\n",
       "    </tr>\n",
       "    <tr>\n",
       "      <th>83</th>\n",
       "      <td>TUL</td>\n",
       "      <td>171.400000</td>\n",
       "      <td>18482.400000</td>\n",
       "      <td>107.831972</td>\n",
       "    </tr>\n",
       "    <tr>\n",
       "      <th>84</th>\n",
       "      <td>TUS</td>\n",
       "      <td>176.000000</td>\n",
       "      <td>20913.600000</td>\n",
       "      <td>118.827273</td>\n",
       "    </tr>\n",
       "  </tbody>\n",
       "</table>\n",
       "<p>85 rows × 4 columns</p>\n",
       "</div>"
      ],
      "text/plain": [
       "   Origin_Airport_Code  sum_departures_performed    passengers     average\n",
       "0                  ABQ                254.888889  29756.222222  116.741935\n",
       "1                  ALB                176.166667  22521.000000  127.839167\n",
       "2                  AMA                254.500000  23229.500000   91.275049\n",
       "3                  ATL                320.166667  36946.388889  115.397362\n",
       "4                  AUS                214.000000  25781.076923  120.472322\n",
       "..                 ...                       ...           ...         ...\n",
       "80                 SNA                675.428571  79748.142857  118.070431\n",
       "81                 STL                247.976190  29830.880952  120.297360\n",
       "82                 TPA                222.823529  27228.205882  122.196278\n",
       "83                 TUL                171.400000  18482.400000  107.831972\n",
       "84                 TUS                176.000000  20913.600000  118.827273\n",
       "\n",
       "[85 rows x 4 columns]"
      ]
     },
     "execution_count": 3,
     "metadata": {},
     "output_type": "execute_result"
    }
   ],
   "source": [
    "sw_passengers=sw_data[['Origin_Airport_Code','sum_departures_performed','passengers']]\n",
    "sw_passengers=sw_passengers.groupby(['Origin_Airport_Code']).mean().reset_index()\n",
    "sw_passengers.insert(3,\"average\",sw_passengers['passengers']/sw_passengers['sum_departures_performed'])\n",
    "sw_passengers"
   ]
  },
  {
   "cell_type": "code",
   "execution_count": 4,
   "id": "6619fca1",
   "metadata": {},
   "outputs": [],
   "source": [
    "#Function that calculates the haversine distance between two sets of coordinates\n",
    "from sklearn.metrics.pairwise import haversine_distances\n",
    "def haversine(x,y):\n",
    "    R=6371 #Radius of Earth in KM\n",
    "    x_rd=np.radians(x)\n",
    "    y_rd=np.radians(y)\n",
    "    h=(haversine_distances([x_rd,y_rd]))[0][1]\n",
    "    d=R*h #Haversine Distance\n",
    "    return d"
   ]
  },
  {
   "cell_type": "code",
   "execution_count": 56,
   "id": "2bb4e031",
   "metadata": {},
   "outputs": [],
   "source": [
    "#Function that calculates Mean Squared Error\n",
    "def k_means_inertia(data,centre_labels,w):\n",
    "    se=0\n",
    "    for centres in np.unique(centre_labels):\n",
    "        airports=data.loc[data['LABELS']==centres]\n",
    "        a=airports[['LATITUDE','LONGITUDE']].values\n",
    "        airport_weights=w[airports.index.tolist()]\n",
    "        c_coords=data.loc[data['IATA']==centres][['LATITUDE','LONGITUDE']].values\n",
    "        for i in range(a.shape[0]):\n",
    "            se=se+airport_weights[i]*(haversine(list(a[i,:]),list(c_coords[0])))**2\n",
    "    return se"
   ]
  },
  {
   "cell_type": "code",
   "execution_count": 57,
   "id": "514ff050",
   "metadata": {
    "scrolled": false
   },
   "outputs": [],
   "source": [
    "#Function that runs a k-means algorithm based on haversine distance\n",
    "def k_means_haversine(coordinates,codes,weights,no_of_clusters):\n",
    "    #Setting some initial variables\n",
    "    distance_matrix=np.zeros((codes.size,no_of_clusters))\n",
    "    counter=0\n",
    "    \n",
    "    #Randomly chooses k points that serve as the initial cluster centres\n",
    "    idx=np.random.choice(codes.size,no_of_clusters,replace=False)\n",
    "    new_centres=list((codes[idx]))\n",
    "    initial_centres=set(new_centres)\n",
    "    old_centres=[]\n",
    "    centres_coords=coordinates[idx,:]   \n",
    "\n",
    "    #Running a loop till the cluster centres converge\n",
    "    while(set(old_centres)!=set(new_centres)):\n",
    "\n",
    "        #The cluster centres of the previous iteration become old clusters now\n",
    "        old_centres=new_centres\n",
    "\n",
    "        #Calculates the distance between each point and every centre and stores in the data matrix\n",
    "        k,l=0,0\n",
    "        for i in coordinates:\n",
    "            for j in centres_coords:\n",
    "                distance_matrix[k][l]=haversine(list(i),list(j))\n",
    "                l=l+1\n",
    "            l=0\n",
    "            k=k+1\n",
    "\n",
    "        #Assigns each point to a cluster\n",
    "        #Labels each point with the cluster centre closest to it and adds it as an attribute to the dataframe\n",
    "        labels=[]\n",
    "        for i in distance_matrix:\n",
    "            i=list(i)\n",
    "            labels.append(new_centres[i.index(min(i))])\n",
    "        sw_airports_location['LABELS']=labels\n",
    "\n",
    "        #For each cluster, finds out the weighted average of all latitudes and longitudes (Virtual point)\n",
    "        #Makes that point the cluster centre whose haversine distance from the virtual point is least\n",
    "        #Assigns all new cluster centres coordinates by replacing old ones\n",
    "        centres_coords=[]\n",
    "        for centres in np.unique(labels):\n",
    "            airports=sw_airports_location.loc[sw_airports_location['LABELS']==centres]\n",
    "            a=airports[['LATITUDE','LONGITUDE']].values\n",
    "            c_weights=weights[airports.index.tolist()]\n",
    "            h_distances=np.zeros(a.shape[0])\n",
    "            for i in range(h_distances.size):\n",
    "                h_distances[i]=haversine(list(a[i,:]),[0,0])\n",
    "            j=np.average(h_distances,weights=c_weights)\n",
    "            centres_coords.append(a[np.argmin(np.abs(h_distances-j)),:])\n",
    "        centres_coords=np.array(centres_coords)\n",
    "        \n",
    "        #Finding the corresponding airports to the newly found cluster centre coordinates\n",
    "        new_centres=[]\n",
    "        for i in centres_coords:\n",
    "            new_centres.append(sw_airports_location.iloc[sw_airports_location.index[(sw_airports_location['LATITUDE']==i[0]) & \n",
    "                                                             (sw_airports_location['LONGITUDE']==i[1])].tolist()[0]]['IATA'])\n",
    "\n",
    "        #Increasing the counter for every iteration\n",
    "        counter=counter+1\n",
    "\n",
    "        if(counter==20):\n",
    "            #Algorithm did not converge\n",
    "            return ([],0)\n",
    "\n",
    "    \n",
    "    #Algorithm converged\n",
    "    return (new_centres,k_means_inertia(sw_airports_location,labels,weights))"
   ]
  },
  {
   "cell_type": "code",
   "execution_count": 71,
   "id": "862cae60",
   "metadata": {},
   "outputs": [],
   "source": [
    "#Defining some pre-requisite values\n",
    "n=100\n",
    "airport_coordinates=sw_airports_location.values[:,1:3]\n",
    "airport_codes=sw_airports_location.values[:,0]\n",
    "weight=np.array(sw_passengers['average'])"
   ]
  },
  {
   "cell_type": "code",
   "execution_count": 78,
   "id": "0c0c9216",
   "metadata": {},
   "outputs": [
    {
     "name": "stdout",
     "output_type": "stream",
     "text": [
      "k = 5\n",
      "k = 6\n",
      "k = 7\n",
      "k = 8\n",
      "k = 9\n",
      "k = 10\n",
      "k = 11\n",
      "k = 12\n"
     ]
    }
   ],
   "source": [
    "#List of all airports\n",
    "sw_airports=sw_airports_location['IATA'].tolist()\n",
    "#List to maintain inertias for different k values\n",
    "av_inertia=[]\n",
    "\n",
    "for k in range(5,13):\n",
    "    #Counter to check no. of times algorithm converged\n",
    "    converged_counter=0\n",
    "    sum_inertia=0\n",
    "    while(converged_counter!=n):\n",
    "        _, inertia=k_means_haversine(airport_coordinates,airport_codes,weight,k)\n",
    "        if(inertia!=0):\n",
    "            converged_counter=converged_counter+1\n",
    "            sum_inertia=sum_inertia+inertia\n",
    "    av_inertia.append(sum_inertia/n)"
   ]
  },
  {
   "cell_type": "code",
   "execution_count": 79,
   "id": "a1c0c451",
   "metadata": {},
   "outputs": [
    {
     "data": {
      "text/plain": [
       "[4672580848.043614,\n",
       " 3683610522.6134267,\n",
       " 2916376456.41823,\n",
       " 2592012835.4602375,\n",
       " 2242244213.214026,\n",
       " 2040225403.741878,\n",
       " 1855856707.8537698,\n",
       " 1726330365.832965]"
      ]
     },
     "execution_count": 79,
     "metadata": {},
     "output_type": "execute_result"
    }
   ],
   "source": [
    "av_inertia"
   ]
  },
  {
   "cell_type": "code",
   "execution_count": 80,
   "id": "fa37253a",
   "metadata": {},
   "outputs": [
    {
     "data": {
      "text/plain": [
       "[<matplotlib.lines.Line2D at 0x2200c342f70>]"
      ]
     },
     "execution_count": 80,
     "metadata": {},
     "output_type": "execute_result"
    },
    {
     "data": {
      "image/png": "[encoded data removed]",
      "text/plain": [
       "<Figure size 640x480 with 1 Axes>"
      ]
     },
     "metadata": {},
     "output_type": "display_data"
    }
   ],
   "source": [
    "plt.plot(range(5,13),av_inertia)"
   ]
  },
  {
   "cell_type": "code",
   "execution_count": null,
   "id": "e81344c8",
   "metadata": {},
   "outputs": [],
   "source": [
    "#Dictionary that stores the frequency of how many times each airport appeared as a cluster centre\n",
    "cc_frequency={i:0 for i in sw_airports}\n",
    "#Counter to check no. of times algorithm converged\n",
    "converged_counter=0\n",
    "#No. of clusters selected by elbow method\n",
    "selected_k=7\n",
    "\n",
    "while(converged_counter!=n):\n",
    "    obtained_centres, _ =k_means_haversine(airport_coordinates,airport_codes,weight,selected_k)\n",
    "    if(obtained_centres):\n",
    "        converged_counter=converged_counter+1\n",
    "    for i in obtained_centres:\n",
    "        cc_frequency[i]=cc_frequency[i]+1"
   ]
  },
  {
   "cell_type": "code",
   "execution_count": null,
   "id": "42ae9c70",
   "metadata": {},
   "outputs": [],
   "source": [
    "#Dictionary that stores the frequency of how many times each airport appeared as a cluster centre\n",
    "cc_frequency={i:0 for i in sw_airports}\n",
    "#Counter to check no. of times algorithm converged\n",
    "converged_counter=0\n",
    "#No. of clusters selected by elbow method\n",
    "selected_k=9\n",
    "\n",
    "while(converged_counter!=n):\n",
    "    obtained_centres, _ =k_means_haversine(airport_coordinates,airport_codes,weight,selected_k)\n",
    "    if(obtained_centres):\n",
    "        converged_counter=converged_counter+1\n",
    "    for i in obtained_centres:\n",
    "        cc_frequency[i]=cc_frequency[i]+1"
   ]
  },
  {
   "cell_type": "code",
   "execution_count": 75,
   "id": "fa2b0dc9",
   "metadata": {},
   "outputs": [
    {
     "data": {
      "text/plain": [
       "1000"
      ]
     },
     "execution_count": 75,
     "metadata": {},
     "output_type": "execute_result"
    }
   ],
   "source": [
    "sum(cc_frequency.values())"
   ]
  },
  {
   "cell_type": "code",
   "execution_count": 77,
   "id": "8712d96d",
   "metadata": {},
   "outputs": [
    {
     "name": "stdout",
     "output_type": "stream",
     "text": [
      "{'PBI': 76, 'RNO': 54, 'SEA': 51, 'SAT': 46, 'LAS': 36, 'PNS': 31, 'OKC': 27, 'PHL': 26, 'DEN': 25, 'ALB': 24, 'ONT': 22, 'SMF': 22, 'MCI': 20, 'TUS': 19, 'ATL': 18, 'CVG': 18, 'LAX': 18, 'BDL': 17, 'CHS': 17, 'MSP': 17, 'ISP': 16, 'ABQ': 15, 'BOI': 15, 'DAL': 15, 'GSP': 15, 'STL': 15, 'AMA': 14, 'IND': 14, 'MEM': 14, 'SJU': 14, 'JAX': 13, 'AUS': 12, 'PIT': 12, 'SDF': 12, 'BNA': 11, 'HOU': 11, 'MKE': 11, 'TPA': 11, 'CLE': 10, 'IAD': 10, 'ICT': 9, 'ORF': 9, 'RDU': 9, 'BWI': 8, 'GRR': 8, 'MAF': 8, 'MDW': 8, 'HRL': 7, 'LIT': 7, 'CLT': 6, 'DSM': 6, 'ELP': 6, 'MCO': 6, 'SLC': 6, 'DTW': 5, 'ECP': 5, 'MSY': 5, 'ROC': 5, 'EWR': 4, 'FLL': 4, 'PDX': 4, 'TUL': 4, 'BHM': 2, 'BUF': 2, 'CMH': 2, 'OMA': 2, 'RIC': 2, 'RSW': 2, 'GEG': 1, 'LBB': 1, 'MHT': 1, 'PHX': 1, 'SJC': 1, 'BOS': 0, 'BUR': 0, 'CRP': 0, 'DCA': 0, 'LGA': 0, 'LGB': 0, 'OAK': 0, 'PVD': 0, 'PWM': 0, 'SAN': 0, 'SFO': 0, 'SNA': 0}\n"
     ]
    }
   ],
   "source": [
    "print(dict(sorted(cc_frequency.items(),key=lambda x:x[1],reverse=True)))"
   ]
  },
  {
   "cell_type": "code",
   "execution_count": 186,
   "id": "a460af59",
   "metadata": {},
   "outputs": [],
   "source": [
    "without_weight={'SEA': 68, 'SAT': 57, 'PBI': 55, 'RNO': 46, 'PHL': 39, 'MKE': 35, 'LAS': 31, 'ATL': 26, 'ORF': 22, 'BWI': 21, 'MCI': 19, 'STL': 18, 'MAF': 17, 'PDX': 17, 'ECP': 16, 'LBB': 16, 'JAX': 15, 'IND': 13, 'PNS': 13, 'MSP': 11, 'MCO': 10, 'SJU': 9, 'BOI': 8, 'MEM': 8, 'ONT': 8, 'SMF': 8, 'RSW': 7, 'ALB': 6, 'IAD': 6, 'SDF': 6, 'CLT': 5, 'LIT': 5, 'AMA': 4, 'CMH': 4, 'CVG': 4, 'DAL': 4, 'ELP': 3, 'LAX': 3, 'PHX': 3, 'TUL': 3, 'ABQ': 2, 'BDL': 2, 'BNA': 2, 'DCA': 2, 'DEN': 2, 'DSM': 2, 'MDW': 2, 'MSY': 2, 'PIT': 2, 'RDU': 2, 'BHM': 1, 'BUF': 1, 'CHS': 1, 'CLE': 1, 'DTW': 1, 'FLL': 1, 'GRR': 1, 'GSP': 1, 'HOU': 1, 'ISP': 1, 'LGA': 1, 'AUS': 0, 'BOS': 0, 'BUR': 0, 'CRP': 0, 'EWR': 0, 'GEG': 0, 'HRL': 0, 'ICT': 0, 'LGB': 0, 'MHT': 0, 'OAK': 0, 'OKC': 0, 'OMA': 0, 'PVD': 0, 'PWM': 0, 'RIC': 0, 'ROC': 0, 'SAN': 0, 'SFO': 0, 'SJC': 0, 'SLC': 0, 'SNA': 0, 'TPA': 0, 'TUS': 0}"
   ]
  },
  {
   "cell_type": "code",
   "execution_count": 187,
   "id": "e1b4a699",
   "metadata": {},
   "outputs": [],
   "source": [
    "with_weight={'PBI': 78, 'SEA': 64, 'SAT': 56, 'LAS': 52, 'RNO': 46, 'BWI': 29, 'STL': 29, 'MKE': 27, 'ATL': 23, 'ALB': 21, 'LIT': 20, 'CVG': 18, 'ORF': 17, 'PHL': 17, 'HOU': 14, 'ABQ': 11, 'MAF': 11, 'MEM': 10, 'BOI': 9, 'DCA': 9, 'PDX': 9, 'PNS': 9, 'ECP': 8, 'ONT': 8, 'SDF': 7, 'SJU': 7, 'AMA': 6, 'FLL': 6, 'GSP': 6, 'IAD': 6, 'LBB': 6, 'TUL': 5, 'LGA': 4, 'OKC': 4, 'SMF': 4, 'TPA': 4, 'BUF': 3, 'CMH': 3, 'DTW': 3, 'HRL': 3, 'LAX': 3, 'MSP': 3, 'OMA': 3, 'AUS': 2, 'DEN': 2, 'ICT': 2, 'MDW': 2, 'RDU': 2, 'RIC': 2, 'BNA': 1, 'DAL': 1, 'GEG': 1, 'MCI': 1, 'MSY': 1, 'PHX': 1, 'ROC': 1, 'BDL': 0, 'BHM': 0, 'BOS': 0, 'BUR': 0, 'CHS': 0, 'CLE': 0, 'CLT': 0, 'CRP': 0, 'DSM': 0, 'ELP': 0, 'EWR': 0, 'GRR': 0, 'IND': 0, 'ISP': 0, 'JAX': 0, 'LGB': 0, 'MCO': 0, 'MHT': 0, 'OAK': 0, 'PIT': 0, 'PVD': 0, 'PWM': 0, 'RSW': 0, 'SAN': 0, 'SFO': 0, 'SJC': 0, 'SLC': 0, 'SNA': 0, 'TUS': 0}"
   ]
  },
  {
   "cell_type": "code",
   "execution_count": null,
   "id": "180d2c6e",
   "metadata": {},
   "outputs": [],
   "source": [
    "#Plotting the clusters\n",
    "        #plt.scatter(coordinates[:,1],coordinates[:,0],c=pd.Categorical(labels).codes,cmap=plt.cm.rainbow)\n",
    "        #plt.scatter(centres_coords[:,1],centres_coords[:,0],c='k',marker='o',s=300,alpha=0.5)\n",
    "        #for i,txt in enumerate(codes):\n",
    "        #    plt.annotate(txt,(coordinates[i,1],coordinates[i,0]))\n",
    "        #plt.show();\n",
    "        #print('Initial centres =',initial_centres)    \n",
    "        #print('Final centres =',set(new_centres))\n",
    "        #print('No. of iterations =',counter)\n",
    "        \n",
    "#Plotting the centres        \n",
    "#plt.scatter(centres_coords[:,1],centres_coords[:,0],c='k',marker='o',s=300,alpha=0.5)\n",
    "        #for i,txt in enumerate(new_centres):\n",
    "        #    plt.annotate(txt,(centres_coords[i,1],centres_coords[i,0]))\n",
    "        #plt.title('Iteration '+str(counter+1))\n",
    "        #plt.show();"
   ]
  }
 ],
 "metadata": {
  "kernelspec": {
   "display_name": "Python 3 (ipykernel)",
   "language": "python",
   "name": "python3"
  },
  "language_info": {
   "codemirror_mode": {
    "name": "ipython",
    "version": 3
   },
   "file_extension": ".py",
   "mimetype": "text/x-python",
   "name": "python",
   "nbconvert_exporter": "python",
   "pygments_lexer": "ipython3",
   "version": "3.9.12"
  }
 },
 "nbformat": 4,
 "nbformat_minor": 5
}
