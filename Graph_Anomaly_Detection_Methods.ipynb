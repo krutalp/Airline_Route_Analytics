{
 "cells": [
  {
   "cell_type": "code",
   "execution_count": 1,
   "id": "a065614b-6432-49aa-a735-a268a67b587b",
   "metadata": {},
   "outputs": [],
   "source": [
    "import pandas as pd\n",
    "import numpy as np\n",
    "import networkx as nx"
   ]
  },
  {
   "cell_type": "code",
   "execution_count": 2,
   "id": "110194c7-88aa-4512-b635-7c254ee609e9",
   "metadata": {},
   "outputs": [
    {
     "data": {
      "text/html": [
       "<div>\n",
       "<style scoped>\n",
       "    .dataframe tbody tr th:only-of-type {\n",
       "        vertical-align: middle;\n",
       "    }\n",
       "\n",
       "    .dataframe tbody tr th {\n",
       "        vertical-align: top;\n",
       "    }\n",
       "\n",
       "    .dataframe thead th {\n",
       "        text-align: right;\n",
       "    }\n",
       "</style>\n",
       "<table border=\"1\" class=\"dataframe\">\n",
       "  <thead>\n",
       "    <tr style=\"text-align: right;\">\n",
       "      <th></th>\n",
       "      <th>citypair</th>\n",
       "      <th>sum_departures_performed</th>\n",
       "      <th>sum_departures_scheduled</th>\n",
       "      <th>passengers</th>\n",
       "      <th>seats</th>\n",
       "      <th>avg_fuel_price</th>\n",
       "      <th>avg_stock_price</th>\n",
       "      <th>total_operating_expense</th>\n",
       "      <th>revenue</th>\n",
       "      <th>Aircraft_Unit_Cost ($ millions USD)</th>\n",
       "      <th>...</th>\n",
       "      <th>dest_long</th>\n",
       "      <th>dest_city</th>\n",
       "      <th>Route_Distance</th>\n",
       "      <th>origin_population</th>\n",
       "      <th>origin_density</th>\n",
       "      <th>dest_population</th>\n",
       "      <th>dest_density</th>\n",
       "      <th>DEP_DELAY_NEW</th>\n",
       "      <th>ARR_DELAY_NEW</th>\n",
       "      <th>CANCELLED</th>\n",
       "    </tr>\n",
       "  </thead>\n",
       "  <tbody>\n",
       "    <tr>\n",
       "      <th>0</th>\n",
       "      <td>ABQ-BWI</td>\n",
       "      <td>108.0</td>\n",
       "      <td>110.0</td>\n",
       "      <td>13736.0</td>\n",
       "      <td>15444.0</td>\n",
       "      <td>57.427544</td>\n",
       "      <td>52.842995</td>\n",
       "      <td>9585665.0</td>\n",
       "      <td>11058</td>\n",
       "      <td>74.0</td>\n",
       "      <td>...</td>\n",
       "      <td>-76.668297</td>\n",
       "      <td>Baltimore</td>\n",
       "      <td>1670.237770</td>\n",
       "      <td>765693.0</td>\n",
       "      <td>1155.5</td>\n",
       "      <td>2205092.0</td>\n",
       "      <td>2872.8</td>\n",
       "      <td>8.644068</td>\n",
       "      <td>9.440678</td>\n",
       "      <td>0.063492</td>\n",
       "    </tr>\n",
       "    <tr>\n",
       "      <th>1</th>\n",
       "      <td>ABQ-DAL</td>\n",
       "      <td>488.0</td>\n",
       "      <td>504.0</td>\n",
       "      <td>56344.0</td>\n",
       "      <td>74104.0</td>\n",
       "      <td>56.594778</td>\n",
       "      <td>53.008226</td>\n",
       "      <td>14229909.0</td>\n",
       "      <td>16207</td>\n",
       "      <td>74.0</td>\n",
       "      <td>...</td>\n",
       "      <td>-96.851799</td>\n",
       "      <td>Dallas</td>\n",
       "      <td>580.226586</td>\n",
       "      <td>765693.0</td>\n",
       "      <td>1155.5</td>\n",
       "      <td>5668165.0</td>\n",
       "      <td>1522.2</td>\n",
       "      <td>9.102740</td>\n",
       "      <td>8.075862</td>\n",
       "      <td>0.006803</td>\n",
       "    </tr>\n",
       "    <tr>\n",
       "      <th>2</th>\n",
       "      <td>ABQ-DEN</td>\n",
       "      <td>330.0</td>\n",
       "      <td>337.0</td>\n",
       "      <td>37782.0</td>\n",
       "      <td>47510.0</td>\n",
       "      <td>56.594778</td>\n",
       "      <td>53.008226</td>\n",
       "      <td>14229909.0</td>\n",
       "      <td>16207</td>\n",
       "      <td>74.0</td>\n",
       "      <td>...</td>\n",
       "      <td>-104.672996</td>\n",
       "      <td>Denver</td>\n",
       "      <td>349.103284</td>\n",
       "      <td>765693.0</td>\n",
       "      <td>1155.5</td>\n",
       "      <td>2650725.0</td>\n",
       "      <td>1805.7</td>\n",
       "      <td>18.624521</td>\n",
       "      <td>18.896154</td>\n",
       "      <td>0.003817</td>\n",
       "    </tr>\n",
       "    <tr>\n",
       "      <th>3</th>\n",
       "      <td>ABQ-HOU</td>\n",
       "      <td>326.0</td>\n",
       "      <td>335.0</td>\n",
       "      <td>39590.0</td>\n",
       "      <td>50650.0</td>\n",
       "      <td>56.927884</td>\n",
       "      <td>52.942134</td>\n",
       "      <td>23815574.0</td>\n",
       "      <td>27265</td>\n",
       "      <td>74.0</td>\n",
       "      <td>...</td>\n",
       "      <td>-95.278900</td>\n",
       "      <td>Houston</td>\n",
       "      <td>759.153724</td>\n",
       "      <td>765693.0</td>\n",
       "      <td>1155.5</td>\n",
       "      <td>5650910.0</td>\n",
       "      <td>1394.6</td>\n",
       "      <td>4.595506</td>\n",
       "      <td>4.044944</td>\n",
       "      <td>0.000000</td>\n",
       "    </tr>\n",
       "    <tr>\n",
       "      <th>4</th>\n",
       "      <td>ABQ-LAS</td>\n",
       "      <td>324.0</td>\n",
       "      <td>333.0</td>\n",
       "      <td>35966.0</td>\n",
       "      <td>46332.0</td>\n",
       "      <td>57.427544</td>\n",
       "      <td>52.842995</td>\n",
       "      <td>9585665.0</td>\n",
       "      <td>11058</td>\n",
       "      <td>74.0</td>\n",
       "      <td>...</td>\n",
       "      <td>-115.151817</td>\n",
       "      <td>Las Vegas</td>\n",
       "      <td>486.424110</td>\n",
       "      <td>765693.0</td>\n",
       "      <td>1155.5</td>\n",
       "      <td>2150373.0</td>\n",
       "      <td>1754.7</td>\n",
       "      <td>15.618321</td>\n",
       "      <td>13.946565</td>\n",
       "      <td>0.015038</td>\n",
       "    </tr>\n",
       "  </tbody>\n",
       "</table>\n",
       "<p>5 rows × 32 columns</p>\n",
       "</div>"
      ],
      "text/plain": [
       "  citypair  sum_departures_performed  sum_departures_scheduled  passengers  \\\n",
       "0  ABQ-BWI                     108.0                     110.0     13736.0   \n",
       "1  ABQ-DAL                     488.0                     504.0     56344.0   \n",
       "2  ABQ-DEN                     330.0                     337.0     37782.0   \n",
       "3  ABQ-HOU                     326.0                     335.0     39590.0   \n",
       "4  ABQ-LAS                     324.0                     333.0     35966.0   \n",
       "\n",
       "     seats  avg_fuel_price  avg_stock_price  total_operating_expense  revenue  \\\n",
       "0  15444.0       57.427544        52.842995                9585665.0    11058   \n",
       "1  74104.0       56.594778        53.008226               14229909.0    16207   \n",
       "2  47510.0       56.594778        53.008226               14229909.0    16207   \n",
       "3  50650.0       56.927884        52.942134               23815574.0    27265   \n",
       "4  46332.0       57.427544        52.842995                9585665.0    11058   \n",
       "\n",
       "   Aircraft_Unit_Cost ($ millions USD)  ...   dest_long  dest_city  \\\n",
       "0                                 74.0  ...  -76.668297  Baltimore   \n",
       "1                                 74.0  ...  -96.851799     Dallas   \n",
       "2                                 74.0  ... -104.672996     Denver   \n",
       "3                                 74.0  ...  -95.278900    Houston   \n",
       "4                                 74.0  ... -115.151817  Las Vegas   \n",
       "\n",
       "   Route_Distance  origin_population origin_density dest_population  \\\n",
       "0     1670.237770           765693.0         1155.5       2205092.0   \n",
       "1      580.226586           765693.0         1155.5       5668165.0   \n",
       "2      349.103284           765693.0         1155.5       2650725.0   \n",
       "3      759.153724           765693.0         1155.5       5650910.0   \n",
       "4      486.424110           765693.0         1155.5       2150373.0   \n",
       "\n",
       "  dest_density  DEP_DELAY_NEW  ARR_DELAY_NEW CANCELLED  \n",
       "0       2872.8       8.644068       9.440678  0.063492  \n",
       "1       1522.2       9.102740       8.075862  0.006803  \n",
       "2       1805.7      18.624521      18.896154  0.003817  \n",
       "3       1394.6       4.595506       4.044944  0.000000  \n",
       "4       1754.7      15.618321      13.946565  0.015038  \n",
       "\n",
       "[5 rows x 32 columns]"
      ]
     },
     "execution_count": 2,
     "metadata": {},
     "output_type": "execute_result"
    }
   ],
   "source": [
    "data  = pd.read_csv('Database/FINAL_EDGE_TABLE.csv', index_col = 0)\n",
    "data = data.drop(columns = {'Unnamed: 0'}, axis = 1)\n",
    "data.head()"
   ]
  },
  {
   "cell_type": "code",
   "execution_count": 3,
   "id": "bfd56338-c0aa-4f00-b670-a3e22fcb18e0",
   "metadata": {},
   "outputs": [
    {
     "data": {
      "text/html": [
       "<div>\n",
       "<style scoped>\n",
       "    .dataframe tbody tr th:only-of-type {\n",
       "        vertical-align: middle;\n",
       "    }\n",
       "\n",
       "    .dataframe tbody tr th {\n",
       "        vertical-align: top;\n",
       "    }\n",
       "\n",
       "    .dataframe thead th {\n",
       "        text-align: right;\n",
       "    }\n",
       "</style>\n",
       "<table border=\"1\" class=\"dataframe\">\n",
       "  <thead>\n",
       "    <tr style=\"text-align: right;\">\n",
       "      <th></th>\n",
       "      <th>citypair</th>\n",
       "      <th>sum_departures_performed</th>\n",
       "      <th>sum_departures_scheduled</th>\n",
       "      <th>passengers</th>\n",
       "      <th>seats</th>\n",
       "      <th>avg_fuel_price</th>\n",
       "      <th>avg_stock_price</th>\n",
       "      <th>total_operating_expense</th>\n",
       "      <th>revenue</th>\n",
       "      <th>Aircraft_Unit_Cost ($ millions USD)</th>\n",
       "      <th>...</th>\n",
       "      <th>origin_density</th>\n",
       "      <th>dest_population</th>\n",
       "      <th>dest_density</th>\n",
       "      <th>DEP_DELAY_NEW</th>\n",
       "      <th>ARR_DELAY_NEW</th>\n",
       "      <th>CANCELLED</th>\n",
       "      <th>Utilization</th>\n",
       "      <th>Regularity</th>\n",
       "      <th>ASM</th>\n",
       "      <th>RASM</th>\n",
       "    </tr>\n",
       "  </thead>\n",
       "  <tbody>\n",
       "    <tr>\n",
       "      <th>0</th>\n",
       "      <td>ABQ-BWI</td>\n",
       "      <td>108.0</td>\n",
       "      <td>110.0</td>\n",
       "      <td>13736.0</td>\n",
       "      <td>15444.0</td>\n",
       "      <td>57.427544</td>\n",
       "      <td>52.842995</td>\n",
       "      <td>9585665.0</td>\n",
       "      <td>11058</td>\n",
       "      <td>74.0</td>\n",
       "      <td>...</td>\n",
       "      <td>1155.5</td>\n",
       "      <td>2205092.0</td>\n",
       "      <td>2872.8</td>\n",
       "      <td>8.644068</td>\n",
       "      <td>9.440678</td>\n",
       "      <td>0.063492</td>\n",
       "      <td>0.889407</td>\n",
       "      <td>0.981818</td>\n",
       "      <td>9.246588</td>\n",
       "      <td>1195.900626</td>\n",
       "    </tr>\n",
       "    <tr>\n",
       "      <th>1</th>\n",
       "      <td>ABQ-DAL</td>\n",
       "      <td>488.0</td>\n",
       "      <td>504.0</td>\n",
       "      <td>56344.0</td>\n",
       "      <td>74104.0</td>\n",
       "      <td>56.594778</td>\n",
       "      <td>53.008226</td>\n",
       "      <td>14229909.0</td>\n",
       "      <td>16207</td>\n",
       "      <td>74.0</td>\n",
       "      <td>...</td>\n",
       "      <td>1155.5</td>\n",
       "      <td>5668165.0</td>\n",
       "      <td>1522.2</td>\n",
       "      <td>9.102740</td>\n",
       "      <td>8.075862</td>\n",
       "      <td>0.006803</td>\n",
       "      <td>0.760337</td>\n",
       "      <td>0.968254</td>\n",
       "      <td>127.715623</td>\n",
       "      <td>126.899118</td>\n",
       "    </tr>\n",
       "    <tr>\n",
       "      <th>2</th>\n",
       "      <td>ABQ-DEN</td>\n",
       "      <td>330.0</td>\n",
       "      <td>337.0</td>\n",
       "      <td>37782.0</td>\n",
       "      <td>47510.0</td>\n",
       "      <td>56.594778</td>\n",
       "      <td>53.008226</td>\n",
       "      <td>14229909.0</td>\n",
       "      <td>16207</td>\n",
       "      <td>74.0</td>\n",
       "      <td>...</td>\n",
       "      <td>1155.5</td>\n",
       "      <td>2650725.0</td>\n",
       "      <td>1805.7</td>\n",
       "      <td>18.624521</td>\n",
       "      <td>18.896154</td>\n",
       "      <td>0.003817</td>\n",
       "      <td>0.795243</td>\n",
       "      <td>0.979228</td>\n",
       "      <td>136.091530</td>\n",
       "      <td>119.088969</td>\n",
       "    </tr>\n",
       "    <tr>\n",
       "      <th>3</th>\n",
       "      <td>ABQ-HOU</td>\n",
       "      <td>326.0</td>\n",
       "      <td>335.0</td>\n",
       "      <td>39590.0</td>\n",
       "      <td>50650.0</td>\n",
       "      <td>56.927884</td>\n",
       "      <td>52.942134</td>\n",
       "      <td>23815574.0</td>\n",
       "      <td>27265</td>\n",
       "      <td>74.0</td>\n",
       "      <td>...</td>\n",
       "      <td>1155.5</td>\n",
       "      <td>5650910.0</td>\n",
       "      <td>1394.6</td>\n",
       "      <td>4.595506</td>\n",
       "      <td>4.044944</td>\n",
       "      <td>0.000000</td>\n",
       "      <td>0.781639</td>\n",
       "      <td>0.973134</td>\n",
       "      <td>66.719030</td>\n",
       "      <td>408.654024</td>\n",
       "    </tr>\n",
       "    <tr>\n",
       "      <th>4</th>\n",
       "      <td>ABQ-LAS</td>\n",
       "      <td>324.0</td>\n",
       "      <td>333.0</td>\n",
       "      <td>35966.0</td>\n",
       "      <td>46332.0</td>\n",
       "      <td>57.427544</td>\n",
       "      <td>52.842995</td>\n",
       "      <td>9585665.0</td>\n",
       "      <td>11058</td>\n",
       "      <td>74.0</td>\n",
       "      <td>...</td>\n",
       "      <td>1155.5</td>\n",
       "      <td>2150373.0</td>\n",
       "      <td>1754.7</td>\n",
       "      <td>15.618321</td>\n",
       "      <td>13.946565</td>\n",
       "      <td>0.015038</td>\n",
       "      <td>0.776267</td>\n",
       "      <td>0.972973</td>\n",
       "      <td>95.250213</td>\n",
       "      <td>116.094229</td>\n",
       "    </tr>\n",
       "  </tbody>\n",
       "</table>\n",
       "<p>5 rows × 36 columns</p>\n",
       "</div>"
      ],
      "text/plain": [
       "  citypair  sum_departures_performed  sum_departures_scheduled  passengers  \\\n",
       "0  ABQ-BWI                     108.0                     110.0     13736.0   \n",
       "1  ABQ-DAL                     488.0                     504.0     56344.0   \n",
       "2  ABQ-DEN                     330.0                     337.0     37782.0   \n",
       "3  ABQ-HOU                     326.0                     335.0     39590.0   \n",
       "4  ABQ-LAS                     324.0                     333.0     35966.0   \n",
       "\n",
       "     seats  avg_fuel_price  avg_stock_price  total_operating_expense  revenue  \\\n",
       "0  15444.0       57.427544        52.842995                9585665.0    11058   \n",
       "1  74104.0       56.594778        53.008226               14229909.0    16207   \n",
       "2  47510.0       56.594778        53.008226               14229909.0    16207   \n",
       "3  50650.0       56.927884        52.942134               23815574.0    27265   \n",
       "4  46332.0       57.427544        52.842995                9585665.0    11058   \n",
       "\n",
       "   Aircraft_Unit_Cost ($ millions USD)  ...  origin_density  dest_population  \\\n",
       "0                                 74.0  ...          1155.5        2205092.0   \n",
       "1                                 74.0  ...          1155.5        5668165.0   \n",
       "2                                 74.0  ...          1155.5        2650725.0   \n",
       "3                                 74.0  ...          1155.5        5650910.0   \n",
       "4                                 74.0  ...          1155.5        2150373.0   \n",
       "\n",
       "   dest_density  DEP_DELAY_NEW ARR_DELAY_NEW CANCELLED Utilization  \\\n",
       "0        2872.8       8.644068      9.440678  0.063492    0.889407   \n",
       "1        1522.2       9.102740      8.075862  0.006803    0.760337   \n",
       "2        1805.7      18.624521     18.896154  0.003817    0.795243   \n",
       "3        1394.6       4.595506      4.044944  0.000000    0.781639   \n",
       "4        1754.7      15.618321     13.946565  0.015038    0.776267   \n",
       "\n",
       "   Regularity         ASM         RASM  \n",
       "0    0.981818    9.246588  1195.900626  \n",
       "1    0.968254  127.715623   126.899118  \n",
       "2    0.979228  136.091530   119.088969  \n",
       "3    0.973134   66.719030   408.654024  \n",
       "4    0.972973   95.250213   116.094229  \n",
       "\n",
       "[5 rows x 36 columns]"
      ]
     },
     "execution_count": 3,
     "metadata": {},
     "output_type": "execute_result"
    }
   ],
   "source": [
    "# Utilization: boaded passengers concerning all departed flights’ available seats\n",
    "data = data.assign(Utilization = data['passengers'] / data['seats'])\n",
    "# Regularity: percentage of operated flights concerning planned flights\n",
    "data = data.assign(Regularity = data['sum_departures_performed'] / data['sum_departures_scheduled'])\n",
    "# Available seat miles (ASM): airline’s carrying capacity\n",
    "data = data.assign(ASM = data['seats'] / data['Route_Distance'])\n",
    "# Revenue Per Available Seat Mile (RASM): show financial performance\n",
    "data = data.assign(RASM = data['revenue'] / data['ASM'])\n",
    "data.head()"
   ]
  },
  {
   "cell_type": "markdown",
   "id": "a91e23f8-05f0-4dc3-9cda-caba5525fe97",
   "metadata": {},
   "source": [
    "### Use the internel attributes extracted from the structure of airline network to detect 'anomaly' airports\n",
    "- Degree centrality:  the number of connections a node has\n",
    "- Betweenness centrality: how often a node appear on the shortest path\n"
   ]
  },
  {
   "cell_type": "code",
   "execution_count": 12,
   "id": "c69d6b3a-5aa7-4f21-9273-c595c4ff2068",
   "metadata": {},
   "outputs": [],
   "source": [
    "# Create a graph\n",
    "G = nx.from_pandas_edgelist(data, source = 'Origin_Airport_Code', target = 'Destination_Airport_Code', create_using = nx.DiGraph, edge_attr = ['Utilization', 'Regularity', 'CANCELLED', 'ASM', 'RASM'])\n",
    "# Calculate degree centrality for each airport\n",
    "degree_centrality = nx.degree_centrality(G)\n",
    "# Calculate betweenness centrality for each airport\n",
    "betweenness_centrality = nx.betweenness_centrality(G)"
   ]
  },
  {
   "cell_type": "code",
   "execution_count": 13,
   "id": "f60310a1-695f-4b8f-a315-4abd1b5a7767",
   "metadata": {},
   "outputs": [],
   "source": [
    "# Get the nodes of the graph\n",
    "nodes = [node for node in G.nodes()]\n",
    "# Get the edges of the graph\n",
    "edges = [edge for edge in G.edges()]"
   ]
  },
  {
   "cell_type": "markdown",
   "id": "cf86e8e1-37d1-4226-af94-513fad1900ec",
   "metadata": {},
   "source": [
    "### Local Outlier Factor: identifies an outlier considering the density of its neighborhood\n",
    "Only use this method here for detecting anomaly airports (sanity check)"
   ]
  },
  {
   "cell_type": "markdown",
   "id": "30e89067-ef54-48bf-acf4-e2ddeb77481f",
   "metadata": {},
   "source": [
    "#### Use degree centrality as the attribute"
   ]
  },
  {
   "cell_type": "code",
   "execution_count": 8,
   "id": "581bd53b-b29a-4095-b3ac-929e0b10aa13",
   "metadata": {},
   "outputs": [
    {
     "data": {
      "text/plain": [
       "['BWI',\n",
       " 'DAL',\n",
       " 'DEN',\n",
       " 'HOU',\n",
       " 'LAS',\n",
       " 'LAX',\n",
       " 'MDW',\n",
       " 'OAK',\n",
       " 'PHX',\n",
       " 'MCO',\n",
       " 'TPA',\n",
       " 'BNA',\n",
       " 'CMH',\n",
       " 'DCA',\n",
       " 'IND',\n",
       " 'MKE',\n",
       " 'MSY',\n",
       " 'SAN',\n",
       " 'SAT',\n",
       " 'STL',\n",
       " 'SJC',\n",
       " 'SMF']"
      ]
     },
     "execution_count": 8,
     "metadata": {},
     "output_type": "execute_result"
    }
   ],
   "source": [
    "from sklearn.neighbors import LocalOutlierFactor\n",
    "import matplotlib.pyplot as plt\n",
    "\n",
    "# Compute LOF scores\n",
    "X = np.array(list(degree_centrality.values())).reshape(-1, 1)\n",
    "lof = LocalOutlierFactor(n_neighbors = 20)\n",
    "lof_scores = lof.fit_predict(X)\n",
    "outliers = [nodes[i] for i in np.where(lof.negative_outlier_factor_ < lof.offset_)[0]]\n",
    "outliers"
   ]
  },
  {
   "cell_type": "markdown",
   "id": "d1a12162-4343-408c-9c7a-a805cbdc78be",
   "metadata": {},
   "source": [
    "#### Use betweenness centrality as the attribute"
   ]
  },
  {
   "cell_type": "code",
   "execution_count": 9,
   "id": "8cf72d4b-d3ea-4125-8398-107cdacee111",
   "metadata": {},
   "outputs": [
    {
     "data": {
      "text/plain": [
       "['ABQ',\n",
       " 'BWI',\n",
       " 'DAL',\n",
       " 'DEN',\n",
       " 'HOU',\n",
       " 'LAS',\n",
       " 'LAX',\n",
       " 'MDW',\n",
       " 'OAK',\n",
       " 'PHX',\n",
       " 'ALB',\n",
       " 'FLL',\n",
       " 'MCO',\n",
       " 'TPA',\n",
       " 'ATL',\n",
       " 'AUS',\n",
       " 'BNA',\n",
       " 'BOS',\n",
       " 'CLE',\n",
       " 'CMH',\n",
       " 'DCA',\n",
       " 'IND',\n",
       " 'LGA',\n",
       " 'MCI',\n",
       " 'MKE',\n",
       " 'MSP',\n",
       " 'MSY',\n",
       " 'PBI',\n",
       " 'PHL',\n",
       " 'PIT',\n",
       " 'RSW',\n",
       " 'SAN',\n",
       " 'SAT',\n",
       " 'STL',\n",
       " 'ELP',\n",
       " 'EWR',\n",
       " 'SFO',\n",
       " 'SJC',\n",
       " 'SMF',\n",
       " 'BDL',\n",
       " 'BHM',\n",
       " 'RDU',\n",
       " 'BOI',\n",
       " 'GEG',\n",
       " 'BUF',\n",
       " 'BUR',\n",
       " 'PDX',\n",
       " 'SLC',\n",
       " 'GRR',\n",
       " 'ISP',\n",
       " 'MEM',\n",
       " 'MHT',\n",
       " 'OKC',\n",
       " 'PVD',\n",
       " 'ROC',\n",
       " 'SDF',\n",
       " 'SJU',\n",
       " 'OMA',\n",
       " 'SEA',\n",
       " 'SNA',\n",
       " 'ONT',\n",
       " 'RNO',\n",
       " 'TUS',\n",
       " 'LGB']"
      ]
     },
     "execution_count": 9,
     "metadata": {},
     "output_type": "execute_result"
    }
   ],
   "source": [
    "X = np.array(list(betweenness_centrality.values())).reshape(-1, 1)\n",
    "lof = LocalOutlierFactor(n_neighbors = 20)\n",
    "lof_scores = lof.fit_predict(X)\n",
    "outliers = [nodes[i] for i in np.where(lof.negative_outlier_factor_ < lof.offset_)[0]]\n",
    "outliers"
   ]
  },
  {
   "cell_type": "markdown",
   "id": "9bd77e7e-aad7-434d-9b89-cca896b2d109",
   "metadata": {},
   "source": [
    "### Use LOF to identify anomaly edges based on Utilization, Regularity, CANCELLED, ASM, RASM metrics"
   ]
  },
  {
   "cell_type": "code",
   "execution_count": 17,
   "id": "b565b592-13bf-4a09-96d9-8d5c2263ca39",
   "metadata": {},
   "outputs": [
    {
     "data": {
      "text/plain": [
       "[('BWI', 'SMF'),\n",
       " ('DEN', 'GRR'),\n",
       " ('DEN', 'MCO'),\n",
       " ('HOU', 'SNA'),\n",
       " ('LAS', 'MKE'),\n",
       " ('LAS', 'ONT'),\n",
       " ('LAX', 'BNA'),\n",
       " ('LAX', 'SFO'),\n",
       " ('MDW', 'BWI'),\n",
       " ('PHX', 'CMH'),\n",
       " ('PHX', 'DEN'),\n",
       " ('PHX', 'ELP'),\n",
       " ('FLL', 'IND'),\n",
       " ('MCO', 'ATL'),\n",
       " ('MCO', 'AUS'),\n",
       " ('MCO', 'PHL'),\n",
       " ('BNA', 'CLE'),\n",
       " ('DCA', 'STL'),\n",
       " ('DTW', 'STL'),\n",
       " ('PHL', 'HOU'),\n",
       " ('PHL', 'MCO'),\n",
       " ('RSW', 'BNA'),\n",
       " ('STL', 'RSW'),\n",
       " ('ELP', 'HOU'),\n",
       " ('HRL', 'AUS'),\n",
       " ('HRL', 'HOU'),\n",
       " ('SJC', 'HOU'),\n",
       " ('SJC', 'PHX'),\n",
       " ('BDL', 'TPA'),\n",
       " ('PDX', 'STL')]"
      ]
     },
     "execution_count": 17,
     "metadata": {},
     "output_type": "execute_result"
    }
   ],
   "source": [
    "from sklearn.preprocessing import MinMaxScaler, StandardScaler\n",
    "# Normalize the features so that they are on the same scale\n",
    "X = data.loc[:, ['Utilization', 'Regularity', 'CANCELLED', 'ASM', 'RASM']]\n",
    "scaler = StandardScaler()\n",
    "X = scaler.fit_transform(X)\n",
    "\n",
    "# Compute the LOF scores based on the metrics\n",
    "lof = LocalOutlierFactor(n_neighbors = 10)\n",
    "lof_scores = lof.fit_predict(X)\n",
    "outliers = [edges[i] for i in np.where(lof.negative_outlier_factor_ < lof.offset_)[0]]\n",
    "outliers"
   ]
  },
  {
   "cell_type": "markdown",
   "id": "75b59d35-afc4-48de-bd2c-9b2dfa0816d6",
   "metadata": {},
   "source": [
    "### Adjacent matrix (need to explore)\n",
    "- How to combine the edge attributes effectively to construct the adjacent matrix?"
   ]
  },
  {
   "cell_type": "code",
   "execution_count": 20,
   "id": "53e547b3-b0fc-481d-8cf3-7dbdaa5f88e8",
   "metadata": {},
   "outputs": [
    {
     "name": "stderr",
     "output_type": "stream",
     "text": [
      "/var/folders/vl/gqvqngs51qxf53rbxv14c96w0000gn/T/ipykernel_83956/1304958644.py:4: FutureWarning: adjacency_matrix will return a scipy.sparse array instead of a matrix in Networkx 3.0.\n",
      "  A = nx.adjacency_matrix(G)\n"
     ]
    }
   ],
   "source": [
    "from scipy.sparse import csr_matrix\n",
    "\n",
    "# get the adjacency matrix\n",
    "A = nx.adjacency_matrix(G)\n",
    "\n",
    "# convert the matrix to a numpy array\n",
    "A = A.toarray()"
   ]
  },
  {
   "cell_type": "markdown",
   "id": "c0a3408e-621c-4c6f-aed9-c5aee41373a5",
   "metadata": {},
   "source": [
    "### Node2Vector: learn low-dimensional representation of nodes in the Graph\n",
    "- Biased 2-order Random walk\n",
    "- p, q controls the tradeoff between DFS and BFS"
   ]
  },
  {
   "cell_type": "code",
   "execution_count": 21,
   "id": "2ca7df5d-1a7e-47ba-a7c5-5a52cecab535",
   "metadata": {},
   "outputs": [
    {
     "data": {
      "application/vnd.jupyter.widget-view+json": {
       "model_id": "89cf31b4ae584fabb8801ad82cfab0dc",
       "version_major": 2,
       "version_minor": 0
      },
      "text/plain": [
       "Computing transition probabilities:   0%|          | 0/85 [00:00<?, ?it/s]"
      ]
     },
     "metadata": {},
     "output_type": "display_data"
    },
    {
     "name": "stderr",
     "output_type": "stream",
     "text": [
      "Generating walks (CPU: 1): 100%|██████████| 100/100 [00:01<00:00, 82.15it/s]\n"
     ]
    }
   ],
   "source": [
    "from node2vec import Node2Vec\n",
    "# Initialize a Node2Vec object with the weighted graph and the weight keys\n",
    "node2vec = Node2Vec(G, dimensions = 64, walk_length = 30, num_walks = 100, p = 1, q = 1, weight_key= ('Utilization', 'Regularity', 'CANCELLED', 'ASM', 'RASM'))\n",
    "\n",
    "# Train the node2vec model\n",
    "model = node2vec.fit(window = 10)"
   ]
  },
  {
   "cell_type": "code",
   "execution_count": 22,
   "id": "3b5a0307-faa5-40d0-8d93-422c12da3ad9",
   "metadata": {},
   "outputs": [],
   "source": [
    "# get the node embeddings\n",
    "embeddings = np.zeros((G.number_of_nodes(), model.vector_size))\n",
    "for i, node in enumerate(G.nodes()):\n",
    "    embeddings[i] = model.wv[node]"
   ]
  },
  {
   "cell_type": "code",
   "execution_count": 23,
   "id": "0fbfe6f0-8001-4694-b9f3-966c3368d563",
   "metadata": {},
   "outputs": [],
   "source": [
    "# Normalize the node embeddings\n",
    "scaler = StandardScaler()\n",
    "embeddings_normalized = scaler.fit_transform(embeddings)"
   ]
  },
  {
   "cell_type": "markdown",
   "id": "8d3b46a1-12d5-4f7e-b868-f87340f13c05",
   "metadata": {},
   "source": [
    "### Local Outlier Factor (LOF)"
   ]
  },
  {
   "cell_type": "code",
   "execution_count": 24,
   "id": "3178beef-c127-45cf-86d9-bd0db0903097",
   "metadata": {},
   "outputs": [
    {
     "data": {
      "text/plain": [
       "['AMA',\n",
       " 'ATL',\n",
       " 'AUS',\n",
       " 'GSP',\n",
       " 'PBI',\n",
       " 'RIC',\n",
       " 'RSW',\n",
       " 'HRL',\n",
       " 'LBB',\n",
       " 'BOI',\n",
       " 'GEG',\n",
       " 'ISP',\n",
       " 'PWM',\n",
       " 'ROC',\n",
       " 'CRP',\n",
       " 'ICT',\n",
       " 'LGB']"
      ]
     },
     "execution_count": 24,
     "metadata": {},
     "output_type": "execute_result"
    }
   ],
   "source": [
    "lof = LocalOutlierFactor(n_neighbors = 30, contamination = 0.20)\n",
    "lof.fit_predict(embeddings_normalized)\n",
    "outliers = [nodes[i] for i in np.where(lof.negative_outlier_factor_ < lof.offset_)[0]]\n",
    "outliers"
   ]
  },
  {
   "cell_type": "markdown",
   "id": "a86a246d-cce0-4cad-86ac-1fa63562d07f",
   "metadata": {},
   "source": [
    "### IsolationRandomForest\n",
    "- emsenble of decision tree\n",
    "- assumption: outliers are easier to be isolated\n",
    "- anomaly score is based on the average path lengths between root and each node"
   ]
  },
  {
   "cell_type": "code",
   "execution_count": 26,
   "id": "d379639c-8965-46f7-9636-5de648e2da80",
   "metadata": {},
   "outputs": [],
   "source": [
    "from sklearn.ensemble import IsolationForest\n",
    "\n",
    "# create an IsolationForest object\n",
    "isolation_forest = IsolationForest(n_estimators = 100, contamination = 0.1, random_state = 42)\n",
    "\n",
    "# fit the IsolationForest model to the embeddings\n",
    "isolation_forest.fit(embeddings)\n",
    "# get the average anomaly score\n",
    "node_scores = isolation_forest.decision_function(embeddings)"
   ]
  },
  {
   "cell_type": "code",
   "execution_count": 27,
   "id": "364f24f1-fb0c-4165-9294-442bda04dddb",
   "metadata": {},
   "outputs": [
    {
     "name": "stdout",
     "output_type": "stream",
     "text": [
      "Anomaly nodes: ['DTW', 'MSY', 'RDU', 'CMH', 'PIT', 'SAT', 'IND', 'ABQ', 'SDF', 'TUL', 'MSP', 'BOS', 'SEA', 'SLC', 'JAX']\n"
     ]
    }
   ],
   "source": [
    "# Identify the anomaly nodes based on the rank of anomaly score\n",
    "k = 15  # number of anomalies to identify\n",
    "anomaly_indices = (-node_scores).argsort()[:k]\n",
    "anomaly_nodes = [nodes[i] for i in anomaly_indices]\n",
    "print(\"Anomaly nodes:\", anomaly_nodes)"
   ]
  },
  {
   "cell_type": "code",
   "execution_count": 28,
   "id": "9d16f6ab-5ba9-4fa8-b715-6e712df5029a",
   "metadata": {},
   "outputs": [
    {
     "data": {
      "text/plain": [
       "['GSP', 'PBI', 'RIC', 'HRL', 'BOI', 'GEG', 'ISP', 'CRP', 'LGB']"
      ]
     },
     "execution_count": 28,
     "metadata": {},
     "output_type": "execute_result"
    }
   ],
   "source": [
    "# Or only pick nodes with average anomaly score below 0\n",
    "outliers = [nodes[i] for i in np.where(node_scores < 0)[0]]\n",
    "outliers"
   ]
  },
  {
   "cell_type": "markdown",
   "id": "57ed7137-8033-4eaa-92fd-c3a71ff23f16",
   "metadata": {},
   "source": [
    "### One class SVM \n",
    "Since we don't have the labels for the airport such that we can assume all nodes belongs to only one class. OC-SVM uses the origin as the other class"
   ]
  },
  {
   "cell_type": "code",
   "execution_count": 30,
   "id": "5a136d06-c45e-40de-8d95-d616ef00b4fb",
   "metadata": {},
   "outputs": [
    {
     "name": "stdout",
     "output_type": "stream",
     "text": [
      "Anomaly nodes: ['BWI', 'DAL', 'DEN', 'HOU', 'LAS', 'LAX', 'OAK', 'PHX', 'ALB', 'FLL', 'MCO', 'TPA', 'AUS', 'BNA', 'BOS', 'CLE', 'GSP', 'IAD', 'JAX', 'LGA', 'MCI', 'PBI', 'SAN', 'ELP', 'HRL', 'SFO', 'SJC', 'BDL', 'BHM', 'PNS', 'BOI', 'BUR', 'PDX', 'SLC', 'CHS', 'CLT', 'ECP', 'ISP', 'MHT', 'OKC', 'ORF', 'PVD', 'SJU', 'CRP', 'LIT', 'OMA', 'SEA', 'SNA', 'TUL', 'RNO', 'TUS', 'DSM', 'LGB']\n"
     ]
    }
   ],
   "source": [
    "from sklearn import svm\n",
    "\n",
    "# Train the One-Class SVM\n",
    "svm = svm.OneClassSVM(nu = 0.01, kernel = \"rbf\", gamma = 0.1)\n",
    "svm.fit(embeddings_normalized)\n",
    "\n",
    "# Predict the anomaly scores for all embeddings\n",
    "anomaly_scores = svm.decision_function(embeddings_normalized)\n",
    "\n",
    "# Identify nodes as anomalies if its anomaly scoce is below zero\n",
    "anomaly_nodes = [nodes[i] for i in np.where(anomaly_scores < 0)[0]]\n",
    "print(\"Anomaly nodes:\", anomaly_nodes)\n"
   ]
  },
  {
   "cell_type": "code",
   "execution_count": 31,
   "id": "6ea96f83-36c5-4109-92e2-9dea29ac1114",
   "metadata": {},
   "outputs": [
    {
     "name": "stdout",
     "output_type": "stream",
     "text": [
      "Anomaly nodes: ['OAK', 'BOS', 'GSP', 'ELP', 'SFO', 'CHS', 'ECP', 'PVD', 'OMA']\n"
     ]
    }
   ],
   "source": [
    "# Or we can set the threshold based on the distribution of the anomaly scores for all nodes\n",
    "scores = svm.score_samples(embeddings_normalized)\n",
    "thresh = np.quantile(scores, 0.10)\n",
    "anomaly_nodes = [nodes[i] for i in np.where(scores <= thresh)[0]]\n",
    "print(\"Anomaly nodes:\", anomaly_nodes)"
   ]
  },
  {
   "cell_type": "markdown",
   "id": "4c4aaffd-9c8c-41a3-9d1d-47e806c1e60d",
   "metadata": {},
   "source": [
    "### K means"
   ]
  },
  {
   "cell_type": "code",
   "execution_count": 22,
   "id": "a370d2c1-eb1d-49cf-878b-2fe4d19e9313",
   "metadata": {},
   "outputs": [],
   "source": [
    "from sklearn.cluster import KMeans"
   ]
  },
  {
   "cell_type": "code",
   "execution_count": 23,
   "id": "c6b3063c-952a-46a1-baa0-b22b0b78048a",
   "metadata": {},
   "outputs": [
    {
     "data": {
      "text/plain": [
       "array([0, 1, 0, 1, 0, 0, 0, 1, 0, 0, 1, 1, 1, 1, 0, 1, 0, 1, 1, 1, 1, 1,\n",
       "       1, 1, 1, 1, 1, 1, 1, 1, 1, 1, 1, 1, 1, 1, 1, 0, 1, 1, 0, 1, 0, 0,\n",
       "       0, 0, 0, 1, 1, 1, 1, 0, 0, 1, 0, 0, 0, 1, 1, 1, 1, 1, 1, 1, 1, 0,\n",
       "       1, 1, 1, 1, 1, 1, 0, 0, 0, 1, 0, 0, 0, 0, 0, 0, 0, 0, 0],\n",
       "      dtype=int32)"
      ]
     },
     "execution_count": 23,
     "metadata": {},
     "output_type": "execute_result"
    }
   ],
   "source": [
    "kmeans = KMeans(n_clusters=2, random_state=0).fit(embeddings_normalized)\n",
    "kmeans.predict(embeddings_normalized)"
   ]
  },
  {
   "cell_type": "markdown",
   "id": "c2e9e52a-6c41-49d9-a3fc-64ca81516bae",
   "metadata": {},
   "source": [
    "#### Performing dimension reduction before implement K-means? Does 0 represent outlier?)"
   ]
  },
  {
   "cell_type": "markdown",
   "id": "a92d67cb-e922-4fbe-8485-bcd2b042bfe9",
   "metadata": {},
   "source": [
    "### Graph Convolutional Autoencoder (only edge with edge attributes information)\n",
    "- encoder: graph convolutional layers with a fully connected layer\n",
    "- decoder: mirrors the structure of encoders in a reverse order\n",
    "- loss function: MSE\n",
    "- anomaly nodes: Identify the nodes with the highest number of anomalous edges as abnormal nodes\n",
    "- threshold choice"
   ]
  }
 ],
 "metadata": {
  "kernelspec": {
   "display_name": "Python 3 (ipykernel)",
   "language": "python",
   "name": "python3"
  },
  "language_info": {
   "codemirror_mode": {
    "name": "ipython",
    "version": 3
   },
   "file_extension": ".py",
   "mimetype": "text/x-python",
   "name": "python",
   "nbconvert_exporter": "python",
   "pygments_lexer": "ipython3",
   "version": "3.9.13"
  }
 },
 "nbformat": 4,
 "nbformat_minor": 5
}
