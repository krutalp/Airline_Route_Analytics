{
 "cells": [
  {
   "cell_type": "code",
   "execution_count": 1,
   "id": "a065614b-6432-49aa-a735-a268a67b587b",
   "metadata": {},
   "outputs": [],
   "source": [
    "import pandas as pd\n",
    "import numpy as np\n",
    "import networkx as nx\n",
    "import matplotlib.pyplot as plt\n",
    "from sklearn.neighbors import LocalOutlierFactor\n",
    "from matplotlib_venn import venn2\n",
    "from node2vec import Node2Vec\n",
    "from sklearn.preprocessing import StandardScaler\n",
    "from sklearn.metrics import f1_score\n",
    "from sklearn.model_selection import ParameterGrid\n",
    "from sklearn.ensemble import IsolationForest\n",
    "from sklearn import svm"
   ]
  },
  {
   "cell_type": "markdown",
   "id": "7ba3e240-d027-4bd2-9297-ae719049d83f",
   "metadata": {},
   "source": [
    "# Graph anomaly detection\n",
    "1. Generate labels for hub points using Local Outlier Factor according to internel attributes of graph such as degree centrality and betweenness centrality\n",
    "2. Compare the impact of degree centrality and betweenness centrality on the generated hub points\n",
    "3. Create a graph, where each edge has Utilization (boarded passengers concerning all departed flights' available seats), Regularity (percentage of operated flights concerning planned flights), ASM (available seat miles), RASM (Revenue Per Available Seat Mile) and Cancellation Probabilities as attributes\n",
    "4. Leverage Node2Vec technique to extract low-dimensional embeddingss of the graph using edge attributes\n",
    "5. Fine-tuning parameter p and q used in Node2Vec with a combination of outliers identified in step 1,2, LOF algorithm and F1-score.\n",
    "6. Implement One Class SVM and Isolation Random Forest on the node embeddings with best p, q to find the outliers\n",
    "7. Two-sample t test for examing metrics of the identified 'outliers'\n",
    "7. Link Prediction (Stratified Bagging with Logistic Regression, Random Forest Classifiers)"
   ]
  },
  {
   "cell_type": "code",
   "execution_count": 2,
   "id": "110194c7-88aa-4512-b635-7c254ee609e9",
   "metadata": {},
   "outputs": [
    {
     "data": {
      "text/html": [
       "<div>\n",
       "<style scoped>\n",
       "    .dataframe tbody tr th:only-of-type {\n",
       "        vertical-align: middle;\n",
       "    }\n",
       "\n",
       "    .dataframe tbody tr th {\n",
       "        vertical-align: top;\n",
       "    }\n",
       "\n",
       "    .dataframe thead th {\n",
       "        text-align: right;\n",
       "    }\n",
       "</style>\n",
       "<table border=\"1\" class=\"dataframe\">\n",
       "  <thead>\n",
       "    <tr style=\"text-align: right;\">\n",
       "      <th></th>\n",
       "      <th>citypair</th>\n",
       "      <th>sum_departures_performed</th>\n",
       "      <th>sum_departures_scheduled</th>\n",
       "      <th>passengers</th>\n",
       "      <th>seats</th>\n",
       "      <th>avg_fuel_price</th>\n",
       "      <th>avg_stock_price</th>\n",
       "      <th>total_operating_expense</th>\n",
       "      <th>revenue</th>\n",
       "      <th>Aircraft_Unit_Cost ($ millions USD)</th>\n",
       "      <th>...</th>\n",
       "      <th>origin_density</th>\n",
       "      <th>dest_population</th>\n",
       "      <th>dest_density</th>\n",
       "      <th>DEP_DELAY_NEW</th>\n",
       "      <th>ARR_DELAY_NEW</th>\n",
       "      <th>CANCELLED</th>\n",
       "      <th>Utilization</th>\n",
       "      <th>Regularity</th>\n",
       "      <th>ASM</th>\n",
       "      <th>RASM</th>\n",
       "    </tr>\n",
       "  </thead>\n",
       "  <tbody>\n",
       "    <tr>\n",
       "      <th>0</th>\n",
       "      <td>ABQ-BWI</td>\n",
       "      <td>108.0</td>\n",
       "      <td>110.0</td>\n",
       "      <td>13736.0</td>\n",
       "      <td>15444.0</td>\n",
       "      <td>57.427544</td>\n",
       "      <td>52.842995</td>\n",
       "      <td>9585665.0</td>\n",
       "      <td>11058</td>\n",
       "      <td>74.0</td>\n",
       "      <td>...</td>\n",
       "      <td>1155.5</td>\n",
       "      <td>2205092.0</td>\n",
       "      <td>2872.8</td>\n",
       "      <td>8.644068</td>\n",
       "      <td>9.440678</td>\n",
       "      <td>0.063492</td>\n",
       "      <td>0.889407</td>\n",
       "      <td>0.981818</td>\n",
       "      <td>9.246588</td>\n",
       "      <td>1.195901e+09</td>\n",
       "    </tr>\n",
       "    <tr>\n",
       "      <th>1</th>\n",
       "      <td>ABQ-DAL</td>\n",
       "      <td>488.0</td>\n",
       "      <td>504.0</td>\n",
       "      <td>56344.0</td>\n",
       "      <td>74104.0</td>\n",
       "      <td>56.594778</td>\n",
       "      <td>53.008226</td>\n",
       "      <td>14229909.0</td>\n",
       "      <td>16207</td>\n",
       "      <td>74.0</td>\n",
       "      <td>...</td>\n",
       "      <td>1155.5</td>\n",
       "      <td>5668165.0</td>\n",
       "      <td>1522.2</td>\n",
       "      <td>9.102740</td>\n",
       "      <td>8.075862</td>\n",
       "      <td>0.006803</td>\n",
       "      <td>0.760337</td>\n",
       "      <td>0.968254</td>\n",
       "      <td>127.715623</td>\n",
       "      <td>1.268991e+08</td>\n",
       "    </tr>\n",
       "    <tr>\n",
       "      <th>2</th>\n",
       "      <td>ABQ-DEN</td>\n",
       "      <td>330.0</td>\n",
       "      <td>337.0</td>\n",
       "      <td>37782.0</td>\n",
       "      <td>47510.0</td>\n",
       "      <td>56.594778</td>\n",
       "      <td>53.008226</td>\n",
       "      <td>14229909.0</td>\n",
       "      <td>16207</td>\n",
       "      <td>74.0</td>\n",
       "      <td>...</td>\n",
       "      <td>1155.5</td>\n",
       "      <td>2650725.0</td>\n",
       "      <td>1805.7</td>\n",
       "      <td>18.624521</td>\n",
       "      <td>18.896154</td>\n",
       "      <td>0.003817</td>\n",
       "      <td>0.795243</td>\n",
       "      <td>0.979228</td>\n",
       "      <td>136.091530</td>\n",
       "      <td>1.190890e+08</td>\n",
       "    </tr>\n",
       "    <tr>\n",
       "      <th>3</th>\n",
       "      <td>ABQ-HOU</td>\n",
       "      <td>326.0</td>\n",
       "      <td>335.0</td>\n",
       "      <td>39590.0</td>\n",
       "      <td>50650.0</td>\n",
       "      <td>56.927884</td>\n",
       "      <td>52.942134</td>\n",
       "      <td>23815574.0</td>\n",
       "      <td>27265</td>\n",
       "      <td>74.0</td>\n",
       "      <td>...</td>\n",
       "      <td>1155.5</td>\n",
       "      <td>5650910.0</td>\n",
       "      <td>1394.6</td>\n",
       "      <td>4.595506</td>\n",
       "      <td>4.044944</td>\n",
       "      <td>0.000000</td>\n",
       "      <td>0.781639</td>\n",
       "      <td>0.973134</td>\n",
       "      <td>66.719030</td>\n",
       "      <td>4.086540e+08</td>\n",
       "    </tr>\n",
       "    <tr>\n",
       "      <th>4</th>\n",
       "      <td>ABQ-LAS</td>\n",
       "      <td>324.0</td>\n",
       "      <td>333.0</td>\n",
       "      <td>35966.0</td>\n",
       "      <td>46332.0</td>\n",
       "      <td>57.427544</td>\n",
       "      <td>52.842995</td>\n",
       "      <td>9585665.0</td>\n",
       "      <td>11058</td>\n",
       "      <td>74.0</td>\n",
       "      <td>...</td>\n",
       "      <td>1155.5</td>\n",
       "      <td>2150373.0</td>\n",
       "      <td>1754.7</td>\n",
       "      <td>15.618321</td>\n",
       "      <td>13.946565</td>\n",
       "      <td>0.015038</td>\n",
       "      <td>0.776267</td>\n",
       "      <td>0.972973</td>\n",
       "      <td>95.250213</td>\n",
       "      <td>1.160942e+08</td>\n",
       "    </tr>\n",
       "  </tbody>\n",
       "</table>\n",
       "<p>5 rows × 36 columns</p>\n",
       "</div>"
      ],
      "text/plain": [
       "  citypair  sum_departures_performed  sum_departures_scheduled  passengers  \\\n",
       "0  ABQ-BWI                     108.0                     110.0     13736.0   \n",
       "1  ABQ-DAL                     488.0                     504.0     56344.0   \n",
       "2  ABQ-DEN                     330.0                     337.0     37782.0   \n",
       "3  ABQ-HOU                     326.0                     335.0     39590.0   \n",
       "4  ABQ-LAS                     324.0                     333.0     35966.0   \n",
       "\n",
       "     seats  avg_fuel_price  avg_stock_price  total_operating_expense  revenue  \\\n",
       "0  15444.0       57.427544        52.842995                9585665.0    11058   \n",
       "1  74104.0       56.594778        53.008226               14229909.0    16207   \n",
       "2  47510.0       56.594778        53.008226               14229909.0    16207   \n",
       "3  50650.0       56.927884        52.942134               23815574.0    27265   \n",
       "4  46332.0       57.427544        52.842995                9585665.0    11058   \n",
       "\n",
       "   Aircraft_Unit_Cost ($ millions USD)  ...  origin_density  dest_population  \\\n",
       "0                                 74.0  ...          1155.5        2205092.0   \n",
       "1                                 74.0  ...          1155.5        5668165.0   \n",
       "2                                 74.0  ...          1155.5        2650725.0   \n",
       "3                                 74.0  ...          1155.5        5650910.0   \n",
       "4                                 74.0  ...          1155.5        2150373.0   \n",
       "\n",
       "   dest_density  DEP_DELAY_NEW ARR_DELAY_NEW CANCELLED Utilization  \\\n",
       "0        2872.8       8.644068      9.440678  0.063492    0.889407   \n",
       "1        1522.2       9.102740      8.075862  0.006803    0.760337   \n",
       "2        1805.7      18.624521     18.896154  0.003817    0.795243   \n",
       "3        1394.6       4.595506      4.044944  0.000000    0.781639   \n",
       "4        1754.7      15.618321     13.946565  0.015038    0.776267   \n",
       "\n",
       "   Regularity         ASM          RASM  \n",
       "0    0.981818    9.246588  1.195901e+09  \n",
       "1    0.968254  127.715623  1.268991e+08  \n",
       "2    0.979228  136.091530  1.190890e+08  \n",
       "3    0.973134   66.719030  4.086540e+08  \n",
       "4    0.972973   95.250213  1.160942e+08  \n",
       "\n",
       "[5 rows x 36 columns]"
      ]
     },
     "execution_count": 2,
     "metadata": {},
     "output_type": "execute_result"
    }
   ],
   "source": [
    "data  = pd.read_csv('Database/FINAL_EDGE_TABLE.csv', index_col = 0)\n",
    "data = data.drop(columns = {'Unnamed: 0', 'Unnamed: 0.1', 'Unnamed: 0.2'}, axis = 1)\n",
    "# Utilization: boaded passengers concerning all departed flights’ available seats\n",
    "data = data.assign(Utilization = data['passengers'] / data['seats'])\n",
    "# Regularity: percentage of operated flights concerning planned flights\n",
    "data = data.assign(Regularity = data['sum_departures_performed'] / data['sum_departures_scheduled'])\n",
    "# Available seat miles (ASM): airline’s carrying capacity\n",
    "data = data.assign(ASM = data['seats'] / data['Route_Distance'])\n",
    "# Revenue Per Available Seat Mile (RASM): show financial performance\n",
    "data = data.assign(RASM = data['revenue'] * 1e06 / data['ASM'])\n",
    "data.head()"
   ]
  },
  {
   "cell_type": "code",
   "execution_count": 3,
   "id": "f07bdb95-2e61-4a05-9b3a-92b5e951508b",
   "metadata": {},
   "outputs": [
    {
     "data": {
      "text/plain": [
       "Index(['citypair', 'sum_departures_performed', 'sum_departures_scheduled',\n",
       "       'passengers', 'seats', 'avg_fuel_price', 'avg_stock_price',\n",
       "       'total_operating_expense', 'revenue',\n",
       "       'Aircraft_Unit_Cost ($ millions USD)',\n",
       "       'Aircraft_Inverse_Age 1/age (1/yrs)', 'Number_of_Cancellations',\n",
       "       'Proportion of Seats filled', 'Aircraft Age (yrs)',\n",
       "       'Origin_Airport_Code', 'Destination_Airport_Code',\n",
       "       'origin_airport_type', 'origin_lat', 'origin_long', 'origin_city',\n",
       "       'dest_airport_type', 'dest_lat', 'dest_long', 'dest_city',\n",
       "       'Route_Distance', 'origin_population', 'origin_density',\n",
       "       'dest_population', 'dest_density', 'DEP_DELAY_NEW', 'ARR_DELAY_NEW',\n",
       "       'CANCELLED', 'Utilization', 'Regularity', 'ASM', 'RASM'],\n",
       "      dtype='object')"
      ]
     },
     "execution_count": 3,
     "metadata": {},
     "output_type": "execute_result"
    }
   ],
   "source": [
    "data.columns"
   ]
  },
  {
   "cell_type": "code",
   "execution_count": 4,
   "id": "d8819363-730f-4132-9111-bf2804523732",
   "metadata": {},
   "outputs": [],
   "source": [
    "data.to_csv('airline_tab.csv')"
   ]
  },
  {
   "cell_type": "code",
   "execution_count": 5,
   "id": "81026ac7-838f-4ec6-a494-6ffda4a182ce",
   "metadata": {},
   "outputs": [
    {
     "data": {
      "image/png": "[encoded data removed]",
      "text/plain": [
       "<Figure size 640x480 with 6 Axes>"
      ]
     },
     "metadata": {},
     "output_type": "display_data"
    }
   ],
   "source": [
    "data[['Utilization', 'Regularity', 'ASM', 'RASM', 'CANCELLED']].hist(layout = (2,3));"
   ]
  },
  {
   "cell_type": "code",
   "execution_count": 6,
   "id": "c69d6b3a-5aa7-4f21-9273-c595c4ff2068",
   "metadata": {},
   "outputs": [],
   "source": [
    "# Create a graph\n",
    "G = nx.from_pandas_edgelist(data, source = 'Origin_Airport_Code', target = 'Destination_Airport_Code', create_using = nx.DiGraph, edge_attr = ['Utilization', 'Regularity', 'CANCELLED', 'ASM', 'RASM'])\n",
    "# Calculate degree centrality for each airport\n",
    "degree_centrality = nx.degree_centrality(G)\n",
    "# Calculate betweenness centrality for each airport\n",
    "betweenness_centrality = nx.betweenness_centrality(G)"
   ]
  },
  {
   "cell_type": "code",
   "execution_count": 7,
   "id": "f60310a1-695f-4b8f-a315-4abd1b5a7767",
   "metadata": {},
   "outputs": [],
   "source": [
    "# Get the nodes and edges of the graph\n",
    "nodes = [node for node in G.nodes()]\n",
    "edges = [edge for edge in G.edges()]"
   ]
  },
  {
   "cell_type": "markdown",
   "id": "cf86e8e1-37d1-4226-af94-513fad1900ec",
   "metadata": {
    "tags": []
   },
   "source": [
    "## Create lables for outliers (hub points)"
   ]
  },
  {
   "cell_type": "markdown",
   "id": "71915308-2d12-4c87-8d9c-4956076032f6",
   "metadata": {},
   "source": [
    "### Use degree centrality as the attribute"
   ]
  },
  {
   "cell_type": "code",
   "execution_count": 8,
   "id": "581bd53b-b29a-4095-b3ac-929e0b10aa13",
   "metadata": {},
   "outputs": [
    {
     "name": "stdout",
     "output_type": "stream",
     "text": [
      "--LOF with Degree Centrality--\n",
      "Outliers are ['BWI', 'DAL', 'DEN', 'HOU', 'LAS', 'LAX', 'MDW', 'OAK', 'PHX', 'MCO', 'TPA', 'BNA', 'CMH', 'DCA', 'IND', 'MKE', 'MSY', 'SAN', 'SAT', 'STL', 'SJC', 'SMF']\n"
     ]
    }
   ],
   "source": [
    "X = np.array(list(degree_centrality.values())).reshape(-1, 1)\n",
    "lof_deg = LocalOutlierFactor(n_neighbors = 20).fit(X)\n",
    "# Nodes with LOF greater than 1.5 are identified as outliers (i.e negative outlier factor < -1.5)\n",
    "outliers_deg = [nodes[i] for i in np.where(lof_deg.negative_outlier_factor_ < lof_deg.offset_)[0]]\n",
    "# Create labels (1: inliers, -1: outliers)\n",
    "y_deg = np.array([-1 if i in outliers_deg else 1 for i in nodes])\n",
    "print('--LOF with Degree Centrality--')\n",
    "print('Outliers are {}'.format(outliers_deg))"
   ]
  },
  {
   "cell_type": "markdown",
   "id": "d1a12162-4343-408c-9c7a-a805cbdc78be",
   "metadata": {},
   "source": [
    "### Use betweenness centrality as the attribute"
   ]
  },
  {
   "cell_type": "code",
   "execution_count": 9,
   "id": "8cf72d4b-d3ea-4125-8398-107cdacee111",
   "metadata": {},
   "outputs": [
    {
     "name": "stdout",
     "output_type": "stream",
     "text": [
      "--LOF with Betweenness Centrality--\n",
      "Outliers are ['ABQ', 'BWI', 'DAL', 'DEN', 'HOU', 'LAS', 'LAX', 'MDW', 'OAK', 'PHX', 'ALB', 'FLL', 'MCO', 'TPA', 'ATL', 'AUS', 'BNA', 'BOS', 'CLE', 'CMH', 'DCA', 'IND', 'LGA', 'MCI', 'MKE', 'MSP', 'MSY', 'PBI', 'PHL', 'PIT', 'RSW', 'SAN', 'SAT', 'STL', 'ELP', 'EWR', 'SFO', 'SJC', 'SMF', 'BDL', 'BHM', 'RDU', 'BOI', 'GEG', 'BUF', 'BUR', 'PDX', 'SLC', 'GRR', 'ISP', 'MEM', 'MHT', 'OKC', 'PVD', 'ROC', 'SDF', 'SJU', 'OMA', 'SEA', 'SNA', 'ONT', 'RNO', 'TUS', 'LGB']\n"
     ]
    }
   ],
   "source": [
    "X = np.array(list(betweenness_centrality.values())).reshape(-1, 1)\n",
    "lof_betw = LocalOutlierFactor(n_neighbors = 20).fit(X)\n",
    "# Nodes with LOF greater than 1.5 are identified as outliers (i.e negative outlier factor < -1.5)\n",
    "outliers_betw = [nodes[i] for i in np.where(lof_betw.negative_outlier_factor_ < lof_betw.offset_)[0]]\n",
    "# Create labels (1: inliers, -1: outliers)\n",
    "y_betw = np.array([-1 if i in outliers_betw else 1 for i in nodes])\n",
    "print('--LOF with Betweenness Centrality--')\n",
    "print('Outliers are {}'.format(outliers_betw))"
   ]
  },
  {
   "cell_type": "markdown",
   "id": "5b3fb1db-8c6b-4593-9a1d-71f3e8936e84",
   "metadata": {},
   "source": [
    "### Compare the outliers identified with Degree Centrality and Betweenness Centrality"
   ]
  },
  {
   "cell_type": "code",
   "execution_count": 10,
   "id": "1e92d687-8bd6-41ad-bb73-b6ef40e10249",
   "metadata": {},
   "outputs": [
    {
     "data": {
      "image/png": "[encoded data removed]",
      "text/plain": [
       "<Figure size 640x480 with 1 Axes>"
      ]
     },
     "metadata": {},
     "output_type": "display_data"
    }
   ],
   "source": [
    "from matplotlib_venn import venn2\n",
    "\n",
    "venn = venn2([set(outliers_deg), set(outliers_betw)], set_labels=('Degree Centrality', 'Betweenness Centrality'), set_colors=('green', 'yellow'), alpha = 0.7)\n",
    "plt.legend(('Degree Centrality', 'Betweenness Centrality'), loc='center left', bbox_to_anchor=(1, 0.5), frameon = False, prop = {'size': 10}, markerscale = 1.5, title = 'Internal Attribute of the Network', title_fontsize = 12, handletextpad = 0.2)\n",
    "plt.title('Venn Diagram of Number of Outliers')\n",
    "plt.show()"
   ]
  },
  {
   "cell_type": "markdown",
   "id": "16548898-86a3-4011-ac1d-eeb9bbb17d58",
   "metadata": {},
   "source": [
    "#### All outliers recognized using degree centrality belong to those identified using betweenness centrality"
   ]
  },
  {
   "cell_type": "code",
   "execution_count": 11,
   "id": "614579ac-7fe0-48d0-9e58-8ff29057445a",
   "metadata": {},
   "outputs": [
    {
     "name": "stdout",
     "output_type": "stream",
     "text": [
      "Number of Common is: 22\n",
      "Number of Unique Outliers obtained using Betweenness Centrality is: 42\n"
     ]
    }
   ],
   "source": [
    "# Find the common outliers\n",
    "common_outliers = set(outliers_deg).intersection(outliers_betw)\n",
    "# Find the unique outliers identified using betweenness centrality\n",
    "unique_outliers_betw = [i for i in outliers_betw if i not in common_outliers]\n",
    "print(\"Number of Common is: {}\".format(len(outliers_deg)))\n",
    "print(\"Number of Unique Outliers obtained using Betweenness Centrality is: {}\".format(len(unique_outliers_betw)))"
   ]
  },
  {
   "cell_type": "markdown",
   "id": "9bd77e7e-aad7-434d-9b89-cca896b2d109",
   "metadata": {},
   "source": [
    "### Use LOF to identify anomaly edges based on Utilization, Regularity, CANCELLED, ASM, RASM metrics"
   ]
  },
  {
   "cell_type": "code",
   "execution_count": 12,
   "id": "b565b592-13bf-4a09-96d9-8d5c2263ca39",
   "metadata": {},
   "outputs": [
    {
     "name": "stdout",
     "output_type": "stream",
     "text": [
      "The number of Edges identified as outliers: 30\n"
     ]
    }
   ],
   "source": [
    "from sklearn.preprocessing import MinMaxScaler, StandardScaler\n",
    "# Normalize the features so that they are on the same scale\n",
    "X = data.loc[:, ['Utilization', 'Regularity', 'CANCELLED', 'ASM', 'RASM']]\n",
    "scaler = StandardScaler()\n",
    "X = scaler.fit_transform(X)\n",
    "\n",
    "# Compute the LOF scores based on the metrics\n",
    "lof = LocalOutlierFactor(n_neighbors = 10)\n",
    "lof_scores = lof.fit_predict(X)\n",
    "edge_outliers = [edges[i] for i in np.where(lof.negative_outlier_factor_ < lof.offset_)[0]]\n",
    "print(f\"The number of Edges identified as outliers: {len(edge_outliers)}\")"
   ]
  },
  {
   "cell_type": "code",
   "execution_count": 13,
   "id": "5e8d39e9-8e08-419e-b09b-e390b9757083",
   "metadata": {},
   "outputs": [
    {
     "data": {
      "text/plain": [
       "[('BWI', 'SMF'),\n",
       " ('DEN', 'GRR'),\n",
       " ('DEN', 'MCO'),\n",
       " ('HOU', 'SNA'),\n",
       " ('LAS', 'MKE'),\n",
       " ('LAS', 'ONT'),\n",
       " ('LAX', 'BNA'),\n",
       " ('LAX', 'SFO'),\n",
       " ('MDW', 'BWI'),\n",
       " ('PHX', 'CMH'),\n",
       " ('PHX', 'DEN'),\n",
       " ('PHX', 'ELP'),\n",
       " ('FLL', 'IND'),\n",
       " ('MCO', 'ATL'),\n",
       " ('MCO', 'AUS'),\n",
       " ('MCO', 'PHL'),\n",
       " ('BNA', 'CLE'),\n",
       " ('DCA', 'STL'),\n",
       " ('DTW', 'STL'),\n",
       " ('PHL', 'HOU'),\n",
       " ('PHL', 'MCO'),\n",
       " ('RSW', 'BNA'),\n",
       " ('STL', 'RSW'),\n",
       " ('ELP', 'HOU'),\n",
       " ('HRL', 'AUS'),\n",
       " ('HRL', 'HOU'),\n",
       " ('SJC', 'HOU'),\n",
       " ('SJC', 'PHX'),\n",
       " ('BDL', 'TPA'),\n",
       " ('PDX', 'STL')]"
      ]
     },
     "execution_count": 13,
     "metadata": {},
     "output_type": "execute_result"
    }
   ],
   "source": [
    "edge_outliers"
   ]
  },
  {
   "cell_type": "markdown",
   "id": "c0a3408e-621c-4c6f-aed9-c5aee41373a5",
   "metadata": {},
   "source": [
    "## Fine-tuning p q in Node2Vec"
   ]
  },
  {
   "cell_type": "code",
   "execution_count": 14,
   "id": "2ca7df5d-1a7e-47ba-a7c5-5a52cecab535",
   "metadata": {},
   "outputs": [
    {
     "name": "stdout",
     "output_type": "stream",
     "text": [
      "{'p': 0.1, 'q': 0.25}\n"
     ]
    },
    {
     "data": {
      "application/vnd.jupyter.widget-view+json": {
       "model_id": "974b2491d8814366bcf6c16e258e6429",
       "version_major": 2,
       "version_minor": 0
      },
      "text/plain": [
       "Computing transition probabilities:   0%|          | 0/85 [00:00<?, ?it/s]"
      ]
     },
     "metadata": {},
     "output_type": "display_data"
    },
    {
     "name": "stderr",
     "output_type": "stream",
     "text": [
      "Generating walks (CPU: 1): 100%|██████████| 100/100 [00:01<00:00, 87.17it/s]\n"
     ]
    },
    {
     "name": "stdout",
     "output_type": "stream",
     "text": [
      "{'p': 0.1, 'q': 0.5}\n"
     ]
    },
    {
     "data": {
      "application/vnd.jupyter.widget-view+json": {
       "model_id": "e65967a4704d42a1a3f6745ca71da5c0",
       "version_major": 2,
       "version_minor": 0
      },
      "text/plain": [
       "Computing transition probabilities:   0%|          | 0/85 [00:00<?, ?it/s]"
      ]
     },
     "metadata": {},
     "output_type": "display_data"
    },
    {
     "name": "stderr",
     "output_type": "stream",
     "text": [
      "Generating walks (CPU: 1): 100%|██████████| 100/100 [00:01<00:00, 83.44it/s]\n"
     ]
    },
    {
     "name": "stdout",
     "output_type": "stream",
     "text": [
      "{'p': 0.1, 'q': 0.75}\n"
     ]
    },
    {
     "data": {
      "application/vnd.jupyter.widget-view+json": {
       "model_id": "101448ca97cf457389c83861dd96414d",
       "version_major": 2,
       "version_minor": 0
      },
      "text/plain": [
       "Computing transition probabilities:   0%|          | 0/85 [00:00<?, ?it/s]"
      ]
     },
     "metadata": {},
     "output_type": "display_data"
    },
    {
     "name": "stderr",
     "output_type": "stream",
     "text": [
      "Generating walks (CPU: 1): 100%|██████████| 100/100 [00:01<00:00, 83.03it/s]\n"
     ]
    },
    {
     "name": "stdout",
     "output_type": "stream",
     "text": [
      "{'p': 0.1, 'q': 0.9}\n"
     ]
    },
    {
     "data": {
      "application/vnd.jupyter.widget-view+json": {
       "model_id": "b688f46e87904479bb714ca86fb125e2",
       "version_major": 2,
       "version_minor": 0
      },
      "text/plain": [
       "Computing transition probabilities:   0%|          | 0/85 [00:00<?, ?it/s]"
      ]
     },
     "metadata": {},
     "output_type": "display_data"
    },
    {
     "name": "stderr",
     "output_type": "stream",
     "text": [
      "Generating walks (CPU: 1): 100%|██████████| 100/100 [00:01<00:00, 81.06it/s]\n"
     ]
    },
    {
     "name": "stdout",
     "output_type": "stream",
     "text": [
      "{'p': 0.1, 'q': 1}\n"
     ]
    },
    {
     "data": {
      "application/vnd.jupyter.widget-view+json": {
       "model_id": "4604d32c158c400c9363dc81808ef760",
       "version_major": 2,
       "version_minor": 0
      },
      "text/plain": [
       "Computing transition probabilities:   0%|          | 0/85 [00:00<?, ?it/s]"
      ]
     },
     "metadata": {},
     "output_type": "display_data"
    },
    {
     "name": "stderr",
     "output_type": "stream",
     "text": [
      "Generating walks (CPU: 1): 100%|██████████| 100/100 [00:01<00:00, 78.50it/s]\n"
     ]
    },
    {
     "name": "stdout",
     "output_type": "stream",
     "text": [
      "{'p': 0.25, 'q': 0.5}\n"
     ]
    },
    {
     "data": {
      "application/vnd.jupyter.widget-view+json": {
       "model_id": "69e60f2fe91e4416b3bb9b960f2c0009",
       "version_major": 2,
       "version_minor": 0
      },
      "text/plain": [
       "Computing transition probabilities:   0%|          | 0/85 [00:00<?, ?it/s]"
      ]
     },
     "metadata": {},
     "output_type": "display_data"
    },
    {
     "name": "stderr",
     "output_type": "stream",
     "text": [
      "Generating walks (CPU: 1): 100%|██████████| 100/100 [00:01<00:00, 80.74it/s]\n"
     ]
    },
    {
     "name": "stdout",
     "output_type": "stream",
     "text": [
      "{'p': 0.25, 'q': 0.75}\n"
     ]
    },
    {
     "data": {
      "application/vnd.jupyter.widget-view+json": {
       "model_id": "1f37162724cb421fa4992e9cdad3b7e4",
       "version_major": 2,
       "version_minor": 0
      },
      "text/plain": [
       "Computing transition probabilities:   0%|          | 0/85 [00:00<?, ?it/s]"
      ]
     },
     "metadata": {},
     "output_type": "display_data"
    },
    {
     "name": "stderr",
     "output_type": "stream",
     "text": [
      "Generating walks (CPU: 1): 100%|██████████| 100/100 [00:01<00:00, 84.52it/s]\n"
     ]
    },
    {
     "name": "stdout",
     "output_type": "stream",
     "text": [
      "{'p': 0.25, 'q': 0.9}\n"
     ]
    },
    {
     "data": {
      "application/vnd.jupyter.widget-view+json": {
       "model_id": "bf2ed9bee6aa48e1a377e7ab602f0928",
       "version_major": 2,
       "version_minor": 0
      },
      "text/plain": [
       "Computing transition probabilities:   0%|          | 0/85 [00:00<?, ?it/s]"
      ]
     },
     "metadata": {},
     "output_type": "display_data"
    },
    {
     "name": "stderr",
     "output_type": "stream",
     "text": [
      "Generating walks (CPU: 1): 100%|██████████| 100/100 [00:01<00:00, 75.81it/s]\n"
     ]
    },
    {
     "name": "stdout",
     "output_type": "stream",
     "text": [
      "{'p': 0.25, 'q': 1}\n"
     ]
    },
    {
     "data": {
      "application/vnd.jupyter.widget-view+json": {
       "model_id": "b287d32cdf9846748c8721ea30cce3c5",
       "version_major": 2,
       "version_minor": 0
      },
      "text/plain": [
       "Computing transition probabilities:   0%|          | 0/85 [00:00<?, ?it/s]"
      ]
     },
     "metadata": {},
     "output_type": "display_data"
    },
    {
     "name": "stderr",
     "output_type": "stream",
     "text": [
      "Generating walks (CPU: 1): 100%|██████████| 100/100 [00:01<00:00, 82.73it/s]\n"
     ]
    },
    {
     "name": "stdout",
     "output_type": "stream",
     "text": [
      "{'p': 0.5, 'q': 0.75}\n"
     ]
    },
    {
     "data": {
      "application/vnd.jupyter.widget-view+json": {
       "model_id": "2666dbc6ade443e9bb957111b3152219",
       "version_major": 2,
       "version_minor": 0
      },
      "text/plain": [
       "Computing transition probabilities:   0%|          | 0/85 [00:00<?, ?it/s]"
      ]
     },
     "metadata": {},
     "output_type": "display_data"
    },
    {
     "name": "stderr",
     "output_type": "stream",
     "text": [
      "Generating walks (CPU: 1): 100%|██████████| 100/100 [00:01<00:00, 82.05it/s]\n"
     ]
    },
    {
     "name": "stdout",
     "output_type": "stream",
     "text": [
      "{'p': 0.5, 'q': 0.9}\n"
     ]
    },
    {
     "data": {
      "application/vnd.jupyter.widget-view+json": {
       "model_id": "310f746a3fc44817b76498f5a4cafdfb",
       "version_major": 2,
       "version_minor": 0
      },
      "text/plain": [
       "Computing transition probabilities:   0%|          | 0/85 [00:00<?, ?it/s]"
      ]
     },
     "metadata": {},
     "output_type": "display_data"
    },
    {
     "name": "stderr",
     "output_type": "stream",
     "text": [
      "Generating walks (CPU: 1): 100%|██████████| 100/100 [00:01<00:00, 81.53it/s]\n"
     ]
    },
    {
     "name": "stdout",
     "output_type": "stream",
     "text": [
      "{'p': 0.5, 'q': 1}\n"
     ]
    },
    {
     "data": {
      "application/vnd.jupyter.widget-view+json": {
       "model_id": "1d208751281045c7950be53b3126bf4a",
       "version_major": 2,
       "version_minor": 0
      },
      "text/plain": [
       "Computing transition probabilities:   0%|          | 0/85 [00:00<?, ?it/s]"
      ]
     },
     "metadata": {},
     "output_type": "display_data"
    },
    {
     "name": "stderr",
     "output_type": "stream",
     "text": [
      "Generating walks (CPU: 1): 100%|██████████| 100/100 [00:01<00:00, 82.69it/s]\n"
     ]
    },
    {
     "name": "stdout",
     "output_type": "stream",
     "text": [
      "{'p': 0.75, 'q': 0.9}\n"
     ]
    },
    {
     "data": {
      "application/vnd.jupyter.widget-view+json": {
       "model_id": "f2375059ab2647fb8dbb6c2544f3449d",
       "version_major": 2,
       "version_minor": 0
      },
      "text/plain": [
       "Computing transition probabilities:   0%|          | 0/85 [00:00<?, ?it/s]"
      ]
     },
     "metadata": {},
     "output_type": "display_data"
    },
    {
     "name": "stderr",
     "output_type": "stream",
     "text": [
      "Generating walks (CPU: 1): 100%|██████████| 100/100 [00:01<00:00, 82.50it/s]\n"
     ]
    },
    {
     "name": "stdout",
     "output_type": "stream",
     "text": [
      "{'p': 0.75, 'q': 1}\n"
     ]
    },
    {
     "data": {
      "application/vnd.jupyter.widget-view+json": {
       "model_id": "4976667d3b14494aa6fd0f01657d23de",
       "version_major": 2,
       "version_minor": 0
      },
      "text/plain": [
       "Computing transition probabilities:   0%|          | 0/85 [00:00<?, ?it/s]"
      ]
     },
     "metadata": {},
     "output_type": "display_data"
    },
    {
     "name": "stderr",
     "output_type": "stream",
     "text": [
      "Generating walks (CPU: 1): 100%|██████████| 100/100 [00:01<00:00, 80.80it/s]\n"
     ]
    },
    {
     "name": "stdout",
     "output_type": "stream",
     "text": [
      "{'p': 0.9, 'q': 1}\n"
     ]
    },
    {
     "data": {
      "application/vnd.jupyter.widget-view+json": {
       "model_id": "919ae54411014d75bb8caee03196f62d",
       "version_major": 2,
       "version_minor": 0
      },
      "text/plain": [
       "Computing transition probabilities:   0%|          | 0/85 [00:00<?, ?it/s]"
      ]
     },
     "metadata": {},
     "output_type": "display_data"
    },
    {
     "name": "stderr",
     "output_type": "stream",
     "text": [
      "Generating walks (CPU: 1): 100%|██████████| 100/100 [00:01<00:00, 78.99it/s]\n"
     ]
    }
   ],
   "source": [
    "# Define the hyperparameters to search over\n",
    "hyperparams = {\n",
    "    'p': [0.1, 0.25, 0.5, 0.75, 0.9, 1],\n",
    "    'q': [0.1, 0.25, 0.5, 0.75, 0.9, 1]\n",
    "}\n",
    "best_p_q = dict()\n",
    "\n",
    "# Generate all possible combinations of hyperparameters\n",
    "param_grid = ParameterGrid(hyperparams)\n",
    "# Initialize the evaluation metric\n",
    "best_f1_score = -1\n",
    "# Iterate over each combination of hyperparameters\n",
    "for params in param_grid:\n",
    "    if params['p'] >= params['q']:\n",
    "        continue\n",
    "    print(params)\n",
    "    # Initialize a Node2Vec object with the weighted graph and the weight keys\n",
    "    node2vec = Node2Vec(G, dimensions = 32, walk_length = 30, num_walks = 100,  p = params['p'], q = params['q'], weight_key = ('Utilization', 'Regularity', 'CANCELLED', 'ASM', 'RASM'))\n",
    "    # Train the node2vec model\n",
    "    model = node2vec.fit(window = 10, min_count = 1)\n",
    "    # Get the node embeddings\n",
    "    embeddings = np.zeros((G.number_of_nodes(), model.vector_size))\n",
    "    for i, node in enumerate(G.nodes()):\n",
    "        embeddings[i] = model.wv[node]\n",
    "    # Apply LOF to predict outlies based on the embeddings\n",
    "        lof_n2v = LocalOutlierFactor(n_neighbors = 20).fit(embeddings)\n",
    "        outliers_n2v = [nodes[i] for i in np.where(lof_n2v.negative_outlier_factor_ < lof_n2v.offset_)[0]]\n",
    "        y_pred_lof = np.array([-1 if i in outliers_n2v else 1 for i in nodes])\n",
    "        f1 = f1_score(y_deg, y_pred_lof)\n",
    "        if f1 >= best_f1_score:\n",
    "            best_f1_score = f1\n",
    "            best_p_q['p'], best_p_q['q']  = params['p'], params['q']\n",
    "            node_embeddings = embeddings"
   ]
  },
  {
   "cell_type": "code",
   "execution_count": 15,
   "id": "8d00db3c-2177-4f74-83de-9677b59d8245",
   "metadata": {},
   "outputs": [
    {
     "data": {
      "text/plain": [
       "{'p': 0.9, 'q': 1}"
      ]
     },
     "execution_count": 15,
     "metadata": {},
     "output_type": "execute_result"
    }
   ],
   "source": [
    "best_p_q"
   ]
  },
  {
   "cell_type": "code",
   "execution_count": 16,
   "id": "63ca095e-0a05-4b33-83d8-3aaa1e327c99",
   "metadata": {},
   "outputs": [
    {
     "data": {
      "text/plain": [
       "0.898550724637681"
      ]
     },
     "execution_count": 16,
     "metadata": {},
     "output_type": "execute_result"
    }
   ],
   "source": [
    "best_f1_score"
   ]
  },
  {
   "cell_type": "markdown",
   "id": "2ff0bccc-af5e-4a9f-93ba-faa575828c2c",
   "metadata": {},
   "source": [
    "## IsolationRandomForest"
   ]
  },
  {
   "cell_type": "code",
   "execution_count": 17,
   "id": "eebef387-54e4-47cd-a19b-5dcaf4ff2bd3",
   "metadata": {},
   "outputs": [
    {
     "data": {
      "image/png": "[encoded data removed]",
      "text/plain": [
       "<Figure size 800x600 with 1 Axes>"
      ]
     },
     "metadata": {},
     "output_type": "display_data"
    }
   ],
   "source": [
    "# create an IsolationForest object\n",
    "isolation_forest = IsolationForest(n_estimators = 100, contamination = 0.15, random_state = 42)\n",
    "\n",
    "# fit the IsolationForest model to the embeddings\n",
    "isolation_forest.fit(node_embeddings)\n",
    "# get the average anomaly\n",
    "outlier_scores_isof = isolation_forest.decision_function(node_embeddings)\n",
    "\n",
    "plt.figure(figsize=(8, 6))\n",
    "plt.hist(outlier_scores_isof, bins = 50)\n",
    "plt.xlabel(\"outlier score\")\n",
    "plt.ylabel(\"Frequency\")\n",
    "plt.title(\"Isolation Random Forest\");"
   ]
  },
  {
   "cell_type": "code",
   "execution_count": 18,
   "id": "51462cb9-8537-4a91-b1ce-842515da3fd7",
   "metadata": {},
   "outputs": [
    {
     "name": "stdout",
     "output_type": "stream",
     "text": [
      "Anomaly nodes: ['GSP', 'PBI', 'RIC', 'RSW', 'HRL', 'SMF', 'BOI', 'GEG', 'ISP', 'PWM', 'CRP', 'DSM', 'LGB']\n"
     ]
    }
   ],
   "source": [
    "# Identify the anomaly nodes based on positiveness of the scores (inliers: positive score; outliers: negative score)\n",
    "outliers_isof = [nodes[i] for i in np.where(outlier_scores_isof < 0)[0]]\n",
    "print(\"Anomaly nodes:\", outliers_isof)"
   ]
  },
  {
   "cell_type": "markdown",
   "id": "57ed7137-8033-4eaa-92fd-c3a71ff23f16",
   "metadata": {},
   "source": [
    "### One class SVM \n",
    "Since we don't have the labels for the airport such that we can assume all nodes belongs to only one class. OC-SVM uses the origin as the other class"
   ]
  },
  {
   "cell_type": "code",
   "execution_count": 19,
   "id": "5a136d06-c45e-40de-8d95-d616ef00b4fb",
   "metadata": {},
   "outputs": [],
   "source": [
    "# Train the One-Class SVM\n",
    "svm = svm.OneClassSVM(nu = 0.5, kernel = \"rbf\", gamma = 0.1)\n",
    "svm.fit(node_embeddings)\n",
    "\n",
    "# Predict the anomaly scores for all embeddings\n",
    "outlier_scores_svm = svm.decision_function(node_embeddings)"
   ]
  },
  {
   "cell_type": "code",
   "execution_count": 20,
   "id": "46be5fa4-d9db-4637-82a1-6c0c0b52f817",
   "metadata": {},
   "outputs": [
    {
     "data": {
      "image/png": "[encoded data removed]",
      "text/plain": [
       "<Figure size 640x480 with 1 Axes>"
      ]
     },
     "metadata": {},
     "output_type": "display_data"
    }
   ],
   "source": [
    "plt.hist(outlier_scores_svm, bins = 50)\n",
    "plt.xlabel(\"outlier score\")\n",
    "plt.ylabel(\"Frequency\")\n",
    "plt.title(\"One Class SVM\");"
   ]
  },
  {
   "cell_type": "code",
   "execution_count": 21,
   "id": "349834cf-59b5-4eb8-9aa9-58c1864624ad",
   "metadata": {},
   "outputs": [
    {
     "name": "stdout",
     "output_type": "stream",
     "text": [
      "Anomaly nodes: ['BWI', 'HOU', 'LAS', 'OAK', 'FLL', 'TPA', 'AMA', 'ATL', 'AUS', 'BNA', 'DCA', 'GSP', 'IAD', 'PBI', 'RIC', 'RSW', 'STL', 'HRL', 'LBB', 'SJC', 'SMF', 'BDL', 'PNS', 'BOI', 'GEG', 'BUR', 'CVG', 'GRR', 'ISP', 'MHT', 'PVD', 'PWM', 'ROC', 'SJU', 'CRP', 'LIT', 'MAF', 'SNA', 'ONT', 'TUS', 'DSM', 'ICT', 'LGB']\n"
     ]
    }
   ],
   "source": [
    "# Identify nodes as anomalies if its anomaly scoce is below zero\n",
    "outliers_svm = [nodes[i] for i in np.where(outlier_scores_svm < 0)[0]]\n",
    "print(\"Anomaly nodes:\", outliers_svm)"
   ]
  },
  {
   "cell_type": "code",
   "execution_count": 22,
   "id": "01b17c4c-752f-4b31-97db-28bb002aef7a",
   "metadata": {},
   "outputs": [
    {
     "data": {
      "text/plain": [
       "{'BOI',\n",
       " 'CRP',\n",
       " 'DSM',\n",
       " 'GEG',\n",
       " 'GSP',\n",
       " 'HRL',\n",
       " 'ISP',\n",
       " 'LGB',\n",
       " 'PBI',\n",
       " 'PWM',\n",
       " 'RIC',\n",
       " 'RSW',\n",
       " 'SMF'}"
      ]
     },
     "execution_count": 22,
     "metadata": {},
     "output_type": "execute_result"
    }
   ],
   "source": [
    "potential_outliers = set(outliers_isof).intersection(outliers_svm)\n",
    "potential_outliers"
   ]
  },
  {
   "cell_type": "markdown",
   "id": "e557693e-66ba-45b4-aa02-93127cd94c4e",
   "metadata": {},
   "source": [
    "### Two-sample t-test with unequal variances for removing potential hub points identified using graph anomaly detection"
   ]
  },
  {
   "cell_type": "code",
   "execution_count": 23,
   "id": "21e1e190-bda1-4760-81b4-ac51669f6131",
   "metadata": {},
   "outputs": [],
   "source": [
    "from scipy import stats\n",
    "def ttest_removing_potential_hubs(data, metric, node):\n",
    "    t_stat, p_val = stats.ttest_ind(data[data['citypair'].str.contains(node)][metric], data[~data['citypair'].str.contains(node)][metric], equal_var = False)\n",
    "    return p_val"
   ]
  },
  {
   "cell_type": "code",
   "execution_count": 24,
   "id": "67332727-6768-49c0-998c-40ce102b4002",
   "metadata": {},
   "outputs": [],
   "source": [
    "uncertain_nodes = [node for node in potential_outliers if len(data[data['citypair'].str.contains(node)]) <= 2]\n",
    "new_candidates = [node for node in potential_outliers if node not in uncertain_nodes]\n",
    "metrics = ['CANCELLED', 'Utilization', 'Regularity', 'ASM', 'RASM']\n",
    "res = {}\n",
    "for node in new_candidates:\n",
    "    for metric in metrics:\n",
    "        p_val = ttest_removing_potential_hubs(data, metric, node)\n",
    "        if p_val > 0.05:\n",
    "            if node not in res:\n",
    "                res[node] = [(metric, p_val)]\n",
    "            else:\n",
    "                res[node].append((metric, p_val))"
   ]
  },
  {
   "cell_type": "code",
   "execution_count": 25,
   "id": "098ad761-2f1c-4014-97c7-bd8306443fb3",
   "metadata": {},
   "outputs": [
    {
     "data": {
      "text/plain": [
       "{'ISP': [('CANCELLED', 0.11493770284952684), ('ASM', 0.8708125408861225)],\n",
       " 'LGB': [('CANCELLED', 0.6126524563822475),\n",
       "  ('Utilization', 0.08271168439184777),\n",
       "  ('Regularity', 0.11109837099748708),\n",
       "  ('ASM', 0.4827951444934456)],\n",
       " 'GEG': [('CANCELLED', 0.6152638910356661)],\n",
       " 'BOI': [('Utilization', 0.4047586017538669),\n",
       "  ('Regularity', 0.7794564866150244),\n",
       "  ('RASM', 0.6864971537246725)],\n",
       " 'SMF': [('Utilization', 0.19683332562939587),\n",
       "  ('Regularity', 0.2728959081685385),\n",
       "  ('ASM', 0.0737441818263532),\n",
       "  ('RASM', 0.1819152132500021)],\n",
       " 'PBI': [('Utilization', 0.2300058421799936)],\n",
       " 'DSM': [('Utilization', 0.9260569774811551),\n",
       "  ('Regularity', 0.903384018200976),\n",
       "  ('ASM', 0.1313361123195673),\n",
       "  ('RASM', 0.47428663919142017)],\n",
       " 'HRL': [('Regularity', 0.3778551269229868), ('ASM', 0.5086221437609962)],\n",
       " 'RSW': [('Regularity', 0.15939838840123347), ('RASM', 0.6643025913571261)]}"
      ]
     },
     "execution_count": 25,
     "metadata": {},
     "output_type": "execute_result"
    }
   ],
   "source": [
    "res"
   ]
  },
  {
   "cell_type": "code",
   "execution_count": 26,
   "id": "d785c6b2-a971-4367-bca6-d002e47f34e2",
   "metadata": {},
   "outputs": [
    {
     "data": {
      "text/html": [
       "<div>\n",
       "<style scoped>\n",
       "    .dataframe tbody tr th:only-of-type {\n",
       "        vertical-align: middle;\n",
       "    }\n",
       "\n",
       "    .dataframe tbody tr th {\n",
       "        vertical-align: top;\n",
       "    }\n",
       "\n",
       "    .dataframe thead th {\n",
       "        text-align: right;\n",
       "    }\n",
       "</style>\n",
       "<table border=\"1\" class=\"dataframe\">\n",
       "  <thead>\n",
       "    <tr style=\"text-align: right;\">\n",
       "      <th></th>\n",
       "      <th>citypair</th>\n",
       "      <th>sum_departures_performed</th>\n",
       "      <th>sum_departures_scheduled</th>\n",
       "      <th>passengers</th>\n",
       "      <th>seats</th>\n",
       "      <th>avg_fuel_price</th>\n",
       "      <th>avg_stock_price</th>\n",
       "      <th>total_operating_expense</th>\n",
       "      <th>revenue</th>\n",
       "      <th>Aircraft_Unit_Cost ($ millions USD)</th>\n",
       "      <th>...</th>\n",
       "      <th>origin_density</th>\n",
       "      <th>dest_population</th>\n",
       "      <th>dest_density</th>\n",
       "      <th>DEP_DELAY_NEW</th>\n",
       "      <th>ARR_DELAY_NEW</th>\n",
       "      <th>CANCELLED</th>\n",
       "      <th>Utilization</th>\n",
       "      <th>Regularity</th>\n",
       "      <th>ASM</th>\n",
       "      <th>RASM</th>\n",
       "    </tr>\n",
       "  </thead>\n",
       "  <tbody>\n",
       "    <tr>\n",
       "      <th>47</th>\n",
       "      <td>ATL-RIC</td>\n",
       "      <td>310.0</td>\n",
       "      <td>315.0</td>\n",
       "      <td>32691.0</td>\n",
       "      <td>44330.0</td>\n",
       "      <td>57.427544</td>\n",
       "      <td>52.842995</td>\n",
       "      <td>9585665.0</td>\n",
       "      <td>11058</td>\n",
       "      <td>74.0</td>\n",
       "      <td>...</td>\n",
       "      <td>1419.9</td>\n",
       "      <td>1008069.0</td>\n",
       "      <td>1477.0</td>\n",
       "      <td>10.943005</td>\n",
       "      <td>10.227979</td>\n",
       "      <td>0.007712</td>\n",
       "      <td>0.737446</td>\n",
       "      <td>0.984127</td>\n",
       "      <td>92.189936</td>\n",
       "      <td>1.199480e+08</td>\n",
       "    </tr>\n",
       "    <tr>\n",
       "      <th>996</th>\n",
       "      <td>RIC-ATL</td>\n",
       "      <td>308.0</td>\n",
       "      <td>315.0</td>\n",
       "      <td>31788.0</td>\n",
       "      <td>44044.0</td>\n",
       "      <td>57.427544</td>\n",
       "      <td>52.842995</td>\n",
       "      <td>9585665.0</td>\n",
       "      <td>11058</td>\n",
       "      <td>74.0</td>\n",
       "      <td>...</td>\n",
       "      <td>1477.0</td>\n",
       "      <td>5046555.0</td>\n",
       "      <td>1419.9</td>\n",
       "      <td>6.626943</td>\n",
       "      <td>6.821244</td>\n",
       "      <td>0.005155</td>\n",
       "      <td>0.721733</td>\n",
       "      <td>0.977778</td>\n",
       "      <td>91.595162</td>\n",
       "      <td>1.207269e+08</td>\n",
       "    </tr>\n",
       "  </tbody>\n",
       "</table>\n",
       "<p>2 rows × 36 columns</p>\n",
       "</div>"
      ],
      "text/plain": [
       "    citypair  sum_departures_performed  sum_departures_scheduled  passengers  \\\n",
       "47   ATL-RIC                     310.0                     315.0     32691.0   \n",
       "996  RIC-ATL                     308.0                     315.0     31788.0   \n",
       "\n",
       "       seats  avg_fuel_price  avg_stock_price  total_operating_expense  \\\n",
       "47   44330.0       57.427544        52.842995                9585665.0   \n",
       "996  44044.0       57.427544        52.842995                9585665.0   \n",
       "\n",
       "     revenue  Aircraft_Unit_Cost ($ millions USD)  ...  origin_density  \\\n",
       "47     11058                                 74.0  ...          1419.9   \n",
       "996    11058                                 74.0  ...          1477.0   \n",
       "\n",
       "     dest_population  dest_density  DEP_DELAY_NEW ARR_DELAY_NEW CANCELLED  \\\n",
       "47         1008069.0        1477.0      10.943005     10.227979  0.007712   \n",
       "996        5046555.0        1419.9       6.626943      6.821244  0.005155   \n",
       "\n",
       "    Utilization  Regularity        ASM          RASM  \n",
       "47     0.737446    0.984127  92.189936  1.199480e+08  \n",
       "996    0.721733    0.977778  91.595162  1.207269e+08  \n",
       "\n",
       "[2 rows x 36 columns]"
      ]
     },
     "metadata": {},
     "output_type": "display_data"
    },
    {
     "data": {
      "text/html": [
       "<div>\n",
       "<style scoped>\n",
       "    .dataframe tbody tr th:only-of-type {\n",
       "        vertical-align: middle;\n",
       "    }\n",
       "\n",
       "    .dataframe tbody tr th {\n",
       "        vertical-align: top;\n",
       "    }\n",
       "\n",
       "    .dataframe thead th {\n",
       "        text-align: right;\n",
       "    }\n",
       "</style>\n",
       "<table border=\"1\" class=\"dataframe\">\n",
       "  <thead>\n",
       "    <tr style=\"text-align: right;\">\n",
       "      <th></th>\n",
       "      <th>citypair</th>\n",
       "      <th>sum_departures_performed</th>\n",
       "      <th>sum_departures_scheduled</th>\n",
       "      <th>passengers</th>\n",
       "      <th>seats</th>\n",
       "      <th>avg_fuel_price</th>\n",
       "      <th>avg_stock_price</th>\n",
       "      <th>total_operating_expense</th>\n",
       "      <th>revenue</th>\n",
       "      <th>Aircraft_Unit_Cost ($ millions USD)</th>\n",
       "      <th>...</th>\n",
       "      <th>origin_density</th>\n",
       "      <th>dest_population</th>\n",
       "      <th>dest_density</th>\n",
       "      <th>DEP_DELAY_NEW</th>\n",
       "      <th>ARR_DELAY_NEW</th>\n",
       "      <th>CANCELLED</th>\n",
       "      <th>Utilization</th>\n",
       "      <th>Regularity</th>\n",
       "      <th>ASM</th>\n",
       "      <th>RASM</th>\n",
       "    </tr>\n",
       "  </thead>\n",
       "  <tbody>\n",
       "    <tr>\n",
       "      <th>203</th>\n",
       "      <td>BWI-PWM</td>\n",
       "      <td>273.0</td>\n",
       "      <td>284.0</td>\n",
       "      <td>29618.0</td>\n",
       "      <td>39647.0</td>\n",
       "      <td>56.594778</td>\n",
       "      <td>53.008226</td>\n",
       "      <td>14229909.0</td>\n",
       "      <td>16207</td>\n",
       "      <td>74.0</td>\n",
       "      <td>...</td>\n",
       "      <td>2872.8</td>\n",
       "      <td>2036875.0</td>\n",
       "      <td>1881.6</td>\n",
       "      <td>10.378151</td>\n",
       "      <td>10.680672</td>\n",
       "      <td>0.03252</td>\n",
       "      <td>0.747043</td>\n",
       "      <td>0.961268</td>\n",
       "      <td>87.757762</td>\n",
       "      <td>1.846788e+08</td>\n",
       "    </tr>\n",
       "    <tr>\n",
       "      <th>982</th>\n",
       "      <td>PWM-BWI</td>\n",
       "      <td>270.0</td>\n",
       "      <td>283.0</td>\n",
       "      <td>31110.0</td>\n",
       "      <td>39218.0</td>\n",
       "      <td>56.594778</td>\n",
       "      <td>53.008226</td>\n",
       "      <td>14229909.0</td>\n",
       "      <td>16207</td>\n",
       "      <td>74.0</td>\n",
       "      <td>...</td>\n",
       "      <td>1881.6</td>\n",
       "      <td>2205092.0</td>\n",
       "      <td>2872.8</td>\n",
       "      <td>14.655738</td>\n",
       "      <td>14.590164</td>\n",
       "      <td>0.00813</td>\n",
       "      <td>0.793258</td>\n",
       "      <td>0.954064</td>\n",
       "      <td>86.808180</td>\n",
       "      <td>1.866990e+08</td>\n",
       "    </tr>\n",
       "  </tbody>\n",
       "</table>\n",
       "<p>2 rows × 36 columns</p>\n",
       "</div>"
      ],
      "text/plain": [
       "    citypair  sum_departures_performed  sum_departures_scheduled  passengers  \\\n",
       "203  BWI-PWM                     273.0                     284.0     29618.0   \n",
       "982  PWM-BWI                     270.0                     283.0     31110.0   \n",
       "\n",
       "       seats  avg_fuel_price  avg_stock_price  total_operating_expense  \\\n",
       "203  39647.0       56.594778        53.008226               14229909.0   \n",
       "982  39218.0       56.594778        53.008226               14229909.0   \n",
       "\n",
       "     revenue  Aircraft_Unit_Cost ($ millions USD)  ...  origin_density  \\\n",
       "203    16207                                 74.0  ...          2872.8   \n",
       "982    16207                                 74.0  ...          1881.6   \n",
       "\n",
       "     dest_population  dest_density  DEP_DELAY_NEW ARR_DELAY_NEW CANCELLED  \\\n",
       "203        2036875.0        1881.6      10.378151     10.680672   0.03252   \n",
       "982        2205092.0        2872.8      14.655738     14.590164   0.00813   \n",
       "\n",
       "    Utilization  Regularity        ASM          RASM  \n",
       "203    0.747043    0.961268  87.757762  1.846788e+08  \n",
       "982    0.793258    0.954064  86.808180  1.866990e+08  \n",
       "\n",
       "[2 rows x 36 columns]"
      ]
     },
     "metadata": {},
     "output_type": "display_data"
    },
    {
     "data": {
      "text/html": [
       "<div>\n",
       "<style scoped>\n",
       "    .dataframe tbody tr th:only-of-type {\n",
       "        vertical-align: middle;\n",
       "    }\n",
       "\n",
       "    .dataframe tbody tr th {\n",
       "        vertical-align: top;\n",
       "    }\n",
       "\n",
       "    .dataframe thead th {\n",
       "        text-align: right;\n",
       "    }\n",
       "</style>\n",
       "<table border=\"1\" class=\"dataframe\">\n",
       "  <thead>\n",
       "    <tr style=\"text-align: right;\">\n",
       "      <th></th>\n",
       "      <th>citypair</th>\n",
       "      <th>sum_departures_performed</th>\n",
       "      <th>sum_departures_scheduled</th>\n",
       "      <th>passengers</th>\n",
       "      <th>seats</th>\n",
       "      <th>avg_fuel_price</th>\n",
       "      <th>avg_stock_price</th>\n",
       "      <th>total_operating_expense</th>\n",
       "      <th>revenue</th>\n",
       "      <th>Aircraft_Unit_Cost ($ millions USD)</th>\n",
       "      <th>...</th>\n",
       "      <th>origin_density</th>\n",
       "      <th>dest_population</th>\n",
       "      <th>dest_density</th>\n",
       "      <th>DEP_DELAY_NEW</th>\n",
       "      <th>ARR_DELAY_NEW</th>\n",
       "      <th>CANCELLED</th>\n",
       "      <th>Utilization</th>\n",
       "      <th>Regularity</th>\n",
       "      <th>ASM</th>\n",
       "      <th>RASM</th>\n",
       "    </tr>\n",
       "  </thead>\n",
       "  <tbody>\n",
       "    <tr>\n",
       "      <th>249</th>\n",
       "      <td>CRP-HOU</td>\n",
       "      <td>418.0</td>\n",
       "      <td>435.0</td>\n",
       "      <td>30540.0</td>\n",
       "      <td>59806.0</td>\n",
       "      <td>58.260309</td>\n",
       "      <td>52.677764</td>\n",
       "      <td>14527086.0</td>\n",
       "      <td>16967</td>\n",
       "      <td>74.0</td>\n",
       "      <td>...</td>\n",
       "      <td>777.0</td>\n",
       "      <td>5650910.0</td>\n",
       "      <td>1394.6</td>\n",
       "      <td>5.844828</td>\n",
       "      <td>7.086207</td>\n",
       "      <td>0.0</td>\n",
       "      <td>0.510651</td>\n",
       "      <td>0.96092</td>\n",
       "      <td>320.24772</td>\n",
       "      <td>5.298086e+07</td>\n",
       "    </tr>\n",
       "    <tr>\n",
       "      <th>463</th>\n",
       "      <td>HOU-CRP</td>\n",
       "      <td>418.0</td>\n",
       "      <td>435.0</td>\n",
       "      <td>30170.0</td>\n",
       "      <td>59806.0</td>\n",
       "      <td>58.260309</td>\n",
       "      <td>52.677764</td>\n",
       "      <td>14527086.0</td>\n",
       "      <td>16967</td>\n",
       "      <td>74.0</td>\n",
       "      <td>...</td>\n",
       "      <td>1394.6</td>\n",
       "      <td>333764.0</td>\n",
       "      <td>777.0</td>\n",
       "      <td>12.732759</td>\n",
       "      <td>11.612069</td>\n",
       "      <td>0.0</td>\n",
       "      <td>0.504464</td>\n",
       "      <td>0.96092</td>\n",
       "      <td>320.24772</td>\n",
       "      <td>5.298086e+07</td>\n",
       "    </tr>\n",
       "  </tbody>\n",
       "</table>\n",
       "<p>2 rows × 36 columns</p>\n",
       "</div>"
      ],
      "text/plain": [
       "    citypair  sum_departures_performed  sum_departures_scheduled  passengers  \\\n",
       "249  CRP-HOU                     418.0                     435.0     30540.0   \n",
       "463  HOU-CRP                     418.0                     435.0     30170.0   \n",
       "\n",
       "       seats  avg_fuel_price  avg_stock_price  total_operating_expense  \\\n",
       "249  59806.0       58.260309        52.677764               14527086.0   \n",
       "463  59806.0       58.260309        52.677764               14527086.0   \n",
       "\n",
       "     revenue  Aircraft_Unit_Cost ($ millions USD)  ...  origin_density  \\\n",
       "249    16967                                 74.0  ...           777.0   \n",
       "463    16967                                 74.0  ...          1394.6   \n",
       "\n",
       "     dest_population  dest_density  DEP_DELAY_NEW ARR_DELAY_NEW CANCELLED  \\\n",
       "249        5650910.0        1394.6       5.844828      7.086207       0.0   \n",
       "463         333764.0         777.0      12.732759     11.612069       0.0   \n",
       "\n",
       "    Utilization  Regularity        ASM          RASM  \n",
       "249    0.510651     0.96092  320.24772  5.298086e+07  \n",
       "463    0.504464     0.96092  320.24772  5.298086e+07  \n",
       "\n",
       "[2 rows x 36 columns]"
      ]
     },
     "metadata": {},
     "output_type": "display_data"
    },
    {
     "data": {
      "text/html": [
       "<div>\n",
       "<style scoped>\n",
       "    .dataframe tbody tr th:only-of-type {\n",
       "        vertical-align: middle;\n",
       "    }\n",
       "\n",
       "    .dataframe tbody tr th {\n",
       "        vertical-align: top;\n",
       "    }\n",
       "\n",
       "    .dataframe thead th {\n",
       "        text-align: right;\n",
       "    }\n",
       "</style>\n",
       "<table border=\"1\" class=\"dataframe\">\n",
       "  <thead>\n",
       "    <tr style=\"text-align: right;\">\n",
       "      <th></th>\n",
       "      <th>citypair</th>\n",
       "      <th>sum_departures_performed</th>\n",
       "      <th>sum_departures_scheduled</th>\n",
       "      <th>passengers</th>\n",
       "      <th>seats</th>\n",
       "      <th>avg_fuel_price</th>\n",
       "      <th>avg_stock_price</th>\n",
       "      <th>total_operating_expense</th>\n",
       "      <th>revenue</th>\n",
       "      <th>Aircraft_Unit_Cost ($ millions USD)</th>\n",
       "      <th>...</th>\n",
       "      <th>origin_density</th>\n",
       "      <th>dest_population</th>\n",
       "      <th>dest_density</th>\n",
       "      <th>DEP_DELAY_NEW</th>\n",
       "      <th>ARR_DELAY_NEW</th>\n",
       "      <th>CANCELLED</th>\n",
       "      <th>Utilization</th>\n",
       "      <th>Regularity</th>\n",
       "      <th>ASM</th>\n",
       "      <th>RASM</th>\n",
       "    </tr>\n",
       "  </thead>\n",
       "  <tbody>\n",
       "    <tr>\n",
       "      <th>28</th>\n",
       "      <td>ATL-GSP</td>\n",
       "      <td>239.0</td>\n",
       "      <td>241.0</td>\n",
       "      <td>21988.0</td>\n",
       "      <td>34177.0</td>\n",
       "      <td>54.929246</td>\n",
       "      <td>53.338689</td>\n",
       "      <td>4644244.0</td>\n",
       "      <td>5149</td>\n",
       "      <td>74.0</td>\n",
       "      <td>...</td>\n",
       "      <td>1419.9</td>\n",
       "      <td>35151.0</td>\n",
       "      <td>528.5</td>\n",
       "      <td>13.302752</td>\n",
       "      <td>12.614679</td>\n",
       "      <td>0.000000</td>\n",
       "      <td>0.643357</td>\n",
       "      <td>0.991701</td>\n",
       "      <td>222.893544</td>\n",
       "      <td>2.310071e+07</td>\n",
       "    </tr>\n",
       "    <tr>\n",
       "      <th>452</th>\n",
       "      <td>GSP-ATL</td>\n",
       "      <td>239.0</td>\n",
       "      <td>241.0</td>\n",
       "      <td>21729.0</td>\n",
       "      <td>34177.0</td>\n",
       "      <td>54.929246</td>\n",
       "      <td>53.338689</td>\n",
       "      <td>4644244.0</td>\n",
       "      <td>5149</td>\n",
       "      <td>74.0</td>\n",
       "      <td>...</td>\n",
       "      <td>528.5</td>\n",
       "      <td>5046555.0</td>\n",
       "      <td>1419.9</td>\n",
       "      <td>8.532308</td>\n",
       "      <td>8.864198</td>\n",
       "      <td>0.006116</td>\n",
       "      <td>0.635778</td>\n",
       "      <td>0.991701</td>\n",
       "      <td>222.893544</td>\n",
       "      <td>2.310071e+07</td>\n",
       "    </tr>\n",
       "  </tbody>\n",
       "</table>\n",
       "<p>2 rows × 36 columns</p>\n",
       "</div>"
      ],
      "text/plain": [
       "    citypair  sum_departures_performed  sum_departures_scheduled  passengers  \\\n",
       "28   ATL-GSP                     239.0                     241.0     21988.0   \n",
       "452  GSP-ATL                     239.0                     241.0     21729.0   \n",
       "\n",
       "       seats  avg_fuel_price  avg_stock_price  total_operating_expense  \\\n",
       "28   34177.0       54.929246        53.338689                4644244.0   \n",
       "452  34177.0       54.929246        53.338689                4644244.0   \n",
       "\n",
       "     revenue  Aircraft_Unit_Cost ($ millions USD)  ...  origin_density  \\\n",
       "28      5149                                 74.0  ...          1419.9   \n",
       "452     5149                                 74.0  ...           528.5   \n",
       "\n",
       "     dest_population  dest_density  DEP_DELAY_NEW ARR_DELAY_NEW CANCELLED  \\\n",
       "28           35151.0         528.5      13.302752     12.614679  0.000000   \n",
       "452        5046555.0        1419.9       8.532308      8.864198  0.006116   \n",
       "\n",
       "    Utilization  Regularity         ASM          RASM  \n",
       "28     0.643357    0.991701  222.893544  2.310071e+07  \n",
       "452    0.635778    0.991701  222.893544  2.310071e+07  \n",
       "\n",
       "[2 rows x 36 columns]"
      ]
     },
     "metadata": {},
     "output_type": "display_data"
    }
   ],
   "source": [
    "for node in uncertain_nodes:\n",
    "    display(data[data['citypair'].str.contains(node)])"
   ]
  },
  {
   "cell_type": "markdown",
   "id": "6982a154-7bfc-46fb-924c-1db359c297c8",
   "metadata": {},
   "source": [
    "### Link Prediction based on edge embeddings which are Hadamard product of node embeddings"
   ]
  },
  {
   "cell_type": "code",
   "execution_count": 27,
   "id": "8c575f0d-cae8-4ba3-856a-f50744ec01ae",
   "metadata": {},
   "outputs": [],
   "source": [
    "adj_matrix = np.array(nx.to_numpy_matrix(G))\n",
    "edge_embeddings_pos = []\n",
    "edge_embeddings_neg = []\n",
    "for node1_idx in range(adj_matrix.shape[0]):\n",
    "    for node2_idx in range(adj_matrix.shape[1]):\n",
    "        edge_embedding = np.multiply(node_embeddings[node1_idx], node_embeddings[node2_idx])\n",
    "        if adj_matrix[node1_idx, node2_idx] == 0:\n",
    "            edge_embeddings_neg.append(edge_embedding)\n",
    "        else:\n",
    "            edge_embeddings_pos.append(edge_embedding)\n",
    "edge_embeddings_pos = np.array(edge_embeddings_pos)\n",
    "edge_embeddings_neg = np.array(edge_embeddings_neg)"
   ]
  },
  {
   "cell_type": "code",
   "execution_count": 28,
   "id": "25fa7212-42f3-4331-ad69-29789ea1ac31",
   "metadata": {},
   "outputs": [],
   "source": [
    "X = np.concatenate([edge_embeddings_pos, edge_embeddings_neg], axis=0)\n",
    "y = np.concatenate([np.ones(len(edge_embeddings_pos)), np.zeros(len(edge_embeddings_neg))])"
   ]
  },
  {
   "cell_type": "code",
   "execution_count": 29,
   "id": "49fd7f64-8fff-449a-aee5-17c1e8e540db",
   "metadata": {},
   "outputs": [],
   "source": [
    "from sklearn.linear_model import LogisticRegression\n",
    "import numpy as np\n",
    "rng = np.random.RandomState(seed = 435)\n",
    "def bagging_fit(X, y, n_estimators, C = 1.0, max_iter = 100):\n",
    "    pos_samples = sum(y==1)\n",
    "    neg_samples = sum(y==0)\n",
    "    logistic_models = [LogisticRegression(C = C, max_iter = max_iter) for _ in range(n_estimators)]\n",
    "    for logistic_model in logistic_models:\n",
    "        bag_pos = np.random.choice(pos_samples, pos_samples, replace = True)\n",
    "        bag_neg = np.random.choice(neg_samples, neg_samples, replace = True)\n",
    "        bag = np.concatenate((bag_pos, bag_neg))\n",
    "        logistic_model.fit(X[bag,:], y[bag])\n",
    "    return logistic_models"
   ]
  },
  {
   "cell_type": "code",
   "execution_count": 30,
   "id": "e98aa365-8fc3-45c1-a925-7d9030625f26",
   "metadata": {},
   "outputs": [],
   "source": [
    "def bagging_predict_neg_proba(X, models):\n",
    "    all_neg_edge_probs = np.array([logistic_model.predict_proba(X)[:,0] for logistic_model in models])\n",
    "    neg_edge_probs = np.mean(all_neg_edge_probs, axis = 0, keepdims = False)\n",
    "    return neg_edge_probs"
   ]
  },
  {
   "cell_type": "code",
   "execution_count": 31,
   "id": "f32892ef-8eb4-4acd-875e-31b3f1228f58",
   "metadata": {},
   "outputs": [],
   "source": [
    "bag_ens = bagging_fit(X, y, n_estimators = 1000, C = 1, max_iter = 1000)\n",
    "neg_edge_probs = bagging_predict_neg_proba(X, bag_ens)"
   ]
  },
  {
   "cell_type": "code",
   "execution_count": 32,
   "id": "47b45afc-6c0d-4726-8ae1-08a6b21a50bc",
   "metadata": {},
   "outputs": [
    {
     "name": "stdout",
     "output_type": "stream",
     "text": [
      "Best Threshold = 0.301469, F-2Score = 1.210\n"
     ]
    }
   ],
   "source": [
    "from sklearn.metrics import precision_recall_curve\n",
    "precision, recall, thresholds = precision_recall_curve(y, (1-neg_edge_probs))\n",
    "\n",
    "# f-beta score\n",
    "beta = 2\n",
    "fscore = ((1 + beta)**2 * precision * recall) / (beta**2 * precision + recall + 1e-08)\n",
    "# locate the index of the largest f-beta score\n",
    "idx = np.argmax(fscore)\n",
    "best_f_beta = fscore[idx]\n",
    "best_thresh = thresholds[idx]\n",
    "print('Best Threshold = %f, F-2Score = %.3f' % (best_thresh, best_f_beta))"
   ]
  },
  {
   "cell_type": "code",
   "execution_count": 33,
   "id": "be56c51e-18c8-4c6f-847a-aab4aa27b58d",
   "metadata": {},
   "outputs": [
    {
     "data": {
      "image/png": "[encoded data removed]",
      "text/plain": [
       "<Figure size 640x480 with 1 Axes>"
      ]
     },
     "metadata": {},
     "output_type": "display_data"
    }
   ],
   "source": [
    "plt.hist(neg_edge_probs, bins = 50)\n",
    "plt.axvline(x = (1 - best_thresh), color = 'red')\n",
    "plt.text(0.75, 2, 'Best Threshold')\n",
    "plt.xlabel(\"Average Probability of Edges being Removed\")\n",
    "plt.ylabel(\"Frequency\")\n",
    "plt.title(\"Link Prediction (Stratified Bagging with Logistic Regression\")\n",
    "plt.show()"
   ]
  },
  {
   "cell_type": "code",
   "execution_count": 34,
   "id": "11dea398-5c1a-43a4-b71b-65e9b7284d10",
   "metadata": {},
   "outputs": [],
   "source": [
    "removed_edges_idx = []\n",
    "num_nodes = len(G.nodes())\n",
    "for i in np.where(neg_edge_probs > (1-thresholds[idx]))[0]:\n",
    "    if adj_matrix[i//num_nodes][i%num_nodes] == 1:\n",
    "        removed_edges_idx.append((i//num_nodes, i%num_nodes))"
   ]
  },
  {
   "cell_type": "code",
   "execution_count": 35,
   "id": "f21cd5b8-68b5-4202-9e35-e98a61cb94e1",
   "metadata": {},
   "outputs": [
    {
     "name": "stdout",
     "output_type": "stream",
     "text": [
      "The number of Edges being removed (logistic regression) is: 514\n"
     ]
    }
   ],
   "source": [
    "node_idx_pair = {idx: node for idx, node in enumerate(G.nodes())}\n",
    "removed_edges_lr = [(node_idx_pair[node1_idx], node_idx_pair[node2_idx])for node1_idx, node2_idx in removed_edges_idx]\n",
    "print(f\"The number of Edges being removed (logistic regression) is: {len(removed_edges_lr)}\")"
   ]
  },
  {
   "cell_type": "code",
   "execution_count": 36,
   "id": "ec61ad9a-f39b-4f65-9b72-bd938664c162",
   "metadata": {},
   "outputs": [],
   "source": [
    "from sklearn.ensemble import RandomForestClassifier\n",
    "rf = RandomForestClassifier(n_estimators = 1000).fit(X,y)\n",
    "y_pred = rf.predict(X)\n",
    "removed_edges_idx = []\n",
    "num_nodes = len(G.nodes())\n",
    "for i in np.where(y_pred == 0)[0]:\n",
    "    if adj_matrix[i//num_nodes][i%num_nodes] == 1:\n",
    "        removed_edges_idx.append((i//num_nodes, i%num_nodes))\n",
    "removed_edges_rf = [(node_idx_pair[node1_idx], node_idx_pair[node2_idx])for node1_idx, node2_idx in removed_edges_idx]"
   ]
  },
  {
   "cell_type": "code",
   "execution_count": 37,
   "id": "c4160246-f77e-4416-809e-711c338f8de4",
   "metadata": {},
   "outputs": [
    {
     "name": "stdout",
     "output_type": "stream",
     "text": [
      "The number of Edges being removed (Random Forest) is: 712\n"
     ]
    }
   ],
   "source": [
    "print(f\"The number of Edges being removed (Random Forest) is: {len(removed_edges_rf)}\")"
   ]
  },
  {
   "cell_type": "code",
   "execution_count": 38,
   "id": "be203d39-942a-469d-8546-6ba3d8bd9208",
   "metadata": {},
   "outputs": [
    {
     "name": "stdout",
     "output_type": "stream",
     "text": [
      "The number of Common Edges that can be removed is 455\n"
     ]
    }
   ],
   "source": [
    "print(f\"The number of Common Edges that can be removed is {len(set(removed_edges_lr).intersection(removed_edges_rf))}\")"
   ]
  },
  {
   "cell_type": "code",
   "execution_count": 39,
   "id": "032b6347-0282-4967-a561-0300dc3072a9",
   "metadata": {},
   "outputs": [],
   "source": [
    "identified_hubs = ['BWI', 'MCO', 'MDW', 'AUS', 'DEN', 'SAT', 'PHX', 'LAS', 'PDX']\n",
    "removed_edges = set(removed_edges_rf).intersection(removed_edges_lr)\n",
    "removed_edges_wo_hubs = []\n",
    "for node1, node2 in removed_edges:\n",
    "    if (not node1 in identified_hubs) or (not node1 in identified_hubs):\n",
    "        removed_edges_wo_hubs.append((node1, node2))"
   ]
  },
  {
   "cell_type": "code",
   "execution_count": 40,
   "id": "5709189d-941e-4c85-8d0c-6cb761b9c673",
   "metadata": {},
   "outputs": [
    {
     "name": "stdout",
     "output_type": "stream",
     "text": [
      "The number of Edges that don't contain potential hubs being removed is: 423\n"
     ]
    }
   ],
   "source": [
    "print(f\"The number of Edges that don't contain potential hubs being removed is: {len(removed_edges_wo_hubs)}\")"
   ]
  },
  {
   "cell_type": "code",
   "execution_count": 41,
   "id": "601bc6f7-45f6-4ad6-8717-bb2285404b69",
   "metadata": {},
   "outputs": [
    {
     "data": {
      "text/plain": [
       "{('AUS', 'DAL'),\n",
       " ('AUS', 'DCA'),\n",
       " ('AUS', 'ELP'),\n",
       " ('AUS', 'HRL'),\n",
       " ('AUS', 'MSY'),\n",
       " ('AUS', 'SAN'),\n",
       " ('PDX', 'BUR'),\n",
       " ('PDX', 'DAL'),\n",
       " ('PDX', 'DEN'),\n",
       " ('PDX', 'LAS'),\n",
       " ('PDX', 'LAX'),\n",
       " ('PDX', 'MDW'),\n",
       " ('PDX', 'OAK'),\n",
       " ('PDX', 'ONT'),\n",
       " ('PDX', 'STL'),\n",
       " ('PHX', 'MCI'),\n",
       " ('PHX', 'SMF'),\n",
       " ('SAT', 'BWI'),\n",
       " ('SAT', 'DAL'),\n",
       " ('SAT', 'DEN'),\n",
       " ('SAT', 'FLL'),\n",
       " ('SAT', 'HOU'),\n",
       " ('SAT', 'LAS'),\n",
       " ('SAT', 'LAX'),\n",
       " ('SAT', 'MCI'),\n",
       " ('SAT', 'MCO'),\n",
       " ('SAT', 'MDW'),\n",
       " ('SAT', 'OAK'),\n",
       " ('SAT', 'PHX'),\n",
       " ('SAT', 'SAN'),\n",
       " ('SAT', 'STL'),\n",
       " ('SAT', 'TPA')}"
      ]
     },
     "execution_count": 41,
     "metadata": {},
     "output_type": "execute_result"
    }
   ],
   "source": [
    "set(removed_edges).difference(removed_edges_wo_hubs)"
   ]
  }
 ],
 "metadata": {
  "kernelspec": {
   "display_name": "Python 3 (ipykernel)",
   "language": "python",
   "name": "python3"
  },
  "language_info": {
   "codemirror_mode": {
    "name": "ipython",
    "version": 3
   },
   "file_extension": ".py",
   "mimetype": "text/x-python",
   "name": "python",
   "nbconvert_exporter": "python",
   "pygments_lexer": "ipython3",
   "version": "3.9.13"
  }
 },
 "nbformat": 4,
 "nbformat_minor": 5
}
