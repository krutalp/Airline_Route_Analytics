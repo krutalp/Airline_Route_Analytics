{
 "cells": [
  {
   "cell_type": "code",
   "execution_count": 1,
   "id": "a065614b-6432-49aa-a735-a268a67b587b",
   "metadata": {},
   "outputs": [],
   "source": [
    "import pandas as pd\n",
    "import numpy as np\n",
    "import networkx as nx\n",
    "import matplotlib.pyplot as plt\n",
    "from sklearn.neighbors import LocalOutlierFactor\n",
    "from matplotlib_venn import venn2\n",
    "from node2vec import Node2Vec\n",
    "from sklearn.preprocessing import StandardScaler\n",
    "from sklearn.metrics import f1_score\n",
    "from sklearn.model_selection import ParameterGrid\n",
    "from sklearn.ensemble import IsolationForest\n",
    "from sklearn import svm"
   ]
  },
  {
   "cell_type": "markdown",
   "id": "7ba3e240-d027-4bd2-9297-ae719049d83f",
   "metadata": {},
   "source": [
    "# Graph anomaly detection\n",
    "1. Generate labels for hub points using Local Outlier Factor according to internel attributes of graph such as degree centrality and betweenness centrality\n",
    "2. Compare the impact of degree centrality and betweenness centrality on the generated hub points\n",
    "3. Create a graph, where each edge has Utilization (boarded passengers concerning all departed flights' available seats), Regularity (percentage of operated flights concerning planned flights), ASM (available seat miles), RASM (Revenue Per Available Seat Mile) and Cancellation Probabilities as attributes\n",
    "4. Leverage Node2Vec technique to extract low-dimensional embeddingss of the graph using edge attributes\n",
    "5. Fine-tuning parameter p and q used in Node2Vec with a combination of outliers identified in step 1,2, LOF algorithm and F1-score.\n",
    "6. Implement One Class SVM and Isolation Random Forest on the node embeddings with best p, q to find the outliers\n",
    "7. Two-sample t test for examing metrics of the identified 'outliers'\n",
    "7. Link Prediction"
   ]
  },
  {
   "cell_type": "code",
   "execution_count": 2,
   "id": "110194c7-88aa-4512-b635-7c254ee609e9",
   "metadata": {},
   "outputs": [
    {
     "data": {
      "text/html": [
       "<div>\n",
       "<style scoped>\n",
       "    .dataframe tbody tr th:only-of-type {\n",
       "        vertical-align: middle;\n",
       "    }\n",
       "\n",
       "    .dataframe tbody tr th {\n",
       "        vertical-align: top;\n",
       "    }\n",
       "\n",
       "    .dataframe thead th {\n",
       "        text-align: right;\n",
       "    }\n",
       "</style>\n",
       "<table border=\"1\" class=\"dataframe\">\n",
       "  <thead>\n",
       "    <tr style=\"text-align: right;\">\n",
       "      <th></th>\n",
       "      <th>citypair</th>\n",
       "      <th>sum_departures_performed</th>\n",
       "      <th>sum_departures_scheduled</th>\n",
       "      <th>passengers</th>\n",
       "      <th>seats</th>\n",
       "      <th>avg_fuel_price</th>\n",
       "      <th>avg_stock_price</th>\n",
       "      <th>total_operating_expense</th>\n",
       "      <th>revenue</th>\n",
       "      <th>Aircraft_Unit_Cost ($ millions USD)</th>\n",
       "      <th>...</th>\n",
       "      <th>origin_density</th>\n",
       "      <th>dest_population</th>\n",
       "      <th>dest_density</th>\n",
       "      <th>DEP_DELAY_NEW</th>\n",
       "      <th>ARR_DELAY_NEW</th>\n",
       "      <th>CANCELLED</th>\n",
       "      <th>Utilization</th>\n",
       "      <th>Regularity</th>\n",
       "      <th>ASM</th>\n",
       "      <th>RASM</th>\n",
       "    </tr>\n",
       "  </thead>\n",
       "  <tbody>\n",
       "    <tr>\n",
       "      <th>0</th>\n",
       "      <td>ABQ-BWI</td>\n",
       "      <td>108.0</td>\n",
       "      <td>110.0</td>\n",
       "      <td>13736.0</td>\n",
       "      <td>15444.0</td>\n",
       "      <td>57.427544</td>\n",
       "      <td>52.842995</td>\n",
       "      <td>9585665.0</td>\n",
       "      <td>11058</td>\n",
       "      <td>74.0</td>\n",
       "      <td>...</td>\n",
       "      <td>1155.5</td>\n",
       "      <td>2205092.0</td>\n",
       "      <td>2872.8</td>\n",
       "      <td>8.644068</td>\n",
       "      <td>9.440678</td>\n",
       "      <td>0.063492</td>\n",
       "      <td>0.889407</td>\n",
       "      <td>0.981818</td>\n",
       "      <td>9.246588</td>\n",
       "      <td>1.195901e+09</td>\n",
       "    </tr>\n",
       "    <tr>\n",
       "      <th>1</th>\n",
       "      <td>ABQ-DAL</td>\n",
       "      <td>488.0</td>\n",
       "      <td>504.0</td>\n",
       "      <td>56344.0</td>\n",
       "      <td>74104.0</td>\n",
       "      <td>56.594778</td>\n",
       "      <td>53.008226</td>\n",
       "      <td>14229909.0</td>\n",
       "      <td>16207</td>\n",
       "      <td>74.0</td>\n",
       "      <td>...</td>\n",
       "      <td>1155.5</td>\n",
       "      <td>5668165.0</td>\n",
       "      <td>1522.2</td>\n",
       "      <td>9.102740</td>\n",
       "      <td>8.075862</td>\n",
       "      <td>0.006803</td>\n",
       "      <td>0.760337</td>\n",
       "      <td>0.968254</td>\n",
       "      <td>127.715623</td>\n",
       "      <td>1.268991e+08</td>\n",
       "    </tr>\n",
       "    <tr>\n",
       "      <th>2</th>\n",
       "      <td>ABQ-DEN</td>\n",
       "      <td>330.0</td>\n",
       "      <td>337.0</td>\n",
       "      <td>37782.0</td>\n",
       "      <td>47510.0</td>\n",
       "      <td>56.594778</td>\n",
       "      <td>53.008226</td>\n",
       "      <td>14229909.0</td>\n",
       "      <td>16207</td>\n",
       "      <td>74.0</td>\n",
       "      <td>...</td>\n",
       "      <td>1155.5</td>\n",
       "      <td>2650725.0</td>\n",
       "      <td>1805.7</td>\n",
       "      <td>18.624521</td>\n",
       "      <td>18.896154</td>\n",
       "      <td>0.003817</td>\n",
       "      <td>0.795243</td>\n",
       "      <td>0.979228</td>\n",
       "      <td>136.091530</td>\n",
       "      <td>1.190890e+08</td>\n",
       "    </tr>\n",
       "    <tr>\n",
       "      <th>3</th>\n",
       "      <td>ABQ-HOU</td>\n",
       "      <td>326.0</td>\n",
       "      <td>335.0</td>\n",
       "      <td>39590.0</td>\n",
       "      <td>50650.0</td>\n",
       "      <td>56.927884</td>\n",
       "      <td>52.942134</td>\n",
       "      <td>23815574.0</td>\n",
       "      <td>27265</td>\n",
       "      <td>74.0</td>\n",
       "      <td>...</td>\n",
       "      <td>1155.5</td>\n",
       "      <td>5650910.0</td>\n",
       "      <td>1394.6</td>\n",
       "      <td>4.595506</td>\n",
       "      <td>4.044944</td>\n",
       "      <td>0.000000</td>\n",
       "      <td>0.781639</td>\n",
       "      <td>0.973134</td>\n",
       "      <td>66.719030</td>\n",
       "      <td>4.086540e+08</td>\n",
       "    </tr>\n",
       "    <tr>\n",
       "      <th>4</th>\n",
       "      <td>ABQ-LAS</td>\n",
       "      <td>324.0</td>\n",
       "      <td>333.0</td>\n",
       "      <td>35966.0</td>\n",
       "      <td>46332.0</td>\n",
       "      <td>57.427544</td>\n",
       "      <td>52.842995</td>\n",
       "      <td>9585665.0</td>\n",
       "      <td>11058</td>\n",
       "      <td>74.0</td>\n",
       "      <td>...</td>\n",
       "      <td>1155.5</td>\n",
       "      <td>2150373.0</td>\n",
       "      <td>1754.7</td>\n",
       "      <td>15.618321</td>\n",
       "      <td>13.946565</td>\n",
       "      <td>0.015038</td>\n",
       "      <td>0.776267</td>\n",
       "      <td>0.972973</td>\n",
       "      <td>95.250213</td>\n",
       "      <td>1.160942e+08</td>\n",
       "    </tr>\n",
       "  </tbody>\n",
       "</table>\n",
       "<p>5 rows × 36 columns</p>\n",
       "</div>"
      ],
      "text/plain": [
       "  citypair  sum_departures_performed  sum_departures_scheduled  passengers  \\\n",
       "0  ABQ-BWI                     108.0                     110.0     13736.0   \n",
       "1  ABQ-DAL                     488.0                     504.0     56344.0   \n",
       "2  ABQ-DEN                     330.0                     337.0     37782.0   \n",
       "3  ABQ-HOU                     326.0                     335.0     39590.0   \n",
       "4  ABQ-LAS                     324.0                     333.0     35966.0   \n",
       "\n",
       "     seats  avg_fuel_price  avg_stock_price  total_operating_expense  revenue  \\\n",
       "0  15444.0       57.427544        52.842995                9585665.0    11058   \n",
       "1  74104.0       56.594778        53.008226               14229909.0    16207   \n",
       "2  47510.0       56.594778        53.008226               14229909.0    16207   \n",
       "3  50650.0       56.927884        52.942134               23815574.0    27265   \n",
       "4  46332.0       57.427544        52.842995                9585665.0    11058   \n",
       "\n",
       "   Aircraft_Unit_Cost ($ millions USD)  ...  origin_density  dest_population  \\\n",
       "0                                 74.0  ...          1155.5        2205092.0   \n",
       "1                                 74.0  ...          1155.5        5668165.0   \n",
       "2                                 74.0  ...          1155.5        2650725.0   \n",
       "3                                 74.0  ...          1155.5        5650910.0   \n",
       "4                                 74.0  ...          1155.5        2150373.0   \n",
       "\n",
       "   dest_density  DEP_DELAY_NEW ARR_DELAY_NEW CANCELLED Utilization  \\\n",
       "0        2872.8       8.644068      9.440678  0.063492    0.889407   \n",
       "1        1522.2       9.102740      8.075862  0.006803    0.760337   \n",
       "2        1805.7      18.624521     18.896154  0.003817    0.795243   \n",
       "3        1394.6       4.595506      4.044944  0.000000    0.781639   \n",
       "4        1754.7      15.618321     13.946565  0.015038    0.776267   \n",
       "\n",
       "   Regularity         ASM          RASM  \n",
       "0    0.981818    9.246588  1.195901e+09  \n",
       "1    0.968254  127.715623  1.268991e+08  \n",
       "2    0.979228  136.091530  1.190890e+08  \n",
       "3    0.973134   66.719030  4.086540e+08  \n",
       "4    0.972973   95.250213  1.160942e+08  \n",
       "\n",
       "[5 rows x 36 columns]"
      ]
     },
     "execution_count": 2,
     "metadata": {},
     "output_type": "execute_result"
    }
   ],
   "source": [
    "data  = pd.read_csv('Database/FINAL_EDGE_TABLE.csv', index_col = 0)\n",
    "data = data.drop(columns = {'Unnamed: 0', 'Unnamed: 0.1', 'Unnamed: 0.2'}, axis = 1)\n",
    "# Utilization: boaded passengers concerning all departed flights’ available seats\n",
    "data = data.assign(Utilization = data['passengers'] / data['seats'])\n",
    "# Regularity: percentage of operated flights concerning planned flights\n",
    "data = data.assign(Regularity = data['sum_departures_performed'] / data['sum_departures_scheduled'])\n",
    "# Available seat miles (ASM): airline’s carrying capacity\n",
    "data = data.assign(ASM = data['seats'] / data['Route_Distance'])\n",
    "# Revenue Per Available Seat Mile (RASM): show financial performance\n",
    "data = data.assign(RASM = data['revenue'] * 1e06 / data['ASM'])\n",
    "data.head()"
   ]
  },
  {
   "cell_type": "code",
   "execution_count": 3,
   "id": "d8819363-730f-4132-9111-bf2804523732",
   "metadata": {},
   "outputs": [],
   "source": [
    "data.to_csv('airline_tab.csv')"
   ]
  },
  {
   "cell_type": "code",
   "execution_count": 4,
   "id": "81026ac7-838f-4ec6-a494-6ffda4a182ce",
   "metadata": {},
   "outputs": [
    {
     "data": {
      "image/png": "[encoded data removed]",
      "text/plain": [
       "<Figure size 640x480 with 6 Axes>"
      ]
     },
     "metadata": {},
     "output_type": "display_data"
    }
   ],
   "source": [
    "data[['Utilization', 'Regularity', 'ASM', 'RASM', 'CANCELLED']].hist(layout = (2,3));"
   ]
  },
  {
   "cell_type": "code",
   "execution_count": 5,
   "id": "c69d6b3a-5aa7-4f21-9273-c595c4ff2068",
   "metadata": {},
   "outputs": [],
   "source": [
    "# Create a graph\n",
    "G = nx.from_pandas_edgelist(data, source = 'Origin_Airport_Code', target = 'Destination_Airport_Code', create_using = nx.DiGraph, edge_attr = ['Utilization', 'Regularity', 'CANCELLED', 'ASM', 'RASM'])\n",
    "# Calculate degree centrality for each airport\n",
    "degree_centrality = nx.degree_centrality(G)\n",
    "# Calculate betweenness centrality for each airport\n",
    "betweenness_centrality = nx.betweenness_centrality(G)"
   ]
  },
  {
   "cell_type": "code",
   "execution_count": 6,
   "id": "f60310a1-695f-4b8f-a315-4abd1b5a7767",
   "metadata": {},
   "outputs": [],
   "source": [
    "# Get the nodes and edges of the graph\n",
    "nodes = [node for node in G.nodes()]\n",
    "edges = [edge for edge in G.edges()]"
   ]
  },
  {
   "cell_type": "markdown",
   "id": "cf86e8e1-37d1-4226-af94-513fad1900ec",
   "metadata": {
    "tags": []
   },
   "source": [
    "## Create lables for outliers (hub points)"
   ]
  },
  {
   "cell_type": "markdown",
   "id": "71915308-2d12-4c87-8d9c-4956076032f6",
   "metadata": {},
   "source": [
    "### Use degree centrality as the attribute"
   ]
  },
  {
   "cell_type": "code",
   "execution_count": 7,
   "id": "581bd53b-b29a-4095-b3ac-929e0b10aa13",
   "metadata": {},
   "outputs": [
    {
     "name": "stdout",
     "output_type": "stream",
     "text": [
      "--LOF with Degree Centrality--\n",
      "Outliers are ['BWI', 'DAL', 'DEN', 'HOU', 'LAS', 'LAX', 'MDW', 'OAK', 'PHX', 'MCO', 'TPA', 'BNA', 'CMH', 'DCA', 'IND', 'MKE', 'MSY', 'SAN', 'SAT', 'STL', 'SJC', 'SMF']\n"
     ]
    }
   ],
   "source": [
    "X = np.array(list(degree_centrality.values())).reshape(-1, 1)\n",
    "lof_deg = LocalOutlierFactor(n_neighbors = 20).fit(X)\n",
    "# Nodes with LOF greater than 1.5 are identified as outliers (i.e negative outlier factor < -1.5)\n",
    "outliers_deg = [nodes[i] for i in np.where(lof_deg.negative_outlier_factor_ < lof_deg.offset_)[0]]\n",
    "# Create labels (1: inliers, -1: outliers)\n",
    "y_deg = np.array([-1 if i in outliers_deg else 1 for i in nodes])\n",
    "print('--LOF with Degree Centrality--')\n",
    "print('Outliers are {}'.format(outliers_deg))"
   ]
  },
  {
   "cell_type": "markdown",
   "id": "d1a12162-4343-408c-9c7a-a805cbdc78be",
   "metadata": {},
   "source": [
    "### Use betweenness centrality as the attribute"
   ]
  },
  {
   "cell_type": "code",
   "execution_count": 8,
   "id": "8cf72d4b-d3ea-4125-8398-107cdacee111",
   "metadata": {},
   "outputs": [
    {
     "name": "stdout",
     "output_type": "stream",
     "text": [
      "--LOF with Betweenness Centrality--\n",
      "Outliers are ['ABQ', 'BWI', 'DAL', 'DEN', 'HOU', 'LAS', 'LAX', 'MDW', 'OAK', 'PHX', 'ALB', 'FLL', 'MCO', 'TPA', 'ATL', 'AUS', 'BNA', 'BOS', 'CLE', 'CMH', 'DCA', 'IND', 'LGA', 'MCI', 'MKE', 'MSP', 'MSY', 'PBI', 'PHL', 'PIT', 'RSW', 'SAN', 'SAT', 'STL', 'ELP', 'EWR', 'SFO', 'SJC', 'SMF', 'BDL', 'BHM', 'RDU', 'BOI', 'GEG', 'BUF', 'BUR', 'PDX', 'SLC', 'GRR', 'ISP', 'MEM', 'MHT', 'OKC', 'PVD', 'ROC', 'SDF', 'SJU', 'OMA', 'SEA', 'SNA', 'ONT', 'RNO', 'TUS', 'LGB']\n"
     ]
    }
   ],
   "source": [
    "X = np.array(list(betweenness_centrality.values())).reshape(-1, 1)\n",
    "lof_betw = LocalOutlierFactor(n_neighbors = 20).fit(X)\n",
    "# Nodes with LOF greater than 1.5 are identified as outliers (i.e negative outlier factor < -1.5)\n",
    "outliers_betw = [nodes[i] for i in np.where(lof_betw.negative_outlier_factor_ < lof_betw.offset_)[0]]\n",
    "# Create labels (1: inliers, -1: outliers)\n",
    "y_betw = np.array([-1 if i in outliers_betw else 1 for i in nodes])\n",
    "print('--LOF with Betweenness Centrality--')\n",
    "print('Outliers are {}'.format(outliers_betw))"
   ]
  },
  {
   "cell_type": "markdown",
   "id": "5b3fb1db-8c6b-4593-9a1d-71f3e8936e84",
   "metadata": {},
   "source": [
    "### Compare the outliers identified with Degree Centrality and Betweenness Centrality"
   ]
  },
  {
   "cell_type": "code",
   "execution_count": 9,
   "id": "1e92d687-8bd6-41ad-bb73-b6ef40e10249",
   "metadata": {},
   "outputs": [
    {
     "data": {
      "image/png": "[encoded data removed]",
      "text/plain": [
       "<Figure size 640x480 with 1 Axes>"
      ]
     },
     "metadata": {},
     "output_type": "display_data"
    }
   ],
   "source": [
    "from matplotlib_venn import venn2\n",
    "\n",
    "venn = venn2([set(outliers_deg), set(outliers_betw)], set_labels=('Degree Centrality', 'Betweenness Centrality'), set_colors=('green', 'yellow'), alpha = 0.7)\n",
    "plt.legend(('Degree Centrality', 'Betweenness Centrality'), loc='center left', bbox_to_anchor=(1, 0.5), frameon = False, prop = {'size': 10}, markerscale = 1.5, title = 'Internal Attribute of the Network', title_fontsize = 12, handletextpad = 0.2)\n",
    "plt.title('Venn Diagram of Number of Outliers')\n",
    "plt.show()"
   ]
  },
  {
   "cell_type": "markdown",
   "id": "16548898-86a3-4011-ac1d-eeb9bbb17d58",
   "metadata": {},
   "source": [
    "#### All outliers recognized using degree centrality belong to those identified using betweenness centrality"
   ]
  },
  {
   "cell_type": "code",
   "execution_count": 10,
   "id": "614579ac-7fe0-48d0-9e58-8ff29057445a",
   "metadata": {},
   "outputs": [
    {
     "name": "stdout",
     "output_type": "stream",
     "text": [
      "Number of Common is: 22\n",
      "Number of Unique Outliers obtained using Betweenness Centrality is: 42\n"
     ]
    }
   ],
   "source": [
    "# Find the common outliers\n",
    "common_outliers = set(outliers_deg).intersection(outliers_betw)\n",
    "# Find the unique outliers identified using betweenness centrality\n",
    "unique_outliers_betw = [i for i in outliers_betw if i not in common_outliers]\n",
    "print(\"Number of Common is: {}\".format(len(outliers_deg)))\n",
    "print(\"Number of Unique Outliers obtained using Betweenness Centrality is: {}\".format(len(unique_outliers_betw)))"
   ]
  },
  {
   "cell_type": "markdown",
   "id": "9bd77e7e-aad7-434d-9b89-cca896b2d109",
   "metadata": {},
   "source": [
    "### Use LOF to identify anomaly edges based on Utilization, Regularity, CANCELLED, ASM, RASM metrics"
   ]
  },
  {
   "cell_type": "code",
   "execution_count": 11,
   "id": "b565b592-13bf-4a09-96d9-8d5c2263ca39",
   "metadata": {},
   "outputs": [
    {
     "data": {
      "text/plain": [
       "[('BWI', 'SMF'),\n",
       " ('DEN', 'GRR'),\n",
       " ('DEN', 'MCO'),\n",
       " ('HOU', 'SNA'),\n",
       " ('LAS', 'MKE'),\n",
       " ('LAS', 'ONT'),\n",
       " ('LAX', 'BNA'),\n",
       " ('LAX', 'SFO'),\n",
       " ('MDW', 'BWI'),\n",
       " ('PHX', 'CMH'),\n",
       " ('PHX', 'DEN'),\n",
       " ('PHX', 'ELP'),\n",
       " ('FLL', 'IND'),\n",
       " ('MCO', 'ATL'),\n",
       " ('MCO', 'AUS'),\n",
       " ('MCO', 'PHL'),\n",
       " ('BNA', 'CLE'),\n",
       " ('DCA', 'STL'),\n",
       " ('DTW', 'STL'),\n",
       " ('PHL', 'HOU'),\n",
       " ('PHL', 'MCO'),\n",
       " ('RSW', 'BNA'),\n",
       " ('STL', 'RSW'),\n",
       " ('ELP', 'HOU'),\n",
       " ('HRL', 'AUS'),\n",
       " ('HRL', 'HOU'),\n",
       " ('SJC', 'HOU'),\n",
       " ('SJC', 'PHX'),\n",
       " ('BDL', 'TPA'),\n",
       " ('PDX', 'STL')]"
      ]
     },
     "execution_count": 11,
     "metadata": {},
     "output_type": "execute_result"
    }
   ],
   "source": [
    "from sklearn.preprocessing import MinMaxScaler, StandardScaler\n",
    "# Normalize the features so that they are on the same scale\n",
    "X = data.loc[:, ['Utilization', 'Regularity', 'CANCELLED', 'ASM', 'RASM']]\n",
    "scaler = StandardScaler()\n",
    "X = scaler.fit_transform(X)\n",
    "\n",
    "# Compute the LOF scores based on the metrics\n",
    "lof = LocalOutlierFactor(n_neighbors = 10)\n",
    "lof_scores = lof.fit_predict(X)\n",
    "outliers = [edges[i] for i in np.where(lof.negative_outlier_factor_ < lof.offset_)[0]]\n",
    "outliers"
   ]
  },
  {
   "cell_type": "markdown",
   "id": "c0a3408e-621c-4c6f-aed9-c5aee41373a5",
   "metadata": {},
   "source": [
    "## Fine-tuning p q in Node2Vec"
   ]
  },
  {
   "cell_type": "code",
   "execution_count": 12,
   "id": "2ca7df5d-1a7e-47ba-a7c5-5a52cecab535",
   "metadata": {},
   "outputs": [
    {
     "name": "stdout",
     "output_type": "stream",
     "text": [
      "{'p': 0.1, 'q': 0.25}\n"
     ]
    },
    {
     "data": {
      "application/vnd.jupyter.widget-view+json": {
       "model_id": "87106a73d3df4fbcbe79776a7e4aacbf",
       "version_major": 2,
       "version_minor": 0
      },
      "text/plain": [
       "Computing transition probabilities:   0%|          | 0/85 [00:00<?, ?it/s]"
      ]
     },
     "metadata": {},
     "output_type": "display_data"
    },
    {
     "name": "stderr",
     "output_type": "stream",
     "text": [
      "Generating walks (CPU: 1): 100%|██████████| 100/100 [00:01<00:00, 87.51it/s]\n"
     ]
    },
    {
     "name": "stdout",
     "output_type": "stream",
     "text": [
      "{'p': 0.1, 'q': 0.5}\n"
     ]
    },
    {
     "data": {
      "application/vnd.jupyter.widget-view+json": {
       "model_id": "668ed2f1079845108da42d7610a1c211",
       "version_major": 2,
       "version_minor": 0
      },
      "text/plain": [
       "Computing transition probabilities:   0%|          | 0/85 [00:00<?, ?it/s]"
      ]
     },
     "metadata": {},
     "output_type": "display_data"
    },
    {
     "name": "stderr",
     "output_type": "stream",
     "text": [
      "Generating walks (CPU: 1): 100%|██████████| 100/100 [00:01<00:00, 86.64it/s]\n"
     ]
    },
    {
     "name": "stdout",
     "output_type": "stream",
     "text": [
      "{'p': 0.1, 'q': 0.75}\n"
     ]
    },
    {
     "data": {
      "application/vnd.jupyter.widget-view+json": {
       "model_id": "94546d4869f842d59721b4c53ae01c09",
       "version_major": 2,
       "version_minor": 0
      },
      "text/plain": [
       "Computing transition probabilities:   0%|          | 0/85 [00:00<?, ?it/s]"
      ]
     },
     "metadata": {},
     "output_type": "display_data"
    },
    {
     "name": "stderr",
     "output_type": "stream",
     "text": [
      "Generating walks (CPU: 1): 100%|██████████| 100/100 [00:01<00:00, 85.53it/s]\n"
     ]
    },
    {
     "name": "stdout",
     "output_type": "stream",
     "text": [
      "{'p': 0.1, 'q': 0.9}\n"
     ]
    },
    {
     "data": {
      "application/vnd.jupyter.widget-view+json": {
       "model_id": "6657f60a22a64ba684840814e617faa6",
       "version_major": 2,
       "version_minor": 0
      },
      "text/plain": [
       "Computing transition probabilities:   0%|          | 0/85 [00:00<?, ?it/s]"
      ]
     },
     "metadata": {},
     "output_type": "display_data"
    },
    {
     "name": "stderr",
     "output_type": "stream",
     "text": [
      "Generating walks (CPU: 1): 100%|██████████| 100/100 [00:01<00:00, 85.40it/s]\n"
     ]
    },
    {
     "name": "stdout",
     "output_type": "stream",
     "text": [
      "{'p': 0.1, 'q': 1}\n"
     ]
    },
    {
     "data": {
      "application/vnd.jupyter.widget-view+json": {
       "model_id": "af77acfdc68d40078589a59bb90fc6e6",
       "version_major": 2,
       "version_minor": 0
      },
      "text/plain": [
       "Computing transition probabilities:   0%|          | 0/85 [00:00<?, ?it/s]"
      ]
     },
     "metadata": {},
     "output_type": "display_data"
    },
    {
     "name": "stderr",
     "output_type": "stream",
     "text": [
      "Generating walks (CPU: 1): 100%|██████████| 100/100 [00:01<00:00, 84.17it/s]\n"
     ]
    },
    {
     "name": "stdout",
     "output_type": "stream",
     "text": [
      "{'p': 0.25, 'q': 0.5}\n"
     ]
    },
    {
     "data": {
      "application/vnd.jupyter.widget-view+json": {
       "model_id": "a5fa2006daeb4767a9f6869dce3bdbe0",
       "version_major": 2,
       "version_minor": 0
      },
      "text/plain": [
       "Computing transition probabilities:   0%|          | 0/85 [00:00<?, ?it/s]"
      ]
     },
     "metadata": {},
     "output_type": "display_data"
    },
    {
     "name": "stderr",
     "output_type": "stream",
     "text": [
      "Generating walks (CPU: 1): 100%|██████████| 100/100 [00:01<00:00, 86.08it/s]\n"
     ]
    },
    {
     "name": "stdout",
     "output_type": "stream",
     "text": [
      "{'p': 0.25, 'q': 0.75}\n"
     ]
    },
    {
     "data": {
      "application/vnd.jupyter.widget-view+json": {
       "model_id": "80ba0686b10e448987d3699a2f3828d6",
       "version_major": 2,
       "version_minor": 0
      },
      "text/plain": [
       "Computing transition probabilities:   0%|          | 0/85 [00:00<?, ?it/s]"
      ]
     },
     "metadata": {},
     "output_type": "display_data"
    },
    {
     "name": "stderr",
     "output_type": "stream",
     "text": [
      "Generating walks (CPU: 1): 100%|██████████| 100/100 [00:01<00:00, 85.68it/s]\n"
     ]
    },
    {
     "name": "stdout",
     "output_type": "stream",
     "text": [
      "{'p': 0.25, 'q': 0.9}\n"
     ]
    },
    {
     "data": {
      "application/vnd.jupyter.widget-view+json": {
       "model_id": "15d0dffd364345138b3be52295c126a9",
       "version_major": 2,
       "version_minor": 0
      },
      "text/plain": [
       "Computing transition probabilities:   0%|          | 0/85 [00:00<?, ?it/s]"
      ]
     },
     "metadata": {},
     "output_type": "display_data"
    },
    {
     "name": "stderr",
     "output_type": "stream",
     "text": [
      "Generating walks (CPU: 1): 100%|██████████| 100/100 [00:01<00:00, 75.99it/s]\n"
     ]
    },
    {
     "name": "stdout",
     "output_type": "stream",
     "text": [
      "{'p': 0.25, 'q': 1}\n"
     ]
    },
    {
     "data": {
      "application/vnd.jupyter.widget-view+json": {
       "model_id": "eb69a3b6b1f042b585fd84a4ac861d42",
       "version_major": 2,
       "version_minor": 0
      },
      "text/plain": [
       "Computing transition probabilities:   0%|          | 0/85 [00:00<?, ?it/s]"
      ]
     },
     "metadata": {},
     "output_type": "display_data"
    },
    {
     "name": "stderr",
     "output_type": "stream",
     "text": [
      "Generating walks (CPU: 1): 100%|██████████| 100/100 [00:01<00:00, 83.79it/s]\n"
     ]
    },
    {
     "name": "stdout",
     "output_type": "stream",
     "text": [
      "{'p': 0.5, 'q': 0.75}\n"
     ]
    },
    {
     "data": {
      "application/vnd.jupyter.widget-view+json": {
       "model_id": "0899229d99e547099034b61d8684e523",
       "version_major": 2,
       "version_minor": 0
      },
      "text/plain": [
       "Computing transition probabilities:   0%|          | 0/85 [00:00<?, ?it/s]"
      ]
     },
     "metadata": {},
     "output_type": "display_data"
    },
    {
     "name": "stderr",
     "output_type": "stream",
     "text": [
      "Generating walks (CPU: 1): 100%|██████████| 100/100 [00:01<00:00, 85.13it/s]\n"
     ]
    },
    {
     "name": "stdout",
     "output_type": "stream",
     "text": [
      "{'p': 0.5, 'q': 0.9}\n"
     ]
    },
    {
     "data": {
      "application/vnd.jupyter.widget-view+json": {
       "model_id": "775474e02a454f348c102a2c0125215c",
       "version_major": 2,
       "version_minor": 0
      },
      "text/plain": [
       "Computing transition probabilities:   0%|          | 0/85 [00:00<?, ?it/s]"
      ]
     },
     "metadata": {},
     "output_type": "display_data"
    },
    {
     "name": "stderr",
     "output_type": "stream",
     "text": [
      "Generating walks (CPU: 1): 100%|██████████| 100/100 [00:01<00:00, 84.47it/s]\n"
     ]
    },
    {
     "name": "stdout",
     "output_type": "stream",
     "text": [
      "{'p': 0.5, 'q': 1}\n"
     ]
    },
    {
     "data": {
      "application/vnd.jupyter.widget-view+json": {
       "model_id": "0cc2b89c9670495fa01028b5627e7cad",
       "version_major": 2,
       "version_minor": 0
      },
      "text/plain": [
       "Computing transition probabilities:   0%|          | 0/85 [00:00<?, ?it/s]"
      ]
     },
     "metadata": {},
     "output_type": "display_data"
    },
    {
     "name": "stderr",
     "output_type": "stream",
     "text": [
      "Generating walks (CPU: 1): 100%|██████████| 100/100 [00:01<00:00, 84.11it/s]\n"
     ]
    },
    {
     "name": "stdout",
     "output_type": "stream",
     "text": [
      "{'p': 0.75, 'q': 0.9}\n"
     ]
    },
    {
     "data": {
      "application/vnd.jupyter.widget-view+json": {
       "model_id": "e1850ea40b474c5e8428420cade00f5d",
       "version_major": 2,
       "version_minor": 0
      },
      "text/plain": [
       "Computing transition probabilities:   0%|          | 0/85 [00:00<?, ?it/s]"
      ]
     },
     "metadata": {},
     "output_type": "display_data"
    },
    {
     "name": "stderr",
     "output_type": "stream",
     "text": [
      "Generating walks (CPU: 1): 100%|██████████| 100/100 [00:01<00:00, 85.42it/s]\n"
     ]
    },
    {
     "name": "stdout",
     "output_type": "stream",
     "text": [
      "{'p': 0.75, 'q': 1}\n"
     ]
    },
    {
     "data": {
      "application/vnd.jupyter.widget-view+json": {
       "model_id": "0716eae3cce540e4b801956c2c406c4c",
       "version_major": 2,
       "version_minor": 0
      },
      "text/plain": [
       "Computing transition probabilities:   0%|          | 0/85 [00:00<?, ?it/s]"
      ]
     },
     "metadata": {},
     "output_type": "display_data"
    },
    {
     "name": "stderr",
     "output_type": "stream",
     "text": [
      "Generating walks (CPU: 1): 100%|██████████| 100/100 [00:01<00:00, 83.81it/s]\n"
     ]
    },
    {
     "name": "stdout",
     "output_type": "stream",
     "text": [
      "{'p': 0.9, 'q': 1}\n"
     ]
    },
    {
     "data": {
      "application/vnd.jupyter.widget-view+json": {
       "model_id": "4a225d7581204f7391e1068819ef496b",
       "version_major": 2,
       "version_minor": 0
      },
      "text/plain": [
       "Computing transition probabilities:   0%|          | 0/85 [00:00<?, ?it/s]"
      ]
     },
     "metadata": {},
     "output_type": "display_data"
    },
    {
     "name": "stderr",
     "output_type": "stream",
     "text": [
      "Generating walks (CPU: 1): 100%|██████████| 100/100 [00:01<00:00, 83.63it/s]\n"
     ]
    }
   ],
   "source": [
    "# Define the hyperparameters to search over\n",
    "hyperparams = {\n",
    "    'p': [0.1, 0.25, 0.5, 0.75, 0.9, 1],\n",
    "    'q': [0.1, 0.25, 0.5, 0.75, 0.9, 1]\n",
    "}\n",
    "best_p_q = dict()\n",
    "\n",
    "# Generate all possible combinations of hyperparameters\n",
    "param_grid = ParameterGrid(hyperparams)\n",
    "# Initialize the evaluation metric\n",
    "best_f1_score = -1\n",
    "# Iterate over each combination of hyperparameters\n",
    "for params in param_grid:\n",
    "    if params['p'] >= params['q']:\n",
    "        continue\n",
    "    print(params)\n",
    "    # Initialize a Node2Vec object with the weighted graph and the weight keys\n",
    "    node2vec = Node2Vec(G, dimensions = 32, walk_length = 30, num_walks = 100,  p = params['p'], q = params['q'], weight_key = ('Utilization', 'Regularity', 'CANCELLED', 'ASM', 'RASM'))\n",
    "    # Train the node2vec model\n",
    "    model = node2vec.fit(window = 10, min_count = 1)\n",
    "    # Get the node embeddings\n",
    "    embeddings = np.zeros((G.number_of_nodes(), model.vector_size))\n",
    "    for i, node in enumerate(G.nodes()):\n",
    "        embeddings[i] = model.wv[node]\n",
    "    # Apply LOF to predict outlies based on the embeddings\n",
    "        lof_n2v = LocalOutlierFactor(n_neighbors = 20).fit(embeddings)\n",
    "        outliers_n2v = [nodes[i] for i in np.where(lof_n2v.negative_outlier_factor_ < lof_n2v.offset_)[0]]\n",
    "        y_pred_lof = np.array([-1 if i in outliers_n2v else 1 for i in nodes])\n",
    "        f1 = f1_score(y_deg, y_pred_lof)\n",
    "        if f1 >= best_f1_score:\n",
    "            best_f1_score = f1\n",
    "            best_p_q['p'], best_p_q['q']  = params['p'], params['q']\n",
    "            node_embeddings = embeddings"
   ]
  },
  {
   "cell_type": "code",
   "execution_count": 13,
   "id": "8d00db3c-2177-4f74-83de-9677b59d8245",
   "metadata": {},
   "outputs": [
    {
     "data": {
      "text/plain": [
       "{'p': 0.9, 'q': 1}"
      ]
     },
     "execution_count": 13,
     "metadata": {},
     "output_type": "execute_result"
    }
   ],
   "source": [
    "best_p_q"
   ]
  },
  {
   "cell_type": "code",
   "execution_count": 14,
   "id": "63ca095e-0a05-4b33-83d8-3aaa1e327c99",
   "metadata": {},
   "outputs": [
    {
     "data": {
      "text/plain": [
       "0.898550724637681"
      ]
     },
     "execution_count": 14,
     "metadata": {},
     "output_type": "execute_result"
    }
   ],
   "source": [
    "best_f1_score"
   ]
  },
  {
   "cell_type": "markdown",
   "id": "2ff0bccc-af5e-4a9f-93ba-faa575828c2c",
   "metadata": {},
   "source": [
    "## IsolationRandomForest"
   ]
  },
  {
   "cell_type": "code",
   "execution_count": 15,
   "id": "eebef387-54e4-47cd-a19b-5dcaf4ff2bd3",
   "metadata": {},
   "outputs": [
    {
     "data": {
      "image/png": "[encoded data removed]",
      "text/plain": [
       "<Figure size 800x600 with 1 Axes>"
      ]
     },
     "metadata": {},
     "output_type": "display_data"
    }
   ],
   "source": [
    "# create an IsolationForest object\n",
    "isolation_forest = IsolationForest(n_estimators = 100, contamination = 0.15, random_state = 42)\n",
    "\n",
    "# fit the IsolationForest model to the embeddings\n",
    "isolation_forest.fit(node_embeddings)\n",
    "# get the average anomaly\n",
    "outlier_scores_isof = isolation_forest.decision_function(node_embeddings)\n",
    "\n",
    "plt.figure(figsize=(8, 6))\n",
    "plt.hist(outlier_scores_isof, bins = 50)\n",
    "plt.xlabel(\"outlier score\")\n",
    "plt.ylabel(\"Frequency\")\n",
    "plt.title(\"Isolation Random Forest\");"
   ]
  },
  {
   "cell_type": "code",
   "execution_count": 16,
   "id": "51462cb9-8537-4a91-b1ce-842515da3fd7",
   "metadata": {},
   "outputs": [
    {
     "name": "stdout",
     "output_type": "stream",
     "text": [
      "Anomaly nodes: ['ATL', 'DCA', 'GSP', 'PBI', 'RIC', 'RSW', 'HRL', 'BOI', 'GEG', 'ISP', 'CRP', 'ICT', 'LGB']\n"
     ]
    }
   ],
   "source": [
    "# Identify the anomaly nodes based on positiveness of the scores (inliers: positive score; outliers: negative score)\n",
    "outliers_isof = [nodes[i] for i in np.where(outlier_scores_isof < 0)[0]]\n",
    "print(\"Anomaly nodes:\", outliers_isof)"
   ]
  },
  {
   "cell_type": "markdown",
   "id": "57ed7137-8033-4eaa-92fd-c3a71ff23f16",
   "metadata": {},
   "source": [
    "### One class SVM \n",
    "Since we don't have the labels for the airport such that we can assume all nodes belongs to only one class. OC-SVM uses the origin as the other class"
   ]
  },
  {
   "cell_type": "code",
   "execution_count": 17,
   "id": "5a136d06-c45e-40de-8d95-d616ef00b4fb",
   "metadata": {},
   "outputs": [],
   "source": [
    "# Train the One-Class SVM\n",
    "svm = svm.OneClassSVM(nu = 0.5, kernel = \"rbf\", gamma = 0.1)\n",
    "svm.fit(node_embeddings)\n",
    "\n",
    "# Predict the anomaly scores for all embeddings\n",
    "outlier_scores_svm = svm.decision_function(node_embeddings)"
   ]
  },
  {
   "cell_type": "code",
   "execution_count": 18,
   "id": "46be5fa4-d9db-4637-82a1-6c0c0b52f817",
   "metadata": {},
   "outputs": [
    {
     "data": {
      "image/png": "[encoded data removed]",
      "text/plain": [
       "<Figure size 640x480 with 1 Axes>"
      ]
     },
     "metadata": {},
     "output_type": "display_data"
    }
   ],
   "source": [
    "plt.hist(outlier_scores_svm, bins = 50)\n",
    "plt.xlabel(\"outlier score\")\n",
    "plt.ylabel(\"Frequency\")\n",
    "plt.title(\"One Class SVM\");"
   ]
  },
  {
   "cell_type": "code",
   "execution_count": 19,
   "id": "349834cf-59b5-4eb8-9aa9-58c1864624ad",
   "metadata": {},
   "outputs": [
    {
     "name": "stdout",
     "output_type": "stream",
     "text": [
      "Anomaly nodes: ['BWI', 'HOU', 'LAS', 'OAK', 'TPA', 'AMA', 'ATL', 'AUS', 'DCA', 'GSP', 'IAD', 'LGA', 'PBI', 'RIC', 'RSW', 'STL', 'HRL', 'LBB', 'SJC', 'SMF', 'BOI', 'GEG', 'BUF', 'CLT', 'CVG', 'ECP', 'GRR', 'ISP', 'ORF', 'PVD', 'PWM', 'ROC', 'CRP', 'LIT', 'MAF', 'ONT', 'RNO', 'TUS', 'DSM', 'ICT', 'LGB']\n"
     ]
    }
   ],
   "source": [
    "# Identify nodes as anomalies if its anomaly scoce is below zero\n",
    "outliers_svm = [nodes[i] for i in np.where(outlier_scores_svm < 0)[0]]\n",
    "print(\"Anomaly nodes:\", outliers_svm)"
   ]
  },
  {
   "cell_type": "code",
   "execution_count": 20,
   "id": "01b17c4c-752f-4b31-97db-28bb002aef7a",
   "metadata": {},
   "outputs": [
    {
     "data": {
      "text/plain": [
       "{'ATL',\n",
       " 'BOI',\n",
       " 'CRP',\n",
       " 'DCA',\n",
       " 'GEG',\n",
       " 'GSP',\n",
       " 'HRL',\n",
       " 'ICT',\n",
       " 'ISP',\n",
       " 'LGB',\n",
       " 'PBI',\n",
       " 'RIC',\n",
       " 'RSW'}"
      ]
     },
     "execution_count": 20,
     "metadata": {},
     "output_type": "execute_result"
    }
   ],
   "source": [
    "potential_outliers = set(outliers_isof).intersection(outliers_svm)\n",
    "potential_outliers"
   ]
  },
  {
   "cell_type": "markdown",
   "id": "e557693e-66ba-45b4-aa02-93127cd94c4e",
   "metadata": {},
   "source": [
    "### Two-sample t-test with unequal variances for removing potential hub points identified using graph anomaly detection"
   ]
  },
  {
   "cell_type": "code",
   "execution_count": 21,
   "id": "21e1e190-bda1-4760-81b4-ac51669f6131",
   "metadata": {},
   "outputs": [],
   "source": [
    "from scipy import stats\n",
    "def ttest_removing_potential_hubs(data, metric, node):\n",
    "    t_stat, p_val = stats.ttest_ind(data[data['citypair'].str.contains(node)][metric], data[~data['citypair'].str.contains(node)][metric], equal_var = False)\n",
    "    return p_val"
   ]
  },
  {
   "cell_type": "code",
   "execution_count": 22,
   "id": "67332727-6768-49c0-998c-40ce102b4002",
   "metadata": {},
   "outputs": [],
   "source": [
    "uncertain_nodes = [node for node in potential_outliers if len(data[data['citypair'].str.contains(node)]) <= 2]\n",
    "new_candidates = [node for node in potential_outliers if node not in uncertain_nodes]\n",
    "metrics = ['CANCELLED', 'Utilization', 'Regularity', 'ASM', 'RASM']\n",
    "res = {}\n",
    "for node in new_candidates:\n",
    "    for metric in metrics:\n",
    "        p_val = ttest_removing_potential_hubs(data, metric, node)\n",
    "        if p_val > 0.05:\n",
    "            if node not in res:\n",
    "                res[node] = [(metric, p_val)]\n",
    "            else:\n",
    "                res[node].append((metric, p_val))"
   ]
  },
  {
   "cell_type": "code",
   "execution_count": 23,
   "id": "098ad761-2f1c-4014-97c7-bd8306443fb3",
   "metadata": {},
   "outputs": [
    {
     "data": {
      "text/plain": [
       "{'PBI': [('Utilization', 0.2300058421799936)],\n",
       " 'ISP': [('CANCELLED', 0.11493770284952684), ('ASM', 0.8708125408861225)],\n",
       " 'ICT': [('Utilization', 0.7150568639182684),\n",
       "  ('ASM', 0.13094722979659024),\n",
       "  ('RASM', 0.08169838862790404)],\n",
       " 'LGB': [('CANCELLED', 0.6126524563822475),\n",
       "  ('Utilization', 0.08271168439184777),\n",
       "  ('Regularity', 0.11109837099748708),\n",
       "  ('ASM', 0.4827951444934456)],\n",
       " 'DCA': [('Regularity', 0.1818406911194796)],\n",
       " 'GEG': [('CANCELLED', 0.6152638910356661)],\n",
       " 'BOI': [('Utilization', 0.4047586017538669),\n",
       "  ('Regularity', 0.7794564866150244),\n",
       "  ('RASM', 0.6864971537246725)],\n",
       " 'RSW': [('Regularity', 0.15939838840123347), ('RASM', 0.6643025913571261)],\n",
       " 'ATL': [('Utilization', 0.20703290049074163),\n",
       "  ('Regularity', 0.1584391327166518),\n",
       "  ('ASM', 0.7261190460009455)],\n",
       " 'HRL': [('Regularity', 0.3778551269229868), ('ASM', 0.5086221437609962)]}"
      ]
     },
     "execution_count": 23,
     "metadata": {},
     "output_type": "execute_result"
    }
   ],
   "source": [
    "res"
   ]
  },
  {
   "cell_type": "code",
   "execution_count": 24,
   "id": "d785c6b2-a971-4367-bca6-d002e47f34e2",
   "metadata": {},
   "outputs": [
    {
     "data": {
      "text/html": [
       "<div>\n",
       "<style scoped>\n",
       "    .dataframe tbody tr th:only-of-type {\n",
       "        vertical-align: middle;\n",
       "    }\n",
       "\n",
       "    .dataframe tbody tr th {\n",
       "        vertical-align: top;\n",
       "    }\n",
       "\n",
       "    .dataframe thead th {\n",
       "        text-align: right;\n",
       "    }\n",
       "</style>\n",
       "<table border=\"1\" class=\"dataframe\">\n",
       "  <thead>\n",
       "    <tr style=\"text-align: right;\">\n",
       "      <th></th>\n",
       "      <th>citypair</th>\n",
       "      <th>sum_departures_performed</th>\n",
       "      <th>sum_departures_scheduled</th>\n",
       "      <th>passengers</th>\n",
       "      <th>seats</th>\n",
       "      <th>avg_fuel_price</th>\n",
       "      <th>avg_stock_price</th>\n",
       "      <th>total_operating_expense</th>\n",
       "      <th>revenue</th>\n",
       "      <th>Aircraft_Unit_Cost ($ millions USD)</th>\n",
       "      <th>...</th>\n",
       "      <th>origin_density</th>\n",
       "      <th>dest_population</th>\n",
       "      <th>dest_density</th>\n",
       "      <th>DEP_DELAY_NEW</th>\n",
       "      <th>ARR_DELAY_NEW</th>\n",
       "      <th>CANCELLED</th>\n",
       "      <th>Utilization</th>\n",
       "      <th>Regularity</th>\n",
       "      <th>ASM</th>\n",
       "      <th>RASM</th>\n",
       "    </tr>\n",
       "  </thead>\n",
       "  <tbody>\n",
       "    <tr>\n",
       "      <th>28</th>\n",
       "      <td>ATL-GSP</td>\n",
       "      <td>239.0</td>\n",
       "      <td>241.0</td>\n",
       "      <td>21988.0</td>\n",
       "      <td>34177.0</td>\n",
       "      <td>54.929246</td>\n",
       "      <td>53.338689</td>\n",
       "      <td>4644244.0</td>\n",
       "      <td>5149</td>\n",
       "      <td>74.0</td>\n",
       "      <td>...</td>\n",
       "      <td>1419.9</td>\n",
       "      <td>35151.0</td>\n",
       "      <td>528.5</td>\n",
       "      <td>13.302752</td>\n",
       "      <td>12.614679</td>\n",
       "      <td>0.000000</td>\n",
       "      <td>0.643357</td>\n",
       "      <td>0.991701</td>\n",
       "      <td>222.893544</td>\n",
       "      <td>2.310071e+07</td>\n",
       "    </tr>\n",
       "    <tr>\n",
       "      <th>452</th>\n",
       "      <td>GSP-ATL</td>\n",
       "      <td>239.0</td>\n",
       "      <td>241.0</td>\n",
       "      <td>21729.0</td>\n",
       "      <td>34177.0</td>\n",
       "      <td>54.929246</td>\n",
       "      <td>53.338689</td>\n",
       "      <td>4644244.0</td>\n",
       "      <td>5149</td>\n",
       "      <td>74.0</td>\n",
       "      <td>...</td>\n",
       "      <td>528.5</td>\n",
       "      <td>5046555.0</td>\n",
       "      <td>1419.9</td>\n",
       "      <td>8.532308</td>\n",
       "      <td>8.864198</td>\n",
       "      <td>0.006116</td>\n",
       "      <td>0.635778</td>\n",
       "      <td>0.991701</td>\n",
       "      <td>222.893544</td>\n",
       "      <td>2.310071e+07</td>\n",
       "    </tr>\n",
       "  </tbody>\n",
       "</table>\n",
       "<p>2 rows × 36 columns</p>\n",
       "</div>"
      ],
      "text/plain": [
       "    citypair  sum_departures_performed  sum_departures_scheduled  passengers  \\\n",
       "28   ATL-GSP                     239.0                     241.0     21988.0   \n",
       "452  GSP-ATL                     239.0                     241.0     21729.0   \n",
       "\n",
       "       seats  avg_fuel_price  avg_stock_price  total_operating_expense  \\\n",
       "28   34177.0       54.929246        53.338689                4644244.0   \n",
       "452  34177.0       54.929246        53.338689                4644244.0   \n",
       "\n",
       "     revenue  Aircraft_Unit_Cost ($ millions USD)  ...  origin_density  \\\n",
       "28      5149                                 74.0  ...          1419.9   \n",
       "452     5149                                 74.0  ...           528.5   \n",
       "\n",
       "     dest_population  dest_density  DEP_DELAY_NEW ARR_DELAY_NEW CANCELLED  \\\n",
       "28           35151.0         528.5      13.302752     12.614679  0.000000   \n",
       "452        5046555.0        1419.9       8.532308      8.864198  0.006116   \n",
       "\n",
       "    Utilization  Regularity         ASM          RASM  \n",
       "28     0.643357    0.991701  222.893544  2.310071e+07  \n",
       "452    0.635778    0.991701  222.893544  2.310071e+07  \n",
       "\n",
       "[2 rows x 36 columns]"
      ]
     },
     "metadata": {},
     "output_type": "display_data"
    },
    {
     "data": {
      "text/html": [
       "<div>\n",
       "<style scoped>\n",
       "    .dataframe tbody tr th:only-of-type {\n",
       "        vertical-align: middle;\n",
       "    }\n",
       "\n",
       "    .dataframe tbody tr th {\n",
       "        vertical-align: top;\n",
       "    }\n",
       "\n",
       "    .dataframe thead th {\n",
       "        text-align: right;\n",
       "    }\n",
       "</style>\n",
       "<table border=\"1\" class=\"dataframe\">\n",
       "  <thead>\n",
       "    <tr style=\"text-align: right;\">\n",
       "      <th></th>\n",
       "      <th>citypair</th>\n",
       "      <th>sum_departures_performed</th>\n",
       "      <th>sum_departures_scheduled</th>\n",
       "      <th>passengers</th>\n",
       "      <th>seats</th>\n",
       "      <th>avg_fuel_price</th>\n",
       "      <th>avg_stock_price</th>\n",
       "      <th>total_operating_expense</th>\n",
       "      <th>revenue</th>\n",
       "      <th>Aircraft_Unit_Cost ($ millions USD)</th>\n",
       "      <th>...</th>\n",
       "      <th>origin_density</th>\n",
       "      <th>dest_population</th>\n",
       "      <th>dest_density</th>\n",
       "      <th>DEP_DELAY_NEW</th>\n",
       "      <th>ARR_DELAY_NEW</th>\n",
       "      <th>CANCELLED</th>\n",
       "      <th>Utilization</th>\n",
       "      <th>Regularity</th>\n",
       "      <th>ASM</th>\n",
       "      <th>RASM</th>\n",
       "    </tr>\n",
       "  </thead>\n",
       "  <tbody>\n",
       "    <tr>\n",
       "      <th>249</th>\n",
       "      <td>CRP-HOU</td>\n",
       "      <td>418.0</td>\n",
       "      <td>435.0</td>\n",
       "      <td>30540.0</td>\n",
       "      <td>59806.0</td>\n",
       "      <td>58.260309</td>\n",
       "      <td>52.677764</td>\n",
       "      <td>14527086.0</td>\n",
       "      <td>16967</td>\n",
       "      <td>74.0</td>\n",
       "      <td>...</td>\n",
       "      <td>777.0</td>\n",
       "      <td>5650910.0</td>\n",
       "      <td>1394.6</td>\n",
       "      <td>5.844828</td>\n",
       "      <td>7.086207</td>\n",
       "      <td>0.0</td>\n",
       "      <td>0.510651</td>\n",
       "      <td>0.96092</td>\n",
       "      <td>320.24772</td>\n",
       "      <td>5.298086e+07</td>\n",
       "    </tr>\n",
       "    <tr>\n",
       "      <th>463</th>\n",
       "      <td>HOU-CRP</td>\n",
       "      <td>418.0</td>\n",
       "      <td>435.0</td>\n",
       "      <td>30170.0</td>\n",
       "      <td>59806.0</td>\n",
       "      <td>58.260309</td>\n",
       "      <td>52.677764</td>\n",
       "      <td>14527086.0</td>\n",
       "      <td>16967</td>\n",
       "      <td>74.0</td>\n",
       "      <td>...</td>\n",
       "      <td>1394.6</td>\n",
       "      <td>333764.0</td>\n",
       "      <td>777.0</td>\n",
       "      <td>12.732759</td>\n",
       "      <td>11.612069</td>\n",
       "      <td>0.0</td>\n",
       "      <td>0.504464</td>\n",
       "      <td>0.96092</td>\n",
       "      <td>320.24772</td>\n",
       "      <td>5.298086e+07</td>\n",
       "    </tr>\n",
       "  </tbody>\n",
       "</table>\n",
       "<p>2 rows × 36 columns</p>\n",
       "</div>"
      ],
      "text/plain": [
       "    citypair  sum_departures_performed  sum_departures_scheduled  passengers  \\\n",
       "249  CRP-HOU                     418.0                     435.0     30540.0   \n",
       "463  HOU-CRP                     418.0                     435.0     30170.0   \n",
       "\n",
       "       seats  avg_fuel_price  avg_stock_price  total_operating_expense  \\\n",
       "249  59806.0       58.260309        52.677764               14527086.0   \n",
       "463  59806.0       58.260309        52.677764               14527086.0   \n",
       "\n",
       "     revenue  Aircraft_Unit_Cost ($ millions USD)  ...  origin_density  \\\n",
       "249    16967                                 74.0  ...           777.0   \n",
       "463    16967                                 74.0  ...          1394.6   \n",
       "\n",
       "     dest_population  dest_density  DEP_DELAY_NEW ARR_DELAY_NEW CANCELLED  \\\n",
       "249        5650910.0        1394.6       5.844828      7.086207       0.0   \n",
       "463         333764.0         777.0      12.732759     11.612069       0.0   \n",
       "\n",
       "    Utilization  Regularity        ASM          RASM  \n",
       "249    0.510651     0.96092  320.24772  5.298086e+07  \n",
       "463    0.504464     0.96092  320.24772  5.298086e+07  \n",
       "\n",
       "[2 rows x 36 columns]"
      ]
     },
     "metadata": {},
     "output_type": "display_data"
    },
    {
     "data": {
      "text/html": [
       "<div>\n",
       "<style scoped>\n",
       "    .dataframe tbody tr th:only-of-type {\n",
       "        vertical-align: middle;\n",
       "    }\n",
       "\n",
       "    .dataframe tbody tr th {\n",
       "        vertical-align: top;\n",
       "    }\n",
       "\n",
       "    .dataframe thead th {\n",
       "        text-align: right;\n",
       "    }\n",
       "</style>\n",
       "<table border=\"1\" class=\"dataframe\">\n",
       "  <thead>\n",
       "    <tr style=\"text-align: right;\">\n",
       "      <th></th>\n",
       "      <th>citypair</th>\n",
       "      <th>sum_departures_performed</th>\n",
       "      <th>sum_departures_scheduled</th>\n",
       "      <th>passengers</th>\n",
       "      <th>seats</th>\n",
       "      <th>avg_fuel_price</th>\n",
       "      <th>avg_stock_price</th>\n",
       "      <th>total_operating_expense</th>\n",
       "      <th>revenue</th>\n",
       "      <th>Aircraft_Unit_Cost ($ millions USD)</th>\n",
       "      <th>...</th>\n",
       "      <th>origin_density</th>\n",
       "      <th>dest_population</th>\n",
       "      <th>dest_density</th>\n",
       "      <th>DEP_DELAY_NEW</th>\n",
       "      <th>ARR_DELAY_NEW</th>\n",
       "      <th>CANCELLED</th>\n",
       "      <th>Utilization</th>\n",
       "      <th>Regularity</th>\n",
       "      <th>ASM</th>\n",
       "      <th>RASM</th>\n",
       "    </tr>\n",
       "  </thead>\n",
       "  <tbody>\n",
       "    <tr>\n",
       "      <th>47</th>\n",
       "      <td>ATL-RIC</td>\n",
       "      <td>310.0</td>\n",
       "      <td>315.0</td>\n",
       "      <td>32691.0</td>\n",
       "      <td>44330.0</td>\n",
       "      <td>57.427544</td>\n",
       "      <td>52.842995</td>\n",
       "      <td>9585665.0</td>\n",
       "      <td>11058</td>\n",
       "      <td>74.0</td>\n",
       "      <td>...</td>\n",
       "      <td>1419.9</td>\n",
       "      <td>1008069.0</td>\n",
       "      <td>1477.0</td>\n",
       "      <td>10.943005</td>\n",
       "      <td>10.227979</td>\n",
       "      <td>0.007712</td>\n",
       "      <td>0.737446</td>\n",
       "      <td>0.984127</td>\n",
       "      <td>92.189936</td>\n",
       "      <td>1.199480e+08</td>\n",
       "    </tr>\n",
       "    <tr>\n",
       "      <th>996</th>\n",
       "      <td>RIC-ATL</td>\n",
       "      <td>308.0</td>\n",
       "      <td>315.0</td>\n",
       "      <td>31788.0</td>\n",
       "      <td>44044.0</td>\n",
       "      <td>57.427544</td>\n",
       "      <td>52.842995</td>\n",
       "      <td>9585665.0</td>\n",
       "      <td>11058</td>\n",
       "      <td>74.0</td>\n",
       "      <td>...</td>\n",
       "      <td>1477.0</td>\n",
       "      <td>5046555.0</td>\n",
       "      <td>1419.9</td>\n",
       "      <td>6.626943</td>\n",
       "      <td>6.821244</td>\n",
       "      <td>0.005155</td>\n",
       "      <td>0.721733</td>\n",
       "      <td>0.977778</td>\n",
       "      <td>91.595162</td>\n",
       "      <td>1.207269e+08</td>\n",
       "    </tr>\n",
       "  </tbody>\n",
       "</table>\n",
       "<p>2 rows × 36 columns</p>\n",
       "</div>"
      ],
      "text/plain": [
       "    citypair  sum_departures_performed  sum_departures_scheduled  passengers  \\\n",
       "47   ATL-RIC                     310.0                     315.0     32691.0   \n",
       "996  RIC-ATL                     308.0                     315.0     31788.0   \n",
       "\n",
       "       seats  avg_fuel_price  avg_stock_price  total_operating_expense  \\\n",
       "47   44330.0       57.427544        52.842995                9585665.0   \n",
       "996  44044.0       57.427544        52.842995                9585665.0   \n",
       "\n",
       "     revenue  Aircraft_Unit_Cost ($ millions USD)  ...  origin_density  \\\n",
       "47     11058                                 74.0  ...          1419.9   \n",
       "996    11058                                 74.0  ...          1477.0   \n",
       "\n",
       "     dest_population  dest_density  DEP_DELAY_NEW ARR_DELAY_NEW CANCELLED  \\\n",
       "47         1008069.0        1477.0      10.943005     10.227979  0.007712   \n",
       "996        5046555.0        1419.9       6.626943      6.821244  0.005155   \n",
       "\n",
       "    Utilization  Regularity        ASM          RASM  \n",
       "47     0.737446    0.984127  92.189936  1.199480e+08  \n",
       "996    0.721733    0.977778  91.595162  1.207269e+08  \n",
       "\n",
       "[2 rows x 36 columns]"
      ]
     },
     "metadata": {},
     "output_type": "display_data"
    }
   ],
   "source": [
    "for node in uncertain_nodes:\n",
    "    display(data[data['citypair'].str.contains(node)])"
   ]
  },
  {
   "cell_type": "markdown",
   "id": "6982a154-7bfc-46fb-924c-1db359c297c8",
   "metadata": {},
   "source": [
    "### Link Prediction based on edge embeddings which are Hadamard product of node embeddings"
   ]
  },
  {
   "cell_type": "code",
   "execution_count": 25,
   "id": "8c575f0d-cae8-4ba3-856a-f50744ec01ae",
   "metadata": {},
   "outputs": [],
   "source": [
    "adj_matrix = np.array(nx.to_numpy_matrix(G))\n",
    "edge_embeddings_pos = []\n",
    "edge_embeddings_neg = []\n",
    "for node1_idx in range(adj_matrix.shape[0]):\n",
    "    for node2_idx in range(adj_matrix.shape[1]):\n",
    "        edge_embedding = np.multiply(node_embeddings[node1_idx], node_embeddings[node2_idx])\n",
    "        if adj_matrix[node1_idx, node2_idx] == 0:\n",
    "            edge_embeddings_neg.append(edge_embedding)\n",
    "        else:\n",
    "            edge_embeddings_pos.append(edge_embedding)\n",
    "edge_embeddings_pos = np.array(edge_embeddings_pos)\n",
    "edge_embeddings_neg = np.array(edge_embeddings_neg)"
   ]
  },
  {
   "cell_type": "code",
   "execution_count": 26,
   "id": "25fa7212-42f3-4331-ad69-29789ea1ac31",
   "metadata": {},
   "outputs": [],
   "source": [
    "X = np.concatenate([edge_embeddings_pos, edge_embeddings_neg], axis=0)\n",
    "y = np.concatenate([np.ones(len(edge_embeddings_pos)), np.zeros(len(edge_embeddings_neg))])"
   ]
  },
  {
   "cell_type": "code",
   "execution_count": 27,
   "id": "caaecab9-05a5-41b8-8c84-0d54ff607b12",
   "metadata": {},
   "outputs": [],
   "source": [
    "from sklearn.linear_model import LogisticRegression\n",
    "# Train a logistic regression model on the edge embeddings\n",
    "lr_model = LogisticRegression()\n",
    "lr_model.fit(X, y)\n",
    "# Evaluate the model\n",
    "removed_edge_prob = lr_model.predict_proba(X)[:,1]"
   ]
  },
  {
   "cell_type": "code",
   "execution_count": 28,
   "id": "df589640-4889-4661-96d2-c3a79141c96c",
   "metadata": {},
   "outputs": [
    {
     "data": {
      "image/png": "[encoded data removed]",
      "text/plain": [
       "<Figure size 640x480 with 1 Axes>"
      ]
     },
     "metadata": {},
     "output_type": "display_data"
    }
   ],
   "source": [
    "plt.hist(removed_edge_prob, bins = 50)\n",
    "plt.xlabel(\"Probability of Edges being Removed\")\n",
    "plt.ylabel(\"Frequency\")\n",
    "plt.title(\"Link Prediction\");"
   ]
  },
  {
   "cell_type": "code",
   "execution_count": 29,
   "id": "185d1bf9-21a3-45fe-8051-9eac2ea680ab",
   "metadata": {},
   "outputs": [],
   "source": [
    "removed_edges_idx = []\n",
    "num_nodes = len(G.nodes())\n",
    "for i in np.where(removed_edge_prob > 0.5)[0]:\n",
    "    if adj_matrix[i//num_nodes][i%num_nodes] == 1:\n",
    "        removed_edges_idx.append((i//num_nodes, i%num_nodes))"
   ]
  },
  {
   "cell_type": "code",
   "execution_count": 30,
   "id": "6a063144-491f-4d8c-9d32-3bf3512b27cf",
   "metadata": {},
   "outputs": [
    {
     "data": {
      "text/plain": [
       "[('BWI', 'MCI'),\n",
       " ('BWI', 'MSP'),\n",
       " ('BWI', 'PIT'),\n",
       " ('DAL', 'DEN'),\n",
       " ('DAL', 'BHM'),\n",
       " ('DAL', 'MAF'),\n",
       " ('DAL', 'SEA'),\n",
       " ('DEN', 'HOU'),\n",
       " ('DEN', 'LAS'),\n",
       " ('DEN', 'OAK'),\n",
       " ('DEN', 'ALB'),\n",
       " ('DEN', 'FLL'),\n",
       " ('DEN', 'MCO'),\n",
       " ('HOU', 'SMF'),\n",
       " ('HOU', 'PNS'),\n",
       " ('LAS', 'ABQ'),\n",
       " ('LAS', 'BWI'),\n",
       " ('LAS', 'OAK'),\n",
       " ('LAS', 'ATL'),\n",
       " ('LAS', 'PIT'),\n",
       " ('LAS', 'SMF'),\n",
       " ('LAX', 'MSY'),\n",
       " ('MCO', 'MSP'),\n",
       " ('AUS', 'BWI'),\n",
       " ('BNA', 'LAS'),\n",
       " ('BNA', 'MDW'),\n",
       " ('BNA', 'DTW'),\n",
       " ('CLE', 'PHX'),\n",
       " ('DCA', 'ATL'),\n",
       " ('DCA', 'AUS')]"
      ]
     },
     "execution_count": 30,
     "metadata": {},
     "output_type": "execute_result"
    }
   ],
   "source": [
    "removed_edges = []\n",
    "node_idx_pair = {idx: node for idx, node in enumerate(G.nodes())}\n",
    "[(node_idx_pair[node1_idx], node_idx_pair[node2_idx])for node1_idx, node2_idx in removed_edges_idx]"
   ]
  }
 ],
 "metadata": {
  "kernelspec": {
   "display_name": "Python 3 (ipykernel)",
   "language": "python",
   "name": "python3"
  },
  "language_info": {
   "codemirror_mode": {
    "name": "ipython",
    "version": 3
   },
   "file_extension": ".py",
   "mimetype": "text/x-python",
   "name": "python",
   "nbconvert_exporter": "python",
   "pygments_lexer": "ipython3",
   "version": "3.9.13"
  }
 },
 "nbformat": 4,
 "nbformat_minor": 5
}
