{
 "cells": [
  {
   "attachments": {},
   "cell_type": "markdown",
   "metadata": {},
   "source": [
    "## Network Simulation and Modeling\n",
    "\n",
    "Goal: Given the two airline network models, we wish to simulate network traversals of each airline network:\n",
    " \n",
    "--> A hub and spoke based system\n",
    "\n",
    "--> A point-to-point based system\n",
    "\n"
   ]
  },
  {
   "cell_type": "code",
   "execution_count": 23,
   "metadata": {},
   "outputs": [],
   "source": [
    "import networkx as nx\n",
    "import pandas as pd\n",
    "import numpy as np\n",
    "import matplotlib.pyplot as plt\n",
    "import seaborn as sns\n",
    "import random\n",
    "from scipy.stats import gaussian_kde\n",
    "from scipy.integrate import trapz\n",
    "from scipy.stats import bernoulli\n"
   ]
  },
  {
   "cell_type": "code",
   "execution_count": 24,
   "metadata": {},
   "outputs": [],
   "source": [
    "# extract the edge table \n",
    "edge_dataset = pd.read_csv(\"Database\\FINAL_EDGE_TABLE.csv\")\n",
    "on_time_data = pd.read_csv('Database\\FINAL_ON_TIME_DATA.csv')\n",
    "\n",
    "def preprocess_data(df):\n",
    "    '''\n",
    "    Goal: Extract new edge attributes and reduce edge data table\n",
    "    Parameters:\n",
    "        df (pandas dataframe) input hub-spoke or point to point edge data\n",
    "    Return:\n",
    "        edge (pandas dataframe) cleaned output network edge data\n",
    "    '''\n",
    "    # create another column to preprocess the data and create new data table attributes\n",
    "    df['net_profit'] = ( df['revenue'] * 1000 - df['total_operating_expense'] ) * df['Proportion of Seats filled']\n",
    "    # extract route demand metric\n",
    "    df['Demand_prop'] = df['passengers'] / df['seats']\n",
    "\n",
    "\n",
    "    # drop additional columns that we wont need for simulation\n",
    "    edge = df.filter(['Demand_prop', 'net_profit','Origin_Airport_Code','Destination_Airport_Code','Proportion of Seats filled','CANCELLED','citypair'],axis=1)\n",
    "    # create a networkx graph from this edge dataset\n",
    "    G = nx.from_pandas_edgelist(df = edge, source = 'Origin_Airport_Code', target = 'Destination_Airport_Code', \n",
    "                               edge_attr = ['CANCELLED', 'net_profit','Proportion of Seats filled','citypair','Demand_prop'])\n",
    "    # convert graph to a directed graph\n",
    "    G = G.to_directed()\n",
    "    return G\n",
    "\n",
    "p_2_p_Graph = preprocess_data(edge_dataset) "
   ]
  },
  {
   "cell_type": "code",
   "execution_count": 25,
   "metadata": {},
   "outputs": [
    {
     "name": "stdout",
     "output_type": "stream",
     "text": [
      "[]\n",
      "[]\n"
     ]
    }
   ],
   "source": [
    "# Let's check if there are any leafs in the Graph --> this will affect our simulation so we must \n",
    "# i.e. there exists many cycles in the graph\n",
    "print([x for x in p_2_p_Graph.nodes() if p_2_p_Graph.in_degree(x)==0])\n",
    "\n",
    "print([x for x in p_2_p_Graph.nodes() if p_2_p_Graph.out_degree(x)==0])\n",
    "\n",
    "color=nx.get_edge_attributes(p_2_p_Graph,'net_profit')\n",
    "color[('EWR','PHX')]\n",
    "\n",
    "adj_nodes = list(p_2_p_Graph.neighbors('EWR'))\n",
    "demand=nx.get_edge_attributes(p_2_p_Graph,'Demand_prop')\n",
    "node_demand_probs = [demand[i] for i in list(p_2_p_Graph.edges('EWR'))] \n",
    "node_demand_probs = node_demand_probs / np.sum(node_demand_probs)\n",
    "next_ind = np.random.choice(np.arange(len(node_demand_probs)),size=1, p=node_demand_probs.astype(float))\n",
    "next_node = adj_nodes[next_ind[0]]\n"
   ]
  },
  {
   "cell_type": "code",
   "execution_count": 26,
   "metadata": {},
   "outputs": [
    {
     "data": {
      "text/plain": [
       "0"
      ]
     },
     "execution_count": 26,
     "metadata": {},
     "output_type": "execute_result"
    }
   ],
   "source": [
    "cancel_prob=nx.get_edge_attributes(p_2_p_Graph,'CANCELLED')\n",
    "code = cancel_prob[('PHX','EWR')]\n",
    "r = bernoulli.rvs(p=code, size=1)[0]\n",
    "r"
   ]
  },
  {
   "attachments": {},
   "cell_type": "markdown",
   "metadata": {},
   "source": [
    "$Pnet_{adjusted} = (Revenue - Operating Expense) * Proportion of Seats Filled $"
   ]
  },
  {
   "cell_type": "code",
   "execution_count": 27,
   "metadata": {},
   "outputs": [],
   "source": [
    "# random sampling from KDE distributions\n",
    "def random_samples(citypair,metric):\n",
    "    # Generate some example data\n",
    "    # x ~ vector of data based on the following\n",
    "    # filter data given citypair key and metric argument \n",
    "    fltrd = on_time_data.loc[on_time_data['citypair'] == citypair]\n",
    "    x = (fltrd[metric].to_list())\n",
    "    # Compute the KDE\n",
    "    kde = gaussian_kde(x, bw_method='silverman')\n",
    "    # Truncate the KDE to have support only over x > 0\n",
    "    pdf_trunc = lambda x: kde(x) * (x >= 0)\n",
    "    # Normalize the truncated PDF\n",
    "    norm = trapz(pdf_trunc(np.linspace(0, np.max(x), 1000)), dx=np.max(x)/999)\n",
    "    pdf_norm = lambda x: pdf_trunc(x) / norm\n",
    "    # Define the inverse CDF\n",
    "    x_vals = np.linspace(0, np.max(x), 1000)\n",
    "    cdf_vals = np.cumsum(pdf_norm(x_vals)) * np.max(x) / 999\n",
    "    inv_cdf = lambda y: np.interp(y, cdf_vals, x_vals)\n",
    "    # Generate random samples using inverse transform sampling\n",
    "    u = np.random.uniform(size=1)\n",
    "    sample = inv_cdf(u)\n",
    "    return sample\n",
    "\n",
    "\n",
    "# define a function to simulate a flight traversal for a sinl\n",
    "def simulate_flight_traversal(G, start_node, N):\n",
    "    '''\n",
    "    Goal: simulate the flight traversal for a single aircraft starting at a given start airport\n",
    "    Parameters:\n",
    "        G: The airline network graph (networkx graph object)\n",
    "        start_node: (string) the starting airport code\n",
    "        N: number of traversals (edges) to make in the network\n",
    "        start_node: the selected starting node for \n",
    "    Return:\n",
    "        total_delay_time_accumlated\n",
    "        total_cancellations\n",
    "        total_profit generated by this aircraft  \n",
    "    '''\n",
    "    current_node = start_node\n",
    "\n",
    "    # extract each attribute of the graph as a dict\n",
    "    profits=nx.get_edge_attributes(G,'net_profit')\n",
    "    cancel_prob=nx.get_edge_attributes(G,'CANCELLED')\n",
    "    citypair=nx.get_edge_attributes(G,'citypair')\n",
    "\n",
    "    total_profits = []\n",
    "    total_dept_delays = []\n",
    "    total_arrival_delays = []\n",
    "    number_of_cancel = 0\n",
    "\n",
    "    number_of_legs = []\n",
    "\n",
    "    for i in range(N):\n",
    "        # get all adjacent nodes of the current node\n",
    "        adj_nodes = list(G.neighbors(current_node))\n",
    "        # randomly select a flight route given the transition probability \n",
    "        demand=nx.get_edge_attributes(p_2_p_Graph,'Demand_prop')\n",
    "        node_demand_probs = [demand[i] for i in list(p_2_p_Graph.edges(current_node))] \n",
    "        node_demand_probs = node_demand_probs / np.sum(node_demand_probs)\n",
    "        next_ind = np.random.choice(np.arange(len(node_demand_probs)),size=1, p=node_demand_probs.astype(float))\n",
    "        next_node = adj_nodes[next_ind[0]]\n",
    "\n",
    "        # calculate the profit of the flight route\n",
    "        profit = profits[(current_node,next_node)]\n",
    "        total_profits.append(profit)\n",
    "        # extract \n",
    "        # randomly simulate a delay time from the distribution\n",
    "        code = citypair[(current_node,next_node)]\n",
    "        try:\n",
    "            dept_delay_time = random_samples(code, 'DEP_DELAY_NEW')[0]\n",
    "            arr_delay_time = random_samples(code, 'ARR_DELAY_NEW')[0]\n",
    "        except:\n",
    "            dept_delay_time = 0\n",
    "            arr_delay_time = 0\n",
    "\n",
    "        total_dept_delays.append(dept_delay_time)\n",
    "        total_arrival_delays.append(arr_delay_time)\n",
    "\n",
    "        cancel_p = cancel_prob[(current_node,next_node)]\n",
    "        # returns a bernoulli 0 or 1 value\n",
    "        r = bernoulli.rvs(p=cancel_p, size=1)[0]\n",
    "        number_of_cancel += r\n",
    "        # move to the next node\n",
    "        current_node = next_node\n",
    "        number_of_legs.append(i+1)\n",
    "        # return the profit generated by the flight traversal\n",
    "    return np.sum(total_profits), np.sum(total_dept_delays), np.sum(total_arrival_delays), number_of_cancel, number_of_legs"
   ]
  },
  {
   "attachments": {},
   "cell_type": "markdown",
   "metadata": {},
   "source": [
    "## Next step\n",
    "We repeat the simulate_flight_traversal for each airport as a starting node and compile all sampled attributes for comparison"
   ]
  },
  {
   "cell_type": "code",
   "execution_count": 8,
   "metadata": {},
   "outputs": [],
   "source": [
    "profits,dept_delays,arrival_delays,cancellations,legs = simulate_flight_traversal(G=p_2_p_Graph, start_node='EWR', N=50)"
   ]
  },
  {
   "cell_type": "code",
   "execution_count": 28,
   "metadata": {},
   "outputs": [],
   "source": [
    "def get_airports(edge_df):\n",
    "    routes = edge_dataset['citypair'].to_list()\n",
    "    routes = [i.split('-') for i in routes]\n",
    "    airports = set([j for i in routes for j in i])\n",
    "    return airports\n",
    "\n",
    "p_2_p_airports = get_airports(edge_dataset)"
   ]
  },
  {
   "attachments": {},
   "cell_type": "markdown",
   "metadata": {},
   "source": [
    "##### We wish to now simulate the running totals for which we fix N and increment through all airports as the starting node"
   ]
  },
  {
   "cell_type": "code",
   "execution_count": 29,
   "metadata": {},
   "outputs": [
    {
     "data": {
      "text/plain": [
       "Index(['Unnamed: 0.1', 'Unnamed: 0', 'citypair', 'sum_departures_performed',\n",
       "       'sum_departures_scheduled', 'passengers', 'seats', 'avg_fuel_price',\n",
       "       'avg_stock_price', 'total_operating_expense', 'revenue',\n",
       "       'Aircraft_Unit_Cost ($ millions USD)',\n",
       "       'Aircraft_Inverse_Age 1/age (1/yrs)', 'Number_of_Cancellations',\n",
       "       'Proportion of Seats filled', 'Aircraft Age (yrs)',\n",
       "       'Origin_Airport_Code', 'Destination_Airport_Code',\n",
       "       'origin_airport_type', 'origin_lat', 'origin_long', 'origin_city',\n",
       "       'dest_airport_type', 'dest_lat', 'dest_long', 'dest_city',\n",
       "       'origin_population', 'origin_density', 'dest_population',\n",
       "       'dest_density', 'DEP_DELAY_NEW', 'ARR_DELAY_NEW', 'CANCELLED',\n",
       "       'net_profit', 'Demand_prop'],\n",
       "      dtype='object')"
      ]
     },
     "execution_count": 29,
     "metadata": {},
     "output_type": "execute_result"
    }
   ],
   "source": [
    "edge_dataset.columns"
   ]
  },
  {
   "cell_type": "code",
   "execution_count": 49,
   "metadata": {},
   "outputs": [
    {
     "name": "stderr",
     "output_type": "stream",
     "text": [
      "100%|██████████| 85/85 [16:40<00:00, 11.77s/it]\n"
     ]
    }
   ],
   "source": [
    "from tqdm import tqdm\n",
    "# store each of the attributes into a data vector indexed along the airports list\n",
    "profits_vec = []\n",
    "dept_delay_vec = []\n",
    "arr_delay_vec = []\n",
    "cancellations_vec = []\n",
    "p_2_p_airports = [i for i in p_2_p_airports]\n",
    "for loc in tqdm(p_2_p_airports):\n",
    "    a,b,c,d,e = simulate_flight_traversal(G=p_2_p_Graph, start_node=loc,N=100)\n",
    "    profits_vec.append(a)\n",
    "    dept_delay_vec.append(b)\n",
    "    arr_delay_vec.append(c)\n",
    "    cancellations_vec.append(d)"
   ]
  },
  {
   "attachments": {},
   "cell_type": "markdown",
   "metadata": {},
   "source": [
    "### Visualizations and Results"
   ]
  },
  {
   "cell_type": "code",
   "execution_count": 55,
   "metadata": {},
   "outputs": [
    {
     "data": {
      "image/png": "[encoded data removed]",
      "text/plain": [
       "<Figure size 1728x504 with 1 Axes>"
      ]
     },
     "metadata": {},
     "output_type": "display_data"
    }
   ],
   "source": [
    "# plot which starting airport produces the highest overall profit in the long run \n",
    "fig_1 = plt.figure(figsize = (24,7), facecolor='w',edgecolor='k')\n",
    "\n",
    "plt.bar(p_2_p_airports, profits_vec)\n",
    "plt.xticks(rotation=90)\n",
    "plt.show()"
   ]
  },
  {
   "cell_type": "code",
   "execution_count": 57,
   "metadata": {},
   "outputs": [
    {
     "data": {
      "image/png": "[encoded data removed]",
      "text/plain": [
       "<Figure size 1728x504 with 1 Axes>"
      ]
     },
     "metadata": {},
     "output_type": "display_data"
    }
   ],
   "source": [
    "# plot which starting airport produces the highest overall profit in the long run \n",
    "fig_1 = plt.figure(figsize = (24,7), facecolor='w',edgecolor='k')\n",
    "\n",
    "plt.bar(p_2_p_airports, dept_delay_vec)\n",
    "plt.xticks(rotation=90)\n",
    "plt.show()"
   ]
  },
  {
   "cell_type": "code",
   "execution_count": 58,
   "metadata": {},
   "outputs": [
    {
     "data": {
      "image/png": "[encoded data removed]",
      "text/plain": [
       "<Figure size 1728x504 with 1 Axes>"
      ]
     },
     "metadata": {},
     "output_type": "display_data"
    }
   ],
   "source": [
    "# plot which starting airport produces the highest overall profit in the long run \n",
    "fig_1 = plt.figure(figsize = (24,7), facecolor='w',edgecolor='k')\n",
    "\n",
    "plt.bar(p_2_p_airports, cancellations_vec)\n",
    "plt.xticks(rotation=90)\n",
    "plt.show()"
   ]
  },
  {
   "attachments": {},
   "cell_type": "markdown",
   "metadata": {},
   "source": [
    "### Generate Path Visualizations"
   ]
  },
  {
   "cell_type": "code",
   "execution_count": 31,
   "metadata": {},
   "outputs": [
    {
     "name": "stdout",
     "output_type": "stream",
     "text": [
      "{'icao': 'KJFK', 'iata': 'JFK', 'name': 'John F Kennedy International Airport', 'city': 'New York', 'subd': 'New York', 'country': 'US', 'elevation': 13.0, 'lat': 40.6399277777778, 'lon': -73.7786925, 'tz': 'America/New_York', 'lid': 'JFK'}\n"
     ]
    }
   ],
   "source": [
    "# import airports data code log\n",
    "import airportsdata\n",
    "airports = airportsdata.load('IATA')  # key is the IATA location code\n",
    "print(airports['JFK'])"
   ]
  },
  {
   "cell_type": "code",
   "execution_count": 38,
   "metadata": {},
   "outputs": [
    {
     "data": {
      "text/html": [
       "<div style=\"width:100%;\"><div style=\"position:relative;width:100%;height:0;padding-bottom:60%;\"><span style=\"color:#565656\">Make this Notebook Trusted to load map: File -> Trust Notebook</span><iframe srcdoc=\"&lt;!DOCTYPE html&gt;\n",
       "&lt;html&gt;\n",
       "&lt;head&gt;\n",
       "    \n",
       "    &lt;meta http-equiv=&quot;content-type&quot; content=&quot;text/html; charset=UTF-8&quot; /&gt;\n",
       "    \n",
       "        &lt;script&gt;\n",
       "            L_NO_TOUCH = false;\n",
       "            L_DISABLE_3D = false;\n",
       "        &lt;/script&gt;\n",
       "    \n",
       "    &lt;style&gt;html, body {width: 100%;height: 100%;margin: 0;padding: 0;}&lt;/style&gt;\n",
       "    &lt;style&gt;#map {position:absolute;top:0;bottom:0;right:0;left:0;}&lt;/style&gt;\n",
       "    &lt;script src=&quot;https://cdn.jsdelivr.net/npm/leaflet@1.9.3/dist/leaflet.js&quot;&gt;&lt;/script&gt;\n",
       "    &lt;script src=&quot;https://code.jquery.com/jquery-1.12.4.min.js&quot;&gt;&lt;/script&gt;\n",
       "    &lt;script src=&quot;https://cdn.jsdelivr.net/npm/bootstrap@5.2.2/dist/js/bootstrap.bundle.min.js&quot;&gt;&lt;/script&gt;\n",
       "    &lt;script src=&quot;https://cdnjs.cloudflare.com/ajax/libs/Leaflet.awesome-markers/2.0.2/leaflet.awesome-markers.js&quot;&gt;&lt;/script&gt;\n",
       "    &lt;link rel=&quot;stylesheet&quot; href=&quot;https://cdn.jsdelivr.net/npm/leaflet@1.9.3/dist/leaflet.css&quot;/&gt;\n",
       "    &lt;link rel=&quot;stylesheet&quot; href=&quot;https://cdn.jsdelivr.net/npm/bootstrap@5.2.2/dist/css/bootstrap.min.css&quot;/&gt;\n",
       "    &lt;link rel=&quot;stylesheet&quot; href=&quot;https://netdna.bootstrapcdn.com/bootstrap/3.0.0/css/bootstrap.min.css&quot;/&gt;\n",
       "    &lt;link rel=&quot;stylesheet&quot; href=&quot;https://cdn.jsdelivr.net/npm/@fortawesome/fontawesome-free@6.2.0/css/all.min.css&quot;/&gt;\n",
       "    &lt;link rel=&quot;stylesheet&quot; href=&quot;https://cdnjs.cloudflare.com/ajax/libs/Leaflet.awesome-markers/2.0.2/leaflet.awesome-markers.css&quot;/&gt;\n",
       "    &lt;link rel=&quot;stylesheet&quot; href=&quot;https://cdn.jsdelivr.net/gh/python-visualization/folium/folium/templates/leaflet.awesome.rotate.min.css&quot;/&gt;\n",
       "    \n",
       "            &lt;meta name=&quot;viewport&quot; content=&quot;width=device-width,\n",
       "                initial-scale=1.0, maximum-scale=1.0, user-scalable=no&quot; /&gt;\n",
       "            &lt;style&gt;\n",
       "                #map_e29d49b807dab40e656704a184738d5d {\n",
       "                    position: relative;\n",
       "                    width: 700.0px;\n",
       "                    height: 400.0px;\n",
       "                    left: 0.0%;\n",
       "                    top: 0.0%;\n",
       "                }\n",
       "                .leaflet-container { font-size: 1rem; }\n",
       "            &lt;/style&gt;\n",
       "        \n",
       "&lt;/head&gt;\n",
       "&lt;body&gt;\n",
       "    \n",
       "    \n",
       "            &lt;div class=&quot;folium-map&quot; id=&quot;map_e29d49b807dab40e656704a184738d5d&quot; &gt;&lt;/div&gt;\n",
       "        \n",
       "&lt;/body&gt;\n",
       "&lt;script&gt;\n",
       "    \n",
       "    \n",
       "            var map_e29d49b807dab40e656704a184738d5d = L.map(\n",
       "                &quot;map_e29d49b807dab40e656704a184738d5d&quot;,\n",
       "                {\n",
       "                    center: [40.6924798333333, -74.1686867777778],\n",
       "                    crs: L.CRS.EPSG3857,\n",
       "                    zoom: 3,\n",
       "                    zoomControl: true,\n",
       "                    preferCanvas: false,\n",
       "                }\n",
       "            );\n",
       "\n",
       "            \n",
       "\n",
       "        \n",
       "    \n",
       "            var tile_layer_bf2000b34bbe1037cc6bd713e257c0a4 = L.tileLayer(\n",
       "                &quot;https://{s}.tile.openstreetmap.org/{z}/{x}/{y}.png&quot;,\n",
       "                {&quot;attribution&quot;: &quot;Data by \\u0026copy; \\u003ca target=\\&quot;_blank\\&quot; href=\\&quot;http://openstreetmap.org\\&quot;\\u003eOpenStreetMap\\u003c/a\\u003e, under \\u003ca target=\\&quot;_blank\\&quot; href=\\&quot;http://www.openstreetmap.org/copyright\\&quot;\\u003eODbL\\u003c/a\\u003e.&quot;, &quot;detectRetina&quot;: false, &quot;maxNativeZoom&quot;: 18, &quot;maxZoom&quot;: 18, &quot;minZoom&quot;: 0, &quot;noWrap&quot;: false, &quot;opacity&quot;: 1, &quot;subdomains&quot;: &quot;abc&quot;, &quot;tms&quot;: false}\n",
       "            ).addTo(map_e29d49b807dab40e656704a184738d5d);\n",
       "        \n",
       "    \n",
       "            var marker_53f667e21cba0af0e88963646f199da2 = L.marker(\n",
       "                [40.6924798333333, -74.1686867777778],\n",
       "                {}\n",
       "            ).addTo(map_e29d49b807dab40e656704a184738d5d);\n",
       "        \n",
       "    \n",
       "        var popup_ec3e43768e5e5d488e29371e7fd65910 = L.popup({&quot;maxWidth&quot;: &quot;100%&quot;});\n",
       "\n",
       "        \n",
       "            \n",
       "                var html_a116f6ca340e9aaabf21fd26e410b8cc = $(`&lt;div id=&quot;html_a116f6ca340e9aaabf21fd26e410b8cc&quot; style=&quot;width: 100.0%; height: 100.0%;&quot;&gt;EWR&lt;/div&gt;`)[0];\n",
       "                popup_ec3e43768e5e5d488e29371e7fd65910.setContent(html_a116f6ca340e9aaabf21fd26e410b8cc);\n",
       "            \n",
       "        \n",
       "\n",
       "        marker_53f667e21cba0af0e88963646f199da2.bindPopup(popup_ec3e43768e5e5d488e29371e7fd65910)\n",
       "        ;\n",
       "\n",
       "        \n",
       "    \n",
       "    \n",
       "            var marker_dd86f657d211f26f4a856ca2f9d174eb = L.marker(\n",
       "                [41.7859722222222, -87.7524166666667],\n",
       "                {}\n",
       "            ).addTo(map_e29d49b807dab40e656704a184738d5d);\n",
       "        \n",
       "    \n",
       "        var popup_da45a4e58c76917ed4437c01df46ceed = L.popup({&quot;maxWidth&quot;: &quot;100%&quot;});\n",
       "\n",
       "        \n",
       "            \n",
       "                var html_9797b842d6224b30d479c227818246e7 = $(`&lt;div id=&quot;html_9797b842d6224b30d479c227818246e7&quot; style=&quot;width: 100.0%; height: 100.0%;&quot;&gt;MDW&lt;/div&gt;`)[0];\n",
       "                popup_da45a4e58c76917ed4437c01df46ceed.setContent(html_9797b842d6224b30d479c227818246e7);\n",
       "            \n",
       "        \n",
       "\n",
       "        marker_dd86f657d211f26f4a856ca2f9d174eb.bindPopup(popup_da45a4e58c76917ed4437c01df46ceed)\n",
       "        ;\n",
       "\n",
       "        \n",
       "    \n",
       "    \n",
       "            var marker_2a3e76e7d9ff5e2f87ae5529a0b2f6ff = L.marker(\n",
       "                [33.4342777777778, -112.011583333333],\n",
       "                {}\n",
       "            ).addTo(map_e29d49b807dab40e656704a184738d5d);\n",
       "        \n",
       "    \n",
       "        var popup_ab988f98ab819dc41b019e2b599133a0 = L.popup({&quot;maxWidth&quot;: &quot;100%&quot;});\n",
       "\n",
       "        \n",
       "            \n",
       "                var html_443e64a965d55cef285ce2b7a4b767ba = $(`&lt;div id=&quot;html_443e64a965d55cef285ce2b7a4b767ba&quot; style=&quot;width: 100.0%; height: 100.0%;&quot;&gt;PHX&lt;/div&gt;`)[0];\n",
       "                popup_ab988f98ab819dc41b019e2b599133a0.setContent(html_443e64a965d55cef285ce2b7a4b767ba);\n",
       "            \n",
       "        \n",
       "\n",
       "        marker_2a3e76e7d9ff5e2f87ae5529a0b2f6ff.bindPopup(popup_ab988f98ab819dc41b019e2b599133a0)\n",
       "        ;\n",
       "\n",
       "        \n",
       "    \n",
       "    \n",
       "            var marker_93c223b9c812e226268fe22f0d781049 = L.marker(\n",
       "                [33.9424963888889, -118.408048611111],\n",
       "                {}\n",
       "            ).addTo(map_e29d49b807dab40e656704a184738d5d);\n",
       "        \n",
       "    \n",
       "        var popup_b1f71efb9500c98ba56c846d49e07ada = L.popup({&quot;maxWidth&quot;: &quot;100%&quot;});\n",
       "\n",
       "        \n",
       "            \n",
       "                var html_f2992219668cf65a3681287da8c8c3a7 = $(`&lt;div id=&quot;html_f2992219668cf65a3681287da8c8c3a7&quot; style=&quot;width: 100.0%; height: 100.0%;&quot;&gt;LAX&lt;/div&gt;`)[0];\n",
       "                popup_b1f71efb9500c98ba56c846d49e07ada.setContent(html_f2992219668cf65a3681287da8c8c3a7);\n",
       "            \n",
       "        \n",
       "\n",
       "        marker_93c223b9c812e226268fe22f0d781049.bindPopup(popup_b1f71efb9500c98ba56c846d49e07ada)\n",
       "        ;\n",
       "\n",
       "        \n",
       "    \n",
       "    \n",
       "            var poly_line_3c6c53189b0b0c372a1f0521b466b6bf = L.polyline(\n",
       "                [[40.6924798333333, -74.1686867777778], [41.7859722222222, -87.7524166666667], [33.4342777777778, -112.011583333333], [33.9424963888889, -118.408048611111]],\n",
       "                {&quot;bubblingMouseEvents&quot;: true, &quot;color&quot;: &quot;red&quot;, &quot;dashArray&quot;: null, &quot;dashOffset&quot;: null, &quot;fill&quot;: false, &quot;fillColor&quot;: &quot;red&quot;, &quot;fillOpacity&quot;: 0.2, &quot;fillRule&quot;: &quot;evenodd&quot;, &quot;lineCap&quot;: &quot;round&quot;, &quot;lineJoin&quot;: &quot;round&quot;, &quot;noClip&quot;: false, &quot;opacity&quot;: 1.0, &quot;smoothFactor&quot;: 1.0, &quot;stroke&quot;: true, &quot;weight&quot;: 3}\n",
       "            ).addTo(map_e29d49b807dab40e656704a184738d5d);\n",
       "        \n",
       "&lt;/script&gt;\n",
       "&lt;/html&gt;\" style=\"position:absolute;width:100%;height:100%;left:0;top:0;border:none !important;\" allowfullscreen webkitallowfullscreen mozallowfullscreen></iframe></div></div>"
      ],
      "text/plain": [
       "<folium.folium.Map at 0x1630ff4cd50>"
      ]
     },
     "execution_count": 38,
     "metadata": {},
     "output_type": "execute_result"
    }
   ],
   "source": [
    "import folium \n",
    "\n",
    "# Define the coordinates for each airport\n",
    "ewr_coords = [airports['EWR']['lat'], airports['EWR']['lon']]\n",
    "lax_coords = [airports['LAX']['lat'], airports['LAX']['lon']]\n",
    "mdw_coords = [airports['MDW']['lat'], airports['MDW']['lon']]\n",
    "phx_coords = [airports['PHX']['lat'], airports['PHX']['lon']]\n",
    "\n",
    "# Create a map centered on the first airport\n",
    "map = folium.Map(location=ewr_coords, zoom_start=3, width=700, height=400)\n",
    "\n",
    "# Add markers for each airport on the route\n",
    "folium.Marker(location=ewr_coords, popup=\"EWR\").add_to(map)\n",
    "folium.Marker(location=mdw_coords, popup=\"MDW\").add_to(map)\n",
    "folium.Marker(location=phx_coords, popup=\"PHX\").add_to(map)\n",
    "folium.Marker(location=lax_coords, popup=\"LAX\").add_to(map)\n",
    "\n",
    "# Connect the markers with a polyline\n",
    "folium.PolyLine(locations=[ewr_coords, mdw_coords, phx_coords,lax_coords], color='red').add_to(map)\n",
    "map"
   ]
  },
  {
   "cell_type": "code",
   "execution_count": 77,
   "metadata": {},
   "outputs": [],
   "source": [
    "def visualize_route(G, start_node, N):\n",
    "    # define a function to simulate a flight traversal for a sinl\n",
    "    current_node = start_node\n",
    "\n",
    "    # extract each attribute of the graph as a dict\n",
    "    profits=nx.get_edge_attributes(G,'net_profit')\n",
    "    cancel_prob=nx.get_edge_attributes(G,'CANCELLED')\n",
    "    citypair=nx.get_edge_attributes(G,'citypair')\n",
    "\n",
    "    total_profits = []\n",
    "    total_dept_delays = []\n",
    "    total_arrival_delays = []\n",
    "    number_of_cancel = 0\n",
    "\n",
    "    number_of_legs = []\n",
    "\n",
    "    visited_airports = [start_node]\n",
    "\n",
    "    for i in range(N):\n",
    "        # get all adjacent nodes of the current node\n",
    "        adj_nodes = list(G.neighbors(current_node))\n",
    "        # randomly select a flight route given the transition probability \n",
    "        demand=nx.get_edge_attributes(p_2_p_Graph,'Demand_prop')\n",
    "        node_demand_probs = [demand[i] for i in list(p_2_p_Graph.edges(current_node))] \n",
    "        node_demand_probs = node_demand_probs / np.sum(node_demand_probs)\n",
    "        next_ind = np.random.choice(np.arange(len(node_demand_probs)),size=1, p=node_demand_probs.astype(float))\n",
    "        next_node = adj_nodes[next_ind[0]]\n",
    "\n",
    "        # calculate the profit of the flight route\n",
    "        profit = profits[(current_node,next_node)]\n",
    "        total_profits.append(profit)\n",
    "        # extract \n",
    "        # randomly simulate a delay time from the distribution\n",
    "        code = citypair[(current_node,next_node)]\n",
    "        try:\n",
    "            dept_delay_time = random_samples(code, 'DEP_DELAY_NEW')[0]\n",
    "            arr_delay_time = random_samples(code, 'ARR_DELAY_NEW')[0]\n",
    "        except:\n",
    "            dept_delay_time = 0\n",
    "            arr_delay_time = 0\n",
    "\n",
    "        total_dept_delays.append(dept_delay_time)\n",
    "        total_arrival_delays.append(arr_delay_time)\n",
    "\n",
    "        cancel_p = cancel_prob[(current_node,next_node)]\n",
    "        # returns a bernoulli 0 or 1 value\n",
    "        r = bernoulli.rvs(p=cancel_p, size=1)[0]\n",
    "        number_of_cancel += r\n",
    "        # move to the next node\n",
    "        current_node = next_node\n",
    "        visited_airports.append(next_node)\n",
    "        number_of_legs.append(i+1)\n",
    "        # return the profit generated by the flight traversal\n",
    "\n",
    "        # visualize the route\n",
    "    # store the long and lat coordinates\n",
    "    locations_stored = []\n",
    "    for j in visited_airports:\n",
    "        coords = [airports[j]['lat'], airports[j]['lon']]\n",
    "        locations_stored.append(coords)\n",
    "    print('Cancelled Flights on this route:', number_of_cancel)\n",
    "    print('Total Departure Delay Time on this route:', sum(total_dept_delays))\n",
    "    print('Total Arrival Delay Time on this route:', sum(total_arrival_delays))\n",
    "    print('Profit generated', sum(total_profits))\n",
    "    print('Avg Profit on each leg', np.mean(total_profits))\n",
    "    print('Path:', visited_airports)\n",
    "\n",
    "    map = folium.Map(location=locations_stored[0], zoom_start=3, width=700, height=400)\n",
    "    # Add markers for each airport on the route\n",
    "    folium.Marker(location=locations_stored[0], popup=visited_airports[0]).add_to(map)\n",
    "    folium.Marker(location=locations_stored[-1], popup=visited_airports[-1]).add_to(map)\n",
    "    folium.PolyLine(locations=locations_stored, color='red').add_to(map)\n",
    "    #display map\n",
    "    return map "
   ]
  },
  {
   "cell_type": "code",
   "execution_count": 82,
   "metadata": {},
   "outputs": [
    {
     "name": "stdout",
     "output_type": "stream",
     "text": [
      "Cancelled Flights on this route: 0\n",
      "Total Departure Delay Time on this route: 50.732341653835455\n",
      "Total Arrival Delay Time on this route: 197.3891583615041\n",
      "Profit generated 9858794.27051229\n",
      "Avg Profit on each leg 1971758.854102458\n",
      "Path: ['MDW', 'LAS', 'MKE', 'PHX', 'LAS', 'LIT']\n"
     ]
    },
    {
     "data": {
      "text/html": [
       "<div style=\"width:100%;\"><div style=\"position:relative;width:100%;height:0;padding-bottom:60%;\"><span style=\"color:#565656\">Make this Notebook Trusted to load map: File -> Trust Notebook</span><iframe srcdoc=\"&lt;!DOCTYPE html&gt;\n",
       "&lt;html&gt;\n",
       "&lt;head&gt;\n",
       "    \n",
       "    &lt;meta http-equiv=&quot;content-type&quot; content=&quot;text/html; charset=UTF-8&quot; /&gt;\n",
       "    \n",
       "        &lt;script&gt;\n",
       "            L_NO_TOUCH = false;\n",
       "            L_DISABLE_3D = false;\n",
       "        &lt;/script&gt;\n",
       "    \n",
       "    &lt;style&gt;html, body {width: 100%;height: 100%;margin: 0;padding: 0;}&lt;/style&gt;\n",
       "    &lt;style&gt;#map {position:absolute;top:0;bottom:0;right:0;left:0;}&lt;/style&gt;\n",
       "    &lt;script src=&quot;https://cdn.jsdelivr.net/npm/leaflet@1.9.3/dist/leaflet.js&quot;&gt;&lt;/script&gt;\n",
       "    &lt;script src=&quot;https://code.jquery.com/jquery-1.12.4.min.js&quot;&gt;&lt;/script&gt;\n",
       "    &lt;script src=&quot;https://cdn.jsdelivr.net/npm/bootstrap@5.2.2/dist/js/bootstrap.bundle.min.js&quot;&gt;&lt;/script&gt;\n",
       "    &lt;script src=&quot;https://cdnjs.cloudflare.com/ajax/libs/Leaflet.awesome-markers/2.0.2/leaflet.awesome-markers.js&quot;&gt;&lt;/script&gt;\n",
       "    &lt;link rel=&quot;stylesheet&quot; href=&quot;https://cdn.jsdelivr.net/npm/leaflet@1.9.3/dist/leaflet.css&quot;/&gt;\n",
       "    &lt;link rel=&quot;stylesheet&quot; href=&quot;https://cdn.jsdelivr.net/npm/bootstrap@5.2.2/dist/css/bootstrap.min.css&quot;/&gt;\n",
       "    &lt;link rel=&quot;stylesheet&quot; href=&quot;https://netdna.bootstrapcdn.com/bootstrap/3.0.0/css/bootstrap.min.css&quot;/&gt;\n",
       "    &lt;link rel=&quot;stylesheet&quot; href=&quot;https://cdn.jsdelivr.net/npm/@fortawesome/fontawesome-free@6.2.0/css/all.min.css&quot;/&gt;\n",
       "    &lt;link rel=&quot;stylesheet&quot; href=&quot;https://cdnjs.cloudflare.com/ajax/libs/Leaflet.awesome-markers/2.0.2/leaflet.awesome-markers.css&quot;/&gt;\n",
       "    &lt;link rel=&quot;stylesheet&quot; href=&quot;https://cdn.jsdelivr.net/gh/python-visualization/folium/folium/templates/leaflet.awesome.rotate.min.css&quot;/&gt;\n",
       "    \n",
       "            &lt;meta name=&quot;viewport&quot; content=&quot;width=device-width,\n",
       "                initial-scale=1.0, maximum-scale=1.0, user-scalable=no&quot; /&gt;\n",
       "            &lt;style&gt;\n",
       "                #map_fa7d303d461ba18149e9502d72ac28ff {\n",
       "                    position: relative;\n",
       "                    width: 700.0px;\n",
       "                    height: 400.0px;\n",
       "                    left: 0.0%;\n",
       "                    top: 0.0%;\n",
       "                }\n",
       "                .leaflet-container { font-size: 1rem; }\n",
       "            &lt;/style&gt;\n",
       "        \n",
       "&lt;/head&gt;\n",
       "&lt;body&gt;\n",
       "    \n",
       "    \n",
       "            &lt;div class=&quot;folium-map&quot; id=&quot;map_fa7d303d461ba18149e9502d72ac28ff&quot; &gt;&lt;/div&gt;\n",
       "        \n",
       "&lt;/body&gt;\n",
       "&lt;script&gt;\n",
       "    \n",
       "    \n",
       "            var map_fa7d303d461ba18149e9502d72ac28ff = L.map(\n",
       "                &quot;map_fa7d303d461ba18149e9502d72ac28ff&quot;,\n",
       "                {\n",
       "                    center: [41.7859722222222, -87.7524166666667],\n",
       "                    crs: L.CRS.EPSG3857,\n",
       "                    zoom: 3,\n",
       "                    zoomControl: true,\n",
       "                    preferCanvas: false,\n",
       "                }\n",
       "            );\n",
       "\n",
       "            \n",
       "\n",
       "        \n",
       "    \n",
       "            var tile_layer_2e5557cfd309b1d363bdd4dd78f22465 = L.tileLayer(\n",
       "                &quot;https://{s}.tile.openstreetmap.org/{z}/{x}/{y}.png&quot;,\n",
       "                {&quot;attribution&quot;: &quot;Data by \\u0026copy; \\u003ca target=\\&quot;_blank\\&quot; href=\\&quot;http://openstreetmap.org\\&quot;\\u003eOpenStreetMap\\u003c/a\\u003e, under \\u003ca target=\\&quot;_blank\\&quot; href=\\&quot;http://www.openstreetmap.org/copyright\\&quot;\\u003eODbL\\u003c/a\\u003e.&quot;, &quot;detectRetina&quot;: false, &quot;maxNativeZoom&quot;: 18, &quot;maxZoom&quot;: 18, &quot;minZoom&quot;: 0, &quot;noWrap&quot;: false, &quot;opacity&quot;: 1, &quot;subdomains&quot;: &quot;abc&quot;, &quot;tms&quot;: false}\n",
       "            ).addTo(map_fa7d303d461ba18149e9502d72ac28ff);\n",
       "        \n",
       "    \n",
       "            var marker_0543c341202f38f298dc87b7a56f35e7 = L.marker(\n",
       "                [41.7859722222222, -87.7524166666667],\n",
       "                {}\n",
       "            ).addTo(map_fa7d303d461ba18149e9502d72ac28ff);\n",
       "        \n",
       "    \n",
       "        var popup_3d21649aed0c4e603c714e4ee13fd1f1 = L.popup({&quot;maxWidth&quot;: &quot;100%&quot;});\n",
       "\n",
       "        \n",
       "            \n",
       "                var html_c2b62ffb49f3841d9740aeace7a7e063 = $(`&lt;div id=&quot;html_c2b62ffb49f3841d9740aeace7a7e063&quot; style=&quot;width: 100.0%; height: 100.0%;&quot;&gt;MDW&lt;/div&gt;`)[0];\n",
       "                popup_3d21649aed0c4e603c714e4ee13fd1f1.setContent(html_c2b62ffb49f3841d9740aeace7a7e063);\n",
       "            \n",
       "        \n",
       "\n",
       "        marker_0543c341202f38f298dc87b7a56f35e7.bindPopup(popup_3d21649aed0c4e603c714e4ee13fd1f1)\n",
       "        ;\n",
       "\n",
       "        \n",
       "    \n",
       "    \n",
       "            var marker_54bc8221b9829e053e1eed50e0f1760d = L.marker(\n",
       "                [34.7294413888889, -92.2247772222222],\n",
       "                {}\n",
       "            ).addTo(map_fa7d303d461ba18149e9502d72ac28ff);\n",
       "        \n",
       "    \n",
       "        var popup_8a4e32aad758402e976cf677d81f1fd8 = L.popup({&quot;maxWidth&quot;: &quot;100%&quot;});\n",
       "\n",
       "        \n",
       "            \n",
       "                var html_c6413c6acdcaabe94ca7595447ccfe03 = $(`&lt;div id=&quot;html_c6413c6acdcaabe94ca7595447ccfe03&quot; style=&quot;width: 100.0%; height: 100.0%;&quot;&gt;LIT&lt;/div&gt;`)[0];\n",
       "                popup_8a4e32aad758402e976cf677d81f1fd8.setContent(html_c6413c6acdcaabe94ca7595447ccfe03);\n",
       "            \n",
       "        \n",
       "\n",
       "        marker_54bc8221b9829e053e1eed50e0f1760d.bindPopup(popup_8a4e32aad758402e976cf677d81f1fd8)\n",
       "        ;\n",
       "\n",
       "        \n",
       "    \n",
       "    \n",
       "            var poly_line_f59e92c25c17f292c26491f0e3f66453 = L.polyline(\n",
       "                [[41.7859722222222, -87.7524166666667], [36.0800438888889, -115.152234722222], [42.9469319444444, -87.8970644444445], [33.4342777777778, -112.011583333333], [36.0800438888889, -115.152234722222], [34.7294413888889, -92.2247772222222]],\n",
       "                {&quot;bubblingMouseEvents&quot;: true, &quot;color&quot;: &quot;red&quot;, &quot;dashArray&quot;: null, &quot;dashOffset&quot;: null, &quot;fill&quot;: false, &quot;fillColor&quot;: &quot;red&quot;, &quot;fillOpacity&quot;: 0.2, &quot;fillRule&quot;: &quot;evenodd&quot;, &quot;lineCap&quot;: &quot;round&quot;, &quot;lineJoin&quot;: &quot;round&quot;, &quot;noClip&quot;: false, &quot;opacity&quot;: 1.0, &quot;smoothFactor&quot;: 1.0, &quot;stroke&quot;: true, &quot;weight&quot;: 3}\n",
       "            ).addTo(map_fa7d303d461ba18149e9502d72ac28ff);\n",
       "        \n",
       "&lt;/script&gt;\n",
       "&lt;/html&gt;\" style=\"position:absolute;width:100%;height:100%;left:0;top:0;border:none !important;\" allowfullscreen webkitallowfullscreen mozallowfullscreen></iframe></div></div>"
      ],
      "text/plain": [
       "<folium.folium.Map at 0x16345271610>"
      ]
     },
     "execution_count": 82,
     "metadata": {},
     "output_type": "execute_result"
    }
   ],
   "source": [
    "visualize_route(p_2_p_Graph, 'MDW', 5)"
   ]
  },
  {
   "attachments": {},
   "cell_type": "markdown",
   "metadata": {},
   "source": [
    "### Interesting Findings"
   ]
  }
 ],
 "metadata": {
  "kernelspec": {
   "display_name": "Python 3",
   "language": "python",
   "name": "python3"
  },
  "language_info": {
   "codemirror_mode": {
    "name": "ipython",
    "version": 3
   },
   "file_extension": ".py",
   "mimetype": "text/x-python",
   "name": "python",
   "nbconvert_exporter": "python",
   "pygments_lexer": "ipython3",
   "version": "3.11.0"
  },
  "orig_nbformat": 4
 },
 "nbformat": 4,
 "nbformat_minor": 2
}
